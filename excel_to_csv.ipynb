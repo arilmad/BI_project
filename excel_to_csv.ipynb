{
 "cells": [
  {
   "cell_type": "code",
   "execution_count": null,
   "metadata": {},
   "outputs": [],
   "source": [
    "import os\n",
    "import pandas as pd\n",
    "\n",
    "source_folder = 'belastning_nettstasjon'\n",
    "files = os.listdir(source_folder)\n",
    "files = [f for f in files if f.split('.')[-1]=='xlsx']\n",
    "\n",
    "for file in files:\n",
    "    path = os.path.join(source_folder, file)\n",
    "    df = pd.read_excel(path, skiprows=2)\n",
    "    df.to_csv(os.path.join(source_folder, file.strip('.xlsx')+'.csv'))"
   ]
  }
 ],
 "metadata": {
  "kernelspec": {
   "display_name": "Python 3",
   "language": "python",
   "name": "python3"
  },
  "language_info": {
   "codemirror_mode": {
    "name": "ipython",
    "version": 3
   },
   "file_extension": ".py",
   "mimetype": "text/x-python",
   "name": "python",
   "nbconvert_exporter": "python",
   "pygments_lexer": "ipython3",
   "version": "3.7.2"
  }
 },
 "nbformat": 4,
 "nbformat_minor": 4
}
