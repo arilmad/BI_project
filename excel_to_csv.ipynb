{
 "cells": [
  {
   "cell_type": "code",
   "execution_count": null,
   "metadata": {},
   "outputs": [],
   "source": [
    "from glob import glob\n",
    "import pandas as pd\n",
    "\n",
    "origin_folder = 'raw//belastning_nettstasjon'\n",
    "\n",
    "for file_path in glob(origin_folder + '//*.xlsx'):\n",
    "    \n",
    "    df = pd.read_excel(file_path, skiprows=2)\n",
    "    df.to_csv(file_path.strip('.xlsx') + '.csv')\n",
    "    print(f'Transformed {file_path} to csv!')"
   ]
  }
 ],
 "metadata": {
  "kernelspec": {
   "display_name": "Python 3",
   "language": "python",
   "name": "python3"
  },
  "language_info": {
   "codemirror_mode": {
    "name": "ipython",
    "version": 3
   },
   "file_extension": ".py",
   "mimetype": "text/x-python",
   "name": "python",
   "nbconvert_exporter": "python",
   "pygments_lexer": "ipython3",
   "version": "3.7.2"
  }
 },
 "nbformat": 4,
 "nbformat_minor": 4
}
