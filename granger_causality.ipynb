{
 "cells": [
  {
   "cell_type": "markdown",
   "metadata": {},
   "source": [
    "Test inspired by the workflow of these articles:\n",
    "\n",
    "* https://www.machinelearningplus.com/time-series/vector-autoregression-examples-python/\n",
    "* https://towardsdatascience.com/granger-causality-and-vector-auto-regressive-model-for-time-series-forecasting-3226a64889a6"
   ]
  },
  {
   "cell_type": "markdown",
   "metadata": {},
   "source": [
    "Granger’s causality tests the null hypothesis that the coefficients of past values in the regression equation is zero."
   ]
  },
  {
   "cell_type": "code",
   "execution_count": 1,
   "metadata": {},
   "outputs": [],
   "source": [
    "import pandas as pd\n",
    "import numpy as np\n",
    "from matplotlib import pyplot as plt\n",
    "%matplotlib inline"
   ]
  },
  {
   "cell_type": "code",
   "execution_count": 2,
   "metadata": {},
   "outputs": [],
   "source": [
    "df_raw = pd.read_csv('cleansed_data//all_consumption_metadata.csv', index_col=0, parse_dates=True,\n",
    "                    dtype={'loc_id': 'str', 'consumption_kvah':'float32', 'temperature':'float32', \n",
    "                           'el_price':'float32', 'oil_price':'float32'})"
   ]
  },
  {
   "cell_type": "code",
   "execution_count": 3,
   "metadata": {},
   "outputs": [
    {
     "data": {
      "text/html": [
       "<div>\n",
       "<style scoped>\n",
       "    .dataframe tbody tr th:only-of-type {\n",
       "        vertical-align: middle;\n",
       "    }\n",
       "\n",
       "    .dataframe tbody tr th {\n",
       "        vertical-align: top;\n",
       "    }\n",
       "\n",
       "    .dataframe thead th {\n",
       "        text-align: right;\n",
       "    }\n",
       "</style>\n",
       "<table border=\"1\" class=\"dataframe\">\n",
       "  <thead>\n",
       "    <tr style=\"text-align: right;\">\n",
       "      <th></th>\n",
       "      <th>loc_id</th>\n",
       "      <th>consumption_kvah</th>\n",
       "      <th>temperature</th>\n",
       "      <th>el_price</th>\n",
       "      <th>oil_price</th>\n",
       "    </tr>\n",
       "    <tr>\n",
       "      <th>time</th>\n",
       "      <th></th>\n",
       "      <th></th>\n",
       "      <th></th>\n",
       "      <th></th>\n",
       "      <th></th>\n",
       "    </tr>\n",
       "  </thead>\n",
       "  <tbody>\n",
       "    <tr>\n",
       "      <th>2018-01-01 00:00:00</th>\n",
       "      <td>0</td>\n",
       "      <td>27.0</td>\n",
       "      <td>5.5</td>\n",
       "      <td>258.01001</td>\n",
       "      <td>543.415771</td>\n",
       "    </tr>\n",
       "    <tr>\n",
       "      <th>2018-01-01 01:00:00</th>\n",
       "      <td>0</td>\n",
       "      <td>27.5</td>\n",
       "      <td>5.0</td>\n",
       "      <td>258.98999</td>\n",
       "      <td>543.415771</td>\n",
       "    </tr>\n",
       "    <tr>\n",
       "      <th>2018-01-01 02:00:00</th>\n",
       "      <td>0</td>\n",
       "      <td>27.0</td>\n",
       "      <td>4.8</td>\n",
       "      <td>255.75000</td>\n",
       "      <td>543.415771</td>\n",
       "    </tr>\n",
       "  </tbody>\n",
       "</table>\n",
       "</div>"
      ],
      "text/plain": [
       "                    loc_id  consumption_kvah  temperature   el_price  \\\n",
       "time                                                                   \n",
       "2018-01-01 00:00:00      0              27.0          5.5  258.01001   \n",
       "2018-01-01 01:00:00      0              27.5          5.0  258.98999   \n",
       "2018-01-01 02:00:00      0              27.0          4.8  255.75000   \n",
       "\n",
       "                      oil_price  \n",
       "time                             \n",
       "2018-01-01 00:00:00  543.415771  \n",
       "2018-01-01 01:00:00  543.415771  \n",
       "2018-01-01 02:00:00  543.415771  "
      ]
     },
     "execution_count": 3,
     "metadata": {},
     "output_type": "execute_result"
    }
   ],
   "source": [
    "df_raw.head(3)"
   ]
  },
  {
   "cell_type": "code",
   "execution_count": 4,
   "metadata": {},
   "outputs": [],
   "source": [
    "d = {}\n",
    "loc_ids = df_raw.loc_id.unique()\n",
    "\n",
    "for loc in loc_ids: d[loc] = df_raw[df_raw['loc_id']==loc]"
   ]
  },
  {
   "cell_type": "markdown",
   "metadata": {},
   "source": [
    "## 1 make series stationary"
   ]
  },
  {
   "cell_type": "code",
   "execution_count": 5,
   "metadata": {},
   "outputs": [
    {
     "data": {
      "text/html": [
       "<div>\n",
       "<style scoped>\n",
       "    .dataframe tbody tr th:only-of-type {\n",
       "        vertical-align: middle;\n",
       "    }\n",
       "\n",
       "    .dataframe tbody tr th {\n",
       "        vertical-align: top;\n",
       "    }\n",
       "\n",
       "    .dataframe thead th {\n",
       "        text-align: right;\n",
       "    }\n",
       "</style>\n",
       "<table border=\"1\" class=\"dataframe\">\n",
       "  <thead>\n",
       "    <tr style=\"text-align: right;\">\n",
       "      <th></th>\n",
       "      <th>consumption_kvah</th>\n",
       "      <th>temperature</th>\n",
       "      <th>el_price</th>\n",
       "    </tr>\n",
       "    <tr>\n",
       "      <th>time</th>\n",
       "      <th></th>\n",
       "      <th></th>\n",
       "      <th></th>\n",
       "    </tr>\n",
       "  </thead>\n",
       "  <tbody>\n",
       "    <tr>\n",
       "      <th>2018-01-01 00:00:00</th>\n",
       "      <td>27.0</td>\n",
       "      <td>5.5</td>\n",
       "      <td>258.01001</td>\n",
       "    </tr>\n",
       "    <tr>\n",
       "      <th>2018-01-01 01:00:00</th>\n",
       "      <td>27.5</td>\n",
       "      <td>5.0</td>\n",
       "      <td>258.98999</td>\n",
       "    </tr>\n",
       "    <tr>\n",
       "      <th>2018-01-01 02:00:00</th>\n",
       "      <td>27.0</td>\n",
       "      <td>4.8</td>\n",
       "      <td>255.75000</td>\n",
       "    </tr>\n",
       "  </tbody>\n",
       "</table>\n",
       "</div>"
      ],
      "text/plain": [
       "                     consumption_kvah  temperature   el_price\n",
       "time                                                         \n",
       "2018-01-01 00:00:00              27.0          5.5  258.01001\n",
       "2018-01-01 01:00:00              27.5          5.0  258.98999\n",
       "2018-01-01 02:00:00              27.0          4.8  255.75000"
      ]
     },
     "execution_count": 5,
     "metadata": {},
     "output_type": "execute_result"
    }
   ],
   "source": [
    "subset = d['0'].drop(['loc_id', 'oil_price'], axis=1)\n",
    "subset.head(3)"
   ]
  },
  {
   "cell_type": "code",
   "execution_count": 6,
   "metadata": {},
   "outputs": [],
   "source": [
    "from statsmodels.tsa.stattools import adfuller"
   ]
  },
  {
   "cell_type": "code",
   "execution_count": 7,
   "metadata": {},
   "outputs": [],
   "source": [
    "def pprint_adfuller(results):\n",
    "    \"\"\"\n",
    "    The null hypothesis of the Augmented Dickey-Fuller is that \n",
    "    there _is_ a unit root, with the alternative that there is no\n",
    "    unit root. If the pvalue is above a critical size, then we \n",
    "    cannot reject that there is a unit root. \n",
    "    \n",
    "    I.e. Test statistics < Critical value implies stationary\n",
    "    times series.\n",
    "    \"\"\"\n",
    "    print('Dickey-Fuller test results:')\n",
    "    print(f'Test statistics:\\t{results[0]:.4f}')\n",
    "    print(f\"\"\"Critical value 5%:\\t{results[4]['5%']:.4f}\"\"\")"
   ]
  },
  {
   "cell_type": "code",
   "execution_count": 8,
   "metadata": {},
   "outputs": [],
   "source": [
    "diff_subset = subset - subset.shift(-24)\n",
    "diff_subset = diff_subset.resample('M').mean().dropna()"
   ]
  },
  {
   "cell_type": "code",
   "execution_count": 9,
   "metadata": {},
   "outputs": [
    {
     "name": "stdout",
     "output_type": "stream",
     "text": [
      "Dickey-Fuller test results:\n",
      "Test statistics:\t-3.2978\n",
      "Critical value 5%:\t-3.0685\n"
     ]
    }
   ],
   "source": [
    "diff_t = adfuller(diff_subset['temperature'])\n",
    "pprint_adfuller(diff_t)"
   ]
  },
  {
   "cell_type": "code",
   "execution_count": 10,
   "metadata": {},
   "outputs": [
    {
     "name": "stdout",
     "output_type": "stream",
     "text": [
      "Dickey-Fuller test results:\n",
      "Test statistics:\t-5.2207\n",
      "Critical value 5%:\t-2.9865\n"
     ]
    }
   ],
   "source": [
    "diff_e = adfuller(diff_subset['el_price'])\n",
    "pprint_adfuller(diff_e)"
   ]
  },
  {
   "cell_type": "code",
   "execution_count": 11,
   "metadata": {},
   "outputs": [
    {
     "name": "stdout",
     "output_type": "stream",
     "text": [
      "Dickey-Fuller test results:\n",
      "Test statistics:\t-3.4865\n",
      "Critical value 5%:\t-2.9865\n"
     ]
    }
   ],
   "source": [
    "diff_c = adfuller(diff_subset['consumption_kvah'])\n",
    "pprint_adfuller(diff_c)"
   ]
  },
  {
   "cell_type": "code",
   "execution_count": 12,
   "metadata": {},
   "outputs": [],
   "source": [
    "from statsmodels.tsa.stattools import grangercausalitytests"
   ]
  },
  {
   "cell_type": "markdown",
   "metadata": {},
   "source": [
    "Wang, Professor Wei. (2013). Vertical Specialization and Trade Surplus in China: Chandos Asian Studies Series 48 (Chandos Asian Studies Series 1). Chandos Publishing."
   ]
  },
  {
   "cell_type": "code",
   "execution_count": 13,
   "metadata": {},
   "outputs": [],
   "source": [
    "def granger_matrix(dataframe, maxlag=6):\n",
    "    \"\"\"\n",
    "    \n",
    "    \"\"\"\n",
    "    \n",
    "    df = pd.DataFrame(columns=dataframe.columns, index=dataframe.columns)\n",
    "    for s in dataframe:\n",
    "        for t in dataframe:\n",
    "            r = grangercausalitytests(dataframe[[s, t]], maxlag=maxlag, verbose=False)\n",
    "            df.loc[s, t] = min([f\"\"\"{v[0]['ssr_ftest'][1]:.4f}\"\"\" for _, v in r.items()])\n",
    "            \n",
    "    return df"
   ]
  },
  {
   "cell_type": "code",
   "execution_count": 14,
   "metadata": {},
   "outputs": [
    {
     "data": {
      "text/html": [
       "<div>\n",
       "<style scoped>\n",
       "    .dataframe tbody tr th:only-of-type {\n",
       "        vertical-align: middle;\n",
       "    }\n",
       "\n",
       "    .dataframe tbody tr th {\n",
       "        vertical-align: top;\n",
       "    }\n",
       "\n",
       "    .dataframe thead th {\n",
       "        text-align: right;\n",
       "    }\n",
       "</style>\n",
       "<table border=\"1\" class=\"dataframe\">\n",
       "  <thead>\n",
       "    <tr style=\"text-align: right;\">\n",
       "      <th></th>\n",
       "      <th>consumption_kvah</th>\n",
       "      <th>temperature</th>\n",
       "      <th>el_price</th>\n",
       "    </tr>\n",
       "  </thead>\n",
       "  <tbody>\n",
       "    <tr>\n",
       "      <th>consumption_kvah</th>\n",
       "      <td>1.0000</td>\n",
       "      <td>0.4705</td>\n",
       "      <td>0.1359</td>\n",
       "    </tr>\n",
       "    <tr>\n",
       "      <th>temperature</th>\n",
       "      <td>0.6728</td>\n",
       "      <td>1.0000</td>\n",
       "      <td>0.4038</td>\n",
       "    </tr>\n",
       "    <tr>\n",
       "      <th>el_price</th>\n",
       "      <td>0.2062</td>\n",
       "      <td>0.0196</td>\n",
       "      <td>1.0000</td>\n",
       "    </tr>\n",
       "  </tbody>\n",
       "</table>\n",
       "</div>"
      ],
      "text/plain": [
       "                 consumption_kvah temperature el_price\n",
       "consumption_kvah           1.0000      0.4705   0.1359\n",
       "temperature                0.6728      1.0000   0.4038\n",
       "el_price                   0.2062      0.0196   1.0000"
      ]
     },
     "execution_count": 14,
     "metadata": {},
     "output_type": "execute_result"
    }
   ],
   "source": [
    "granger_matrix(diff_subset, maxlag=7)"
   ]
  },
  {
   "cell_type": "markdown",
   "metadata": {},
   "source": [
    "Cool!"
   ]
  },
  {
   "cell_type": "code",
   "execution_count": 15,
   "metadata": {},
   "outputs": [],
   "source": [
    "granger_matrices = {}\n",
    "\n",
    "for loc, df in d.items():\n",
    "    subset = df.copy().drop(['loc_id', 'oil_price'], axis=1)\n",
    "    \n",
    "    diff_subset = subset - subset.shift(-24)\n",
    "    diff_subset = diff_subset.resample('M').mean().dropna()\n",
    "    \n",
    "    maxlag = int((diff_subset.shape[0] - 1) / 3) - 1\n",
    "    granger_matrices[loc] = granger_matrix(diff_subset, maxlag=maxlag)"
   ]
  },
  {
   "cell_type": "code",
   "execution_count": 16,
   "metadata": {},
   "outputs": [
    {
     "name": "stdout",
     "output_type": "stream",
     "text": [
      "P-values for customer 0\n",
      "                 consumption_kvah temperature el_price\n",
      "consumption_kvah           1.0000      0.4705   0.1359\n",
      "temperature                0.6728      1.0000   0.4038\n",
      "el_price                   0.2062      0.0196   1.0000\n",
      "\n",
      "P-values for customer 1\n",
      "                 consumption_kvah temperature el_price\n",
      "consumption_kvah           1.0000      0.5828   0.0992\n",
      "temperature                0.2452      1.0000   0.5881\n",
      "el_price                   0.1390      0.0082   1.0000\n",
      "\n",
      "P-values for customer 3\n",
      "                 consumption_kvah temperature el_price\n",
      "consumption_kvah           1.0000      0.0067   0.1714\n",
      "temperature                0.1797      1.0000   0.5455\n",
      "el_price                   0.1100      0.0151   1.0000\n",
      "\n",
      "P-values for customer 4\n",
      "                 consumption_kvah temperature el_price\n",
      "consumption_kvah           1.0000      0.0063   0.3117\n",
      "temperature                0.0000      1.0000   0.1860\n",
      "el_price                   0.2653      0.0002   1.0000\n",
      "\n",
      "P-values for customer 6\n",
      "                 consumption_kvah temperature el_price\n",
      "consumption_kvah           1.0000      0.2603   0.2256\n",
      "temperature                0.2276      1.0000   0.2323\n",
      "el_price                   0.2001      0.0214   1.0000\n",
      "\n",
      "P-values for customer 10\n",
      "                 consumption_kvah temperature el_price\n",
      "consumption_kvah           1.0000      0.0019   0.0911\n",
      "temperature                0.0950      1.0000   0.5118\n",
      "el_price                   0.0340      0.0276   1.0000\n",
      "\n",
      "P-values for customer 11\n",
      "                 consumption_kvah temperature el_price\n",
      "consumption_kvah           1.0000      0.0450   0.1062\n",
      "temperature                0.1187      1.0000   0.5118\n",
      "el_price                   0.5814      0.0276   1.0000\n",
      "\n",
      "P-values for customer 12\n",
      "                 consumption_kvah temperature el_price\n",
      "consumption_kvah           1.0000      0.1256   0.0174\n",
      "temperature                0.2424      1.0000   0.5881\n",
      "el_price                   0.2592      0.0082   1.0000\n",
      "\n",
      "P-values for customer 16\n",
      "                 consumption_kvah temperature el_price\n",
      "consumption_kvah           1.0000      0.3092   0.3210\n",
      "temperature                0.0753      1.0000   0.6040\n",
      "el_price                   0.2529      0.0380   1.0000\n",
      "\n",
      "P-values for customer 17\n",
      "                 consumption_kvah temperature el_price\n",
      "consumption_kvah           1.0000      0.3684   0.3295\n",
      "temperature                0.3017      1.0000   0.2523\n",
      "el_price                   0.1943      0.0004   1.0000\n",
      "\n",
      "P-values for customer 18\n",
      "                 consumption_kvah temperature el_price\n",
      "consumption_kvah           1.0000      0.0388   0.3275\n",
      "temperature                0.0871      1.0000   0.6301\n",
      "el_price                   0.1514      0.0057   1.0000\n",
      "\n",
      "P-values for customer 19\n",
      "                 consumption_kvah temperature el_price\n",
      "consumption_kvah           1.0000      0.1903   0.1789\n",
      "temperature                0.1095      1.0000   0.3697\n",
      "el_price                   0.1576      0.1135   1.0000\n",
      "\n",
      "P-values for customer 7\n",
      "                 consumption_kvah temperature el_price\n",
      "consumption_kvah           1.0000      0.3829   0.0223\n",
      "temperature                0.0080      1.0000   0.3574\n",
      "el_price                   0.0492      0.1099   1.0000\n",
      "\n",
      "P-values for customer 8\n",
      "                 consumption_kvah temperature el_price\n",
      "consumption_kvah           1.0000      0.5355   0.1089\n",
      "temperature                0.2818      1.0000   0.4355\n",
      "el_price                   0.4015      0.0032   1.0000\n",
      "\n",
      "P-values for customer 14\n",
      "                 consumption_kvah temperature el_price\n",
      "consumption_kvah           1.0000      0.4766   0.0243\n",
      "temperature                0.6396      1.0000   0.6499\n",
      "el_price                   0.5767      0.0151   1.0000\n",
      "\n",
      "P-values for customer 2\n",
      "                 consumption_kvah temperature el_price\n",
      "consumption_kvah           1.0000      0.4306   0.1567\n",
      "temperature                0.0972      1.0000   0.6685\n",
      "el_price                   0.0346      0.0136   1.0000\n",
      "\n",
      "P-values for customer 5\n",
      "                 consumption_kvah temperature el_price\n",
      "consumption_kvah           1.0000      0.1143   0.2370\n",
      "temperature                0.6956      1.0000   0.4492\n",
      "el_price                   0.1787      0.0108   1.0000\n",
      "\n",
      "P-values for customer 15\n",
      "                 consumption_kvah temperature el_price\n",
      "consumption_kvah           1.0000      0.4581   0.0662\n",
      "temperature                0.6702      1.0000   0.3284\n",
      "el_price                   0.1779      0.0193   1.0000\n",
      "\n",
      "P-values for customer 13\n",
      "                 consumption_kvah temperature el_price\n",
      "consumption_kvah           1.0000      0.6822   0.1375\n",
      "temperature                0.2424      1.0000   0.1866\n",
      "el_price                   0.4264      0.1066   1.0000\n",
      "\n",
      "P-values for customer 9\n",
      "                 consumption_kvah temperature el_price\n",
      "consumption_kvah           1.0000      0.6713   0.2106\n",
      "temperature                0.5773      1.0000   0.2479\n",
      "el_price                   0.5402      0.0203   1.0000\n",
      "\n"
     ]
    }
   ],
   "source": [
    "for k, v in granger_matrices.items():\n",
    "    print('P-values for customer', k)\n",
    "    print(v)\n",
    "    print()"
   ]
  },
  {
   "cell_type": "markdown",
   "metadata": {},
   "source": [
    "### Find out which hypotheses are rejected"
   ]
  },
  {
   "cell_type": "code",
   "execution_count": 17,
   "metadata": {},
   "outputs": [],
   "source": [
    "temp = []\n",
    "el = []\n",
    "\n",
    "for k, v in granger_matrices.items():\n",
    "\n",
    "    if float(v['temperature']['consumption_kvah']) < 0.05 : temp.append(k)\n",
    "    if float(v['el_price']['consumption_kvah']) < 0.05 : el.append(k)\n"
   ]
  },
  {
   "cell_type": "markdown",
   "metadata": {},
   "source": [
    "#### Temperature Granger causes consumption for..."
   ]
  },
  {
   "cell_type": "code",
   "execution_count": 18,
   "metadata": {},
   "outputs": [
    {
     "data": {
      "text/plain": [
       "['3', '4', '10', '11', '18']"
      ]
     },
     "execution_count": 18,
     "metadata": {},
     "output_type": "execute_result"
    }
   ],
   "source": [
    "temp"
   ]
  },
  {
   "cell_type": "markdown",
   "metadata": {},
   "source": [
    "#### El prices Granger cause consumption for..."
   ]
  },
  {
   "cell_type": "code",
   "execution_count": 19,
   "metadata": {},
   "outputs": [
    {
     "data": {
      "text/plain": [
       "['12', '7', '14']"
      ]
     },
     "execution_count": 19,
     "metadata": {},
     "output_type": "execute_result"
    }
   ],
   "source": [
    "el"
   ]
  },
  {
   "cell_type": "markdown",
   "metadata": {},
   "source": [
    "## Load oil and el prices"
   ]
  },
  {
   "cell_type": "code",
   "execution_count": 42,
   "metadata": {},
   "outputs": [],
   "source": [
    "oil_el = pd.read_csv('cleansed_data//oil_el.csv', index_col=0, parse_dates=True)"
   ]
  },
  {
   "cell_type": "code",
   "execution_count": 43,
   "metadata": {},
   "outputs": [
    {
     "data": {
      "text/html": [
       "<div>\n",
       "<style scoped>\n",
       "    .dataframe tbody tr th:only-of-type {\n",
       "        vertical-align: middle;\n",
       "    }\n",
       "\n",
       "    .dataframe tbody tr th {\n",
       "        vertical-align: top;\n",
       "    }\n",
       "\n",
       "    .dataframe thead th {\n",
       "        text-align: right;\n",
       "    }\n",
       "</style>\n",
       "<table border=\"1\" class=\"dataframe\">\n",
       "  <thead>\n",
       "    <tr style=\"text-align: right;\">\n",
       "      <th></th>\n",
       "      <th>weather_station</th>\n",
       "      <th>temperature</th>\n",
       "    </tr>\n",
       "  </thead>\n",
       "  <tbody>\n",
       "    <tr>\n",
       "      <th>2018-01-01 00:00:00</th>\n",
       "      <td>SN35210</td>\n",
       "      <td>-0.3</td>\n",
       "    </tr>\n",
       "    <tr>\n",
       "      <th>2018-01-01 01:00:00</th>\n",
       "      <td>SN35210</td>\n",
       "      <td>-0.5</td>\n",
       "    </tr>\n",
       "    <tr>\n",
       "      <th>2018-01-01 02:00:00</th>\n",
       "      <td>SN35210</td>\n",
       "      <td>-1.4</td>\n",
       "    </tr>\n",
       "  </tbody>\n",
       "</table>\n",
       "</div>"
      ],
      "text/plain": [
       "                    weather_station  temperature\n",
       "2018-01-01 00:00:00         SN35210         -0.3\n",
       "2018-01-01 01:00:00         SN35210         -0.5\n",
       "2018-01-01 02:00:00         SN35210         -1.4"
      ]
     },
     "execution_count": 43,
     "metadata": {},
     "output_type": "execute_result"
    }
   ],
   "source": [
    "w = pd.read_csv('cleansed_data//Weather.csv', index_col=0, parse_dates=True, dtype={'weather_station':'str', 'temperature':'float32'})\n",
    "w.head(3)"
   ]
  },
  {
   "cell_type": "markdown",
   "metadata": {},
   "source": [
    "### ...and include mean weather across all locations"
   ]
  },
  {
   "cell_type": "code",
   "execution_count": 44,
   "metadata": {},
   "outputs": [],
   "source": [
    "date_range = pd.date_range(start=min(w.index), end=max(w.index), freq='H')"
   ]
  },
  {
   "cell_type": "code",
   "execution_count": 45,
   "metadata": {},
   "outputs": [],
   "source": [
    "mean_weather = pd.DataFrame(index=date_range, columns=['temperature'])\n",
    "mean_weather['temperature'] = [np.nanmean(w.loc[ind]['temperature']) for ind in date_range]\n",
    "mean_weather = mean_weather.resample(rule='D').mean()"
   ]
  },
  {
   "cell_type": "code",
   "execution_count": 50,
   "metadata": {},
   "outputs": [
    {
     "data": {
      "text/html": [
       "<div>\n",
       "<style scoped>\n",
       "    .dataframe tbody tr th:only-of-type {\n",
       "        vertical-align: middle;\n",
       "    }\n",
       "\n",
       "    .dataframe tbody tr th {\n",
       "        vertical-align: top;\n",
       "    }\n",
       "\n",
       "    .dataframe thead th {\n",
       "        text-align: right;\n",
       "    }\n",
       "</style>\n",
       "<table border=\"1\" class=\"dataframe\">\n",
       "  <thead>\n",
       "    <tr style=\"text-align: right;\">\n",
       "      <th></th>\n",
       "      <th>temperature</th>\n",
       "      <th>price_oil</th>\n",
       "      <th>price_el</th>\n",
       "    </tr>\n",
       "  </thead>\n",
       "  <tbody>\n",
       "    <tr>\n",
       "      <th>2018-01-01</th>\n",
       "      <td>3.643561</td>\n",
       "      <td>543.41580</td>\n",
       "      <td>255.16250</td>\n",
       "    </tr>\n",
       "    <tr>\n",
       "      <th>2018-01-02</th>\n",
       "      <td>1.049621</td>\n",
       "      <td>542.76430</td>\n",
       "      <td>311.53000</td>\n",
       "    </tr>\n",
       "    <tr>\n",
       "      <th>2018-01-03</th>\n",
       "      <td>1.673485</td>\n",
       "      <td>552.40753</td>\n",
       "      <td>276.98834</td>\n",
       "    </tr>\n",
       "    <tr>\n",
       "      <th>2018-01-04</th>\n",
       "      <td>0.898864</td>\n",
       "      <td>556.86420</td>\n",
       "      <td>311.56293</td>\n",
       "    </tr>\n",
       "    <tr>\n",
       "      <th>2018-01-05</th>\n",
       "      <td>-0.243561</td>\n",
       "      <td>549.75885</td>\n",
       "      <td>304.32626</td>\n",
       "    </tr>\n",
       "  </tbody>\n",
       "</table>\n",
       "</div>"
      ],
      "text/plain": [
       "            temperature  price_oil   price_el\n",
       "2018-01-01     3.643561  543.41580  255.16250\n",
       "2018-01-02     1.049621  542.76430  311.53000\n",
       "2018-01-03     1.673485  552.40753  276.98834\n",
       "2018-01-04     0.898864  556.86420  311.56293\n",
       "2018-01-05    -0.243561  549.75885  304.32626"
      ]
     },
     "execution_count": 50,
     "metadata": {},
     "output_type": "execute_result"
    }
   ],
   "source": [
    "w_oil_el = mean_weather.merge(oil_el, how='inner', left_index=True, right_index=True)\n",
    "w_oil_el.head()"
   ]
  },
  {
   "cell_type": "code",
   "execution_count": 51,
   "metadata": {},
   "outputs": [],
   "source": [
    "diff_w_el_oil = (w_oil_el - w_oil_el.shift(-1)).resample('M').mean().dropna()"
   ]
  },
  {
   "cell_type": "code",
   "execution_count": 52,
   "metadata": {},
   "outputs": [
    {
     "name": "stdout",
     "output_type": "stream",
     "text": [
      "Dickey-Fuller test results:\n",
      "Test statistics:\t-5.7503\n",
      "Critical value 5%:\t-3.0685\n"
     ]
    }
   ],
   "source": [
    "_ = adfuller(diff_w_el_oil['temperature'])\n",
    "pprint_adfuller(_)"
   ]
  },
  {
   "cell_type": "code",
   "execution_count": 53,
   "metadata": {},
   "outputs": [
    {
     "name": "stdout",
     "output_type": "stream",
     "text": [
      "Dickey-Fuller test results:\n",
      "Test statistics:\t-4.5743\n",
      "Critical value 5%:\t-2.9865\n"
     ]
    }
   ],
   "source": [
    "_ = adfuller(diff_w_el_oil['price_el'])\n",
    "pprint_adfuller(_)"
   ]
  },
  {
   "cell_type": "code",
   "execution_count": 54,
   "metadata": {},
   "outputs": [
    {
     "name": "stdout",
     "output_type": "stream",
     "text": [
      "Dickey-Fuller test results:\n",
      "Test statistics:\t-4.3177\n",
      "Critical value 5%:\t-2.9922\n"
     ]
    }
   ],
   "source": [
    "_ = adfuller(diff_w_el_oil['price_oil'])\n",
    "pprint_adfuller(_)"
   ]
  },
  {
   "cell_type": "code",
   "execution_count": 55,
   "metadata": {},
   "outputs": [
    {
     "data": {
      "text/html": [
       "<div>\n",
       "<style scoped>\n",
       "    .dataframe tbody tr th:only-of-type {\n",
       "        vertical-align: middle;\n",
       "    }\n",
       "\n",
       "    .dataframe tbody tr th {\n",
       "        vertical-align: top;\n",
       "    }\n",
       "\n",
       "    .dataframe thead th {\n",
       "        text-align: right;\n",
       "    }\n",
       "</style>\n",
       "<table border=\"1\" class=\"dataframe\">\n",
       "  <thead>\n",
       "    <tr style=\"text-align: right;\">\n",
       "      <th></th>\n",
       "      <th>temperature</th>\n",
       "      <th>price_oil</th>\n",
       "      <th>price_el</th>\n",
       "    </tr>\n",
       "  </thead>\n",
       "  <tbody>\n",
       "    <tr>\n",
       "      <th>temperature</th>\n",
       "      <td>1.0000</td>\n",
       "      <td>0.0762</td>\n",
       "      <td>0.4581</td>\n",
       "    </tr>\n",
       "    <tr>\n",
       "      <th>price_oil</th>\n",
       "      <td>0.2361</td>\n",
       "      <td>1.0000</td>\n",
       "      <td>0.0263</td>\n",
       "    </tr>\n",
       "    <tr>\n",
       "      <th>price_el</th>\n",
       "      <td>0.0022</td>\n",
       "      <td>0.1726</td>\n",
       "      <td>1.0000</td>\n",
       "    </tr>\n",
       "  </tbody>\n",
       "</table>\n",
       "</div>"
      ],
      "text/plain": [
       "            temperature price_oil price_el\n",
       "temperature      1.0000    0.0762   0.4581\n",
       "price_oil        0.2361    1.0000   0.0263\n",
       "price_el         0.0022    0.1726   1.0000"
      ]
     },
     "execution_count": 55,
     "metadata": {},
     "output_type": "execute_result"
    }
   ],
   "source": [
    "granger_matrix(diff_w_el_oil, maxlag=5)"
   ]
  },
  {
   "cell_type": "code",
   "execution_count": null,
   "metadata": {},
   "outputs": [],
   "source": []
  },
  {
   "cell_type": "code",
   "execution_count": null,
   "metadata": {},
   "outputs": [],
   "source": []
  }
 ],
 "metadata": {
  "kernelspec": {
   "display_name": "Python 3",
   "language": "python",
   "name": "python3"
  },
  "language_info": {
   "codemirror_mode": {
    "name": "ipython",
    "version": 3
   },
   "file_extension": ".py",
   "mimetype": "text/x-python",
   "name": "python",
   "nbconvert_exporter": "python",
   "pygments_lexer": "ipython3",
   "version": "3.7.2"
  }
 },
 "nbformat": 4,
 "nbformat_minor": 4
}
