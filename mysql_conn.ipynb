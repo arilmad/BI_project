{
 "cells": [
  {
   "cell_type": "code",
   "execution_count": 1,
   "metadata": {},
   "outputs": [],
   "source": [
    "from __future__ import print_function\n",
    "\n",
    "import mysql.connector\n",
    "from mysql.connector import errorcode\n",
    "\n",
    "import os\n",
    "import pandas as pd"
   ]
  },
  {
   "cell_type": "markdown",
   "metadata": {},
   "source": [
    "#### Fetch credentials"
   ]
  },
  {
   "cell_type": "code",
   "execution_count": 2,
   "metadata": {},
   "outputs": [],
   "source": [
    "d = {}\n",
    "\n",
    "cwd = os.getcwd()\n",
    "file_path = cwd + '/../mysql/creds.txt'\n",
    "\n",
    "with open(file_path, 'r') as f:\n",
    "    for l in f.readlines(): d[l.split()[0]] = l.split()[1]"
   ]
  },
  {
   "cell_type": "markdown",
   "metadata": {},
   "source": [
    "### Create project database"
   ]
  },
  {
   "cell_type": "code",
   "execution_count": 3,
   "metadata": {},
   "outputs": [],
   "source": [
    "conn = mysql.connector.connect(user=d['user'], password=d['pw'])\n",
    "cur = conn.cursor()\n",
    "\n",
    "DB_NAME = 'bi_project'"
   ]
  },
  {
   "cell_type": "code",
   "execution_count": 4,
   "metadata": {},
   "outputs": [],
   "source": [
    "def create_database(cursor):\n",
    "    try:\n",
    "        cursor.execute(\n",
    "            \"CREATE DATABASE {} DEFAULT CHARACTER SET 'utf8'\".format(DB_NAME))\n",
    "    except mysql.connector.Error as err:\n",
    "        print(\"Failed creating database: {}\".format(err))\n",
    "        exit(1)\n",
    "try:\n",
    "    cur.execute(\"USE {}\".format(DB_NAME))\n",
    "except mysql.connector.Error as err:\n",
    "    print(\"Database {} does not exists.\".format(DB_NAME))\n",
    "    if err.errno == errorcode.ER_BAD_DB_ERROR:\n",
    "        create_database(cur)\n",
    "        print(\"Database {} created successfully.\".format(DB_NAME))\n",
    "        conn.database = DB_NAME\n",
    "    else:\n",
    "        print(err)\n",
    "        exit(1)"
   ]
  },
  {
   "cell_type": "code",
   "execution_count": 5,
   "metadata": {},
   "outputs": [],
   "source": [
    "query = \"\"\"\n",
    "    drop table if exists Dim_Municipality\n",
    "\"\"\"\n",
    "cur.execute(query)\n",
    "\n",
    "query = \"\"\"\n",
    "    create table Dim_Municipality (\n",
    "        loc_id int not null,\n",
    "        municipality varchar(20) not null,\n",
    "        primary key(loc_id)\n",
    "    )\n",
    "\"\"\"\n",
    "cur.execute(query)\n",
    "\n",
    "query = f\"\"\"\n",
    "    load data infile '{cwd}//src//municipalities//loc_id_municipality.csv'\n",
    "    into table Dim_Municipality\n",
    "    fields terminated by ',' \n",
    "    enclosed by '\"'\n",
    "    lines terminated by '\\r\\n'\n",
    "    ignore 1 rows\n",
    "    \"\"\"\n",
    "cur.execute(query) "
   ]
  },
  {
   "cell_type": "code",
   "execution_count": 6,
   "metadata": {},
   "outputs": [
    {
     "data": {
      "text/html": [
       "<div>\n",
       "<style scoped>\n",
       "    .dataframe tbody tr th:only-of-type {\n",
       "        vertical-align: middle;\n",
       "    }\n",
       "\n",
       "    .dataframe tbody tr th {\n",
       "        vertical-align: top;\n",
       "    }\n",
       "\n",
       "    .dataframe thead th {\n",
       "        text-align: right;\n",
       "    }\n",
       "</style>\n",
       "<table border=\"1\" class=\"dataframe\">\n",
       "  <thead>\n",
       "    <tr style=\"text-align: right;\">\n",
       "      <th></th>\n",
       "      <th>loc_id</th>\n",
       "      <th>municipality</th>\n",
       "    </tr>\n",
       "  </thead>\n",
       "  <tbody>\n",
       "    <tr>\n",
       "      <th>0</th>\n",
       "      <td>0</td>\n",
       "      <td>Grimstad</td>\n",
       "    </tr>\n",
       "    <tr>\n",
       "      <th>1</th>\n",
       "      <td>1</td>\n",
       "      <td>Arendal</td>\n",
       "    </tr>\n",
       "    <tr>\n",
       "      <th>2</th>\n",
       "      <td>2</td>\n",
       "      <td>Birkenes</td>\n",
       "    </tr>\n",
       "  </tbody>\n",
       "</table>\n",
       "</div>"
      ],
      "text/plain": [
       "   loc_id municipality\n",
       "0       0     Grimstad\n",
       "1       1      Arendal\n",
       "2       2     Birkenes"
      ]
     },
     "execution_count": 6,
     "metadata": {},
     "output_type": "execute_result"
    }
   ],
   "source": [
    "query = \"\"\"\n",
    "    select *\n",
    "    from Dim_Municipality\n",
    "    limit 3\n",
    "\"\"\"\n",
    "pd.read_sql(query, conn)"
   ]
  },
  {
   "cell_type": "code",
   "execution_count": null,
   "metadata": {},
   "outputs": [],
   "source": [
    "query = \"\"\"\n",
    "    drop table if exists Municipality_Nearest_Station\n",
    "\"\"\"\n",
    "cur.execute(query)\n",
    "\n",
    "query = \"\"\"\n",
    "    create table Municipality_Nearest_Station (\n",
    "        municipality varchar(20) not null,\n",
    "        nearest_station varchar(20) not null,\n",
    "        primary key(municipality)\n",
    "    )\n",
    "\"\"\"\n",
    "cur.execute(query)\n",
    "\n",
    "query = f\"\"\"\n",
    "    load data infile '{cwd}//src//municipalities//municipality_nearest_station.csv'\n",
    "    into table Municipality_Nearest_Station\n",
    "    fields terminated by ',' \n",
    "    enclosed by '\"'\n",
    "    lines terminated by '\\r\\n'\n",
    "    ignore 1 rows\n",
    "    \"\"\"\n",
    "cur.execute(query) "
   ]
  },
  {
   "cell_type": "code",
   "execution_count": null,
   "metadata": {},
   "outputs": [],
   "source": [
    "query = \"\"\"\n",
    "    select *\n",
    "    from Municipality_Nearest_Station\n",
    "    limit 3\n",
    "\"\"\"\n",
    "pd.read_sql(query, conn)"
   ]
  },
  {
   "cell_type": "markdown",
   "metadata": {},
   "source": [
    "Gather all elspotprices"
   ]
  },
  {
   "cell_type": "code",
   "execution_count": null,
   "metadata": {},
   "outputs": [],
   "source": [
    "query = \"\"\"\n",
    "    drop table if exists Elspot_Prices_Gathered\n",
    "\"\"\"\n",
    "cur.execute(query)\n",
    "\n",
    "query = \"\"\"\n",
    "    create temporary table Elspot_Prices_Gathered (\n",
    "        time datetime not null,\n",
    "        sys varchar(10),\n",
    "        se1 varchar(10),\n",
    "        se2 varchar(10),\n",
    "        se3 varchar(10),\n",
    "        se4 varchar(10),\n",
    "        f1 varchar(10),\n",
    "        dk1 varchar(10),\n",
    "        dk2 varchar(10),\n",
    "        oslo varchar(10),\n",
    "        kristiansand varchar(10),\n",
    "        bergen varchar(10),\n",
    "        molde varchar(10),\n",
    "        trondheim varchar(10),\n",
    "        tomso varchar(10),\n",
    "        ee varchar(10),\n",
    "        lv varchar(10),\n",
    "        lt varchar(10),\n",
    "        primary key(time)\n",
    "    )\n",
    "\"\"\"\n",
    "cur.execute(query)"
   ]
  },
  {
   "cell_type": "code",
   "execution_count": null,
   "metadata": {},
   "outputs": [],
   "source": [
    "folder = f'{cwd}//src//elspot_prices//'\n",
    "for file in os.listdir(folder):\n",
    "    if file.split('.')[-1] != 'csv': continue\n",
    "    file_path = os.path.join(folder, file)\n",
    "\n",
    "    query = f\"\"\"\n",
    "        load data infile '{file_path}'\n",
    "        ignore into table Elspot_Prices_Gathered\n",
    "        fields terminated by ',' \n",
    "        enclosed by '\"'\n",
    "        lines terminated by '\\r\\n'\n",
    "        ignore 1 rows\n",
    "    \"\"\"\n",
    "    cur.execute(query) "
   ]
  },
  {
   "cell_type": "code",
   "execution_count": null,
   "metadata": {},
   "outputs": [],
   "source": [
    "query = \"\"\"\n",
    "    select *\n",
    "    from Elspot_Prices_Gathered\n",
    "    limit 3\n",
    "\"\"\"\n",
    "pd.read_sql(query, conn)"
   ]
  },
  {
   "cell_type": "markdown",
   "metadata": {},
   "source": [
    "And store those for kristiansand, which is the correct price for this part of norway."
   ]
  },
  {
   "cell_type": "code",
   "execution_count": null,
   "metadata": {},
   "outputs": [],
   "source": [
    "query = \"\"\"\n",
    "    drop table if exists Dim_Elspot\n",
    "\"\"\"\n",
    "cur.execute(query)\n",
    "\n",
    "query = \"\"\"\n",
    "    create table Dim_Elspot\n",
    "    as (\n",
    "        select\n",
    "            time, \n",
    "            replace(kristiansand, ',', '.') as price\n",
    "        from Elspot_Prices_Gathered\n",
    "    )\n",
    "\"\"\"\n",
    "cur.execute(query)"
   ]
  },
  {
   "cell_type": "code",
   "execution_count": null,
   "metadata": {},
   "outputs": [],
   "source": [
    "query = \"\"\"\n",
    "    select count(*)\n",
    "    from Dim_Elspot\n",
    "    limit 5\n",
    "\"\"\"\n",
    "pd.read_sql(query, conn)"
   ]
  },
  {
   "cell_type": "code",
   "execution_count": null,
   "metadata": {},
   "outputs": [],
   "source": [
    "query = \"\"\"\n",
    "    drop table if exists Belastning_Gathered\n",
    "\"\"\"\n",
    "cur.execute(query)\n",
    "\n",
    "query = \"\"\"\n",
    "    create temporary table Belastning_Gathered (\n",
    "        a varchar(10),\n",
    "        time datetime not null,\n",
    "        consumption_kvah varchar(20),\n",
    "        upper_tol_kvah varchar(10),\n",
    "        upper_tol_p20 varchar(10),\n",
    "        loc_id int not null,\n",
    "        primary key(time, loc_id)\n",
    "    )\n",
    "\"\"\"\n",
    "cur.execute(query)"
   ]
  },
  {
   "cell_type": "code",
   "execution_count": null,
   "metadata": {},
   "outputs": [],
   "source": [
    "folder = f'{cwd}//src//belastning_nettstasjon//'\n",
    "for file in os.listdir(folder):\n",
    "    if file.split('.')[-1] != 'csv': continue\n",
    "    file_path = os.path.join(folder, file)\n",
    "\n",
    "    query = f\"\"\"\n",
    "        load data infile '{file_path}'\n",
    "        into table Belastning_Gathered\n",
    "        fields terminated by ',' \n",
    "        enclosed by '\"'\n",
    "        lines terminated by '\\r\\n'\n",
    "        ignore 1 rows\n",
    "    \"\"\"\n",
    "    cur.execute(query) "
   ]
  },
  {
   "cell_type": "code",
   "execution_count": null,
   "metadata": {},
   "outputs": [],
   "source": [
    "query = \"\"\"\n",
    "    drop table if exists Dim_Belastning\n",
    "\"\"\"\n",
    "cur.execute(query)\n",
    "\n",
    "query = \"\"\"\n",
    "    create table Dim_Belastning as (\n",
    "        select \n",
    "            time,\n",
    "            loc_id,\n",
    "            consumption_kvah,\n",
    "            upper_tol_kvah\n",
    "        from Belastning_Gathered\n",
    "    )\n",
    "\"\"\"\n",
    "cur.execute(query)\n",
    "\n",
    "query = \"\"\"\n",
    "    alter table Dim_Belastning\n",
    "    add primary key(time, loc_id)\n",
    "\"\"\"\n",
    "cur.execute(query)"
   ]
  },
  {
   "cell_type": "code",
   "execution_count": null,
   "metadata": {},
   "outputs": [],
   "source": [
    "query = \"\"\"\n",
    "    select \n",
    "        loc_id,\n",
    "        count(*) as n_entries\n",
    "    from Dim_Belastning\n",
    "    group by loc_id\n",
    "    order by loc_id\n",
    "\"\"\"\n",
    "pd.read_sql(query, conn).T"
   ]
  },
  {
   "cell_type": "code",
   "execution_count": null,
   "metadata": {},
   "outputs": [],
   "source": [
    "query = \"\"\"\n",
    "    select *\n",
    "    from Dim_Belastning\n",
    "    where time like '%2019-12%'\n",
    "    and loc_id = 2\n",
    "    limit 10\n",
    "\"\"\"\n",
    "pd.read_sql(query, conn)"
   ]
  },
  {
   "cell_type": "code",
   "execution_count": null,
   "metadata": {},
   "outputs": [],
   "source": [
    "query = \"\"\"\n",
    "    drop table if exists Dim_Oilspot\n",
    "\"\"\"\n",
    "cur.execute(query)\n",
    "\n",
    "query = \"\"\"\n",
    "    create table Dim_Oilspot(\n",
    "        day date not null,\n",
    "        price varchar(10),\n",
    "        primary key(day)\n",
    "    )\n",
    "\"\"\"\n",
    "cur.execute(query)"
   ]
  },
  {
   "cell_type": "code",
   "execution_count": null,
   "metadata": {},
   "outputs": [],
   "source": [
    "query = f\"\"\"\n",
    "    load data infile '{cwd}//src//oilspot_prices//DCOILBRENTEU.csv'\n",
    "    ignore into table Dim_Oilspot\n",
    "    fields terminated by ',' \n",
    "    enclosed by '\"'\n",
    "    lines terminated by '\\n'\n",
    "    ignore 1 rows\n",
    "\"\"\"\n",
    "cur.execute(query) "
   ]
  },
  {
   "cell_type": "code",
   "execution_count": null,
   "metadata": {},
   "outputs": [],
   "source": [
    "query = \"\"\"\n",
    "    select *\n",
    "    from Dim_Oilspot\n",
    "    where day like '%2020-01%'\n",
    "    limit 3\n",
    "\"\"\"\n",
    "pd.read_sql(query, conn)"
   ]
  },
  {
   "cell_type": "markdown",
   "metadata": {},
   "source": [
    "Import weather reports either as `.json` files or run the last bit of preprocessing in `frost_api_to_json.ipynb` to convert them to `.csv` files instead.\n",
    "\n",
    "The following cell will (on my computer at least) demand of you 33 hours of waiting. The mentioned preprocessing takes about 40 minutes. Better do that and skip this cell.\n",
    "\n",
    "#### Alternative 1: Load `.json` files into weather table"
   ]
  },
  {
   "cell_type": "code",
   "execution_count": null,
   "metadata": {},
   "outputs": [],
   "source": [
    "# from time import time\n",
    "# \n",
    "# query = \"\"\"\n",
    "#     drop table if exists jsonTable\n",
    "# \"\"\"\n",
    "# cur.execute(query)\n",
    "# \n",
    "# query = \"\"\"\n",
    "#     create temporary table jsonTable ( \n",
    "#         jsonFile json\n",
    "#     )\n",
    "# \"\"\"\n",
    "# cur.execute(query)\n",
    "# \n",
    "# # For every .json file in folder...\n",
    "# folder = 'D://_bi//src//weather_jsons//'\n",
    "# for file in os.listdir(folder):\n",
    "#     if file.split('.')[-1] != 'json': continue\n",
    "#     file_path = os.path.join(folder, file)\n",
    "# \n",
    "#     # Save the file content in variable @jsonData\n",
    "#     query = f\"\"\"\n",
    "#         load data infile '{file_path}'\n",
    "#         into table jsonTable\n",
    "#         fields terminated by '\\0' escaped by ''\n",
    "#         lines terminated by '\\0'\n",
    "#         (@jsonData)\n",
    "#     \"\"\"\n",
    "#     cur.execute(query)\n",
    "#     \n",
    "#     # The data contains a time series of length n\n",
    "#     query = \"\"\"\n",
    "#         select json_length(json_extract(@jsonData, '$.data')) \n",
    "#     \"\"\"\n",
    "#     cur.execute(query)\n",
    "#     n = cur.fetchall()[0][0]\n",
    "#     \n",
    "#     tic = time()\n",
    "#     print(f'Rows of {file} loaded into table'.rjust(20), 'Mins elapsed'.rjust(20), 'Estimated minutes left'.rjust(30))\n",
    "# \n",
    "#     # For every i = (0, 1,..., n-1) in @jsonData's data[i] array\n",
    "#     # Store the ith timestamp, weather_station id, and temperature measurement\n",
    "#     for i in range(n):\n",
    "#         query = f\"\"\"\n",
    "#             insert into Dim_Weather (time, weather_station, temp)\n",
    "# \n",
    "#             with a as(\n",
    "#                 select json_extract(@jsonData, '$.data[{i}].sourceId') as ws\n",
    "#             ), b as (\n",
    "#                 select substring(a.ws, 2, char_length(a.ws) - 4) as ws_trimmed\n",
    "#                 from a\n",
    "#             ), c as (\n",
    "#                 select json_extract(@jsonData, '$.data[{i}].referenceTime') as rt\n",
    "#             ), d as (\n",
    "#                 select substring(c.rt, 2, char_length(c.rt) - 7) as rt_trimmed\n",
    "#                 from c\n",
    "#             ), e as (\n",
    "#                 select replace(d.rt_trimmed, 'T', ' ') as time\n",
    "#                 from d\n",
    "#             ), f as (\n",
    "#                 select json_extract(@jsonData, '$.data[{i}].observations[0].value') as temp\n",
    "#             )\n",
    "#             select\n",
    "#                 e.time,\n",
    "#                 b.ws_trimmed,\n",
    "#                 f.temp\n",
    "#             from\n",
    "#                 e, b, f   \n",
    "#         \"\"\"\n",
    "#         cur.execute(query)\n",
    "#         \n",
    "#         # Every 10 rows, print a status update\n",
    "#         if not i % 10: \n",
    "#             toc = time()\n",
    "#             print(f'{i}/{n}'.rjust(0), f'{(toc-tic)/60:.2f}'.rjust(42), f'{(n/(i+1) * (toc-tic) - (toc-tic))/60 :.2f}'.rjust(22), end='\\r')\n",
    "#             \n",
    "#     print(f'Loaded file {file} into Dim_Weather')"
   ]
  },
  {
   "cell_type": "markdown",
   "metadata": {},
   "source": [
    "#### Alternative 2: Preprocess `.json` files to `.csv` in `frost_api_to_json.ipynb` and load `.csv` files into weather table"
   ]
  },
  {
   "cell_type": "code",
   "execution_count": null,
   "metadata": {},
   "outputs": [],
   "source": [
    "query = \"\"\"\n",
    "    drop table if exists Weather_Gathered\n",
    "\"\"\"\n",
    "cur.execute(query)\n",
    "\n",
    "query = \"\"\"\n",
    "    create temporary table Weather_Gathered (\n",
    "        a int,\n",
    "        b int, \n",
    "        element_id varchar(30),\n",
    "        c int,\n",
    "        level varchar(70),\n",
    "        perf varchar(2),\n",
    "        d int, \n",
    "        timeoff varchar(10),\n",
    "        timeres varchar(10),\n",
    "        times_id varchar(2),\n",
    "        unit varchar(5),\n",
    "        value varchar(10),\n",
    "        referencetime datetime not null,\n",
    "        source_id varchar(20) not null,\n",
    "        primary key(referencetime, source_id)\n",
    "    )\n",
    "\"\"\"\n",
    "cur.execute(query)"
   ]
  },
  {
   "cell_type": "code",
   "execution_count": null,
   "metadata": {},
   "outputs": [],
   "source": [
    "folder = f'{cwd}//src//weather_csvs//'\n",
    "\n",
    "for file in os.listdir(folder):\n",
    "    if file.split('.')[-1] != 'csv': continue\n",
    "    file_path = os.path.join(folder, file)\n",
    "    \n",
    "    query = f\"\"\"\n",
    "        load data infile '{file_path}'\n",
    "        into table Weather_Gathered\n",
    "        fields terminated by ',' \n",
    "        enclosed by '\"'\n",
    "        lines terminated by '\\r\\n'\n",
    "        ignore 1 rows  \n",
    "    \"\"\"\n",
    "    cur.execute(query)"
   ]
  },
  {
   "cell_type": "code",
   "execution_count": null,
   "metadata": {},
   "outputs": [],
   "source": [
    "query = \"\"\"\n",
    "    select *\n",
    "    from Weather_Gathered\n",
    "    limit 3\n",
    "\"\"\"\n",
    "pd.read_sql(query, conn)"
   ]
  },
  {
   "cell_type": "code",
   "execution_count": null,
   "metadata": {},
   "outputs": [],
   "source": [
    "query = \"\"\"\n",
    "    drop table if exists Dim_Weather\n",
    "\"\"\"\n",
    "cur.execute(query)\n",
    "\n",
    "query = \"\"\"\n",
    "    create table Dim_Weather as (\n",
    "        select \n",
    "            referencetime as time,\n",
    "            trim(trailing ':0' from source_id) as weather_station,\n",
    "            value as temperature\n",
    "        from Weather_Gathered\n",
    "    )\n",
    "\"\"\"\n",
    "cur.execute(query)\n",
    "\n",
    "query = \"\"\"\n",
    "    alter table Dim_Weather\n",
    "    add primary key(time, weather_station)\n",
    "\"\"\"\n",
    "cur.execute(query)"
   ]
  },
  {
   "cell_type": "code",
   "execution_count": null,
   "metadata": {},
   "outputs": [],
   "source": [
    "query = \"\"\"\n",
    "    select \n",
    "        weather_station,\n",
    "        count(*)\n",
    "    from Dim_Weather\n",
    "    group by weather_station\n",
    "\"\"\"\n",
    "pd.read_sql(query, conn).T"
   ]
  },
  {
   "cell_type": "code",
   "execution_count": null,
   "metadata": {},
   "outputs": [],
   "source": [
    "query = \"\"\"\n",
    "    select *\n",
    "    from Dim_Weather\n",
    "    where time like '%2020-01%'\n",
    "    limit 3\n",
    "\"\"\"\n",
    "pd.read_sql(query, conn)"
   ]
  },
  {
   "cell_type": "code",
   "execution_count": null,
   "metadata": {},
   "outputs": [],
   "source": [
    "query = \"\"\"\n",
    "    drop table if exists Fact\n",
    "\"\"\"\n",
    "cur.execute(query)\n",
    "\n",
    "query = \"\"\"\n",
    "    create table Fact \n",
    "    as(\n",
    "        select \n",
    "            bel.time as time,\n",
    "            date(bel.time) as day,\n",
    "            bel.loc_id,\n",
    "            s.nearest_station as weather_station\n",
    "        from Dim_Belastning bel \n",
    "        left join\n",
    "        (\n",
    "            select \n",
    "                m.loc_id as loc_id,\n",
    "                mns.nearest_station\n",
    "            from \n",
    "                Dim_Municipality m,\n",
    "                Municipality_Nearest_Station mns\n",
    "            where m.municipality = mns.municipality\n",
    "        ) s\n",
    "        on bel.loc_id = s.loc_id  \n",
    "    )\n",
    "\"\"\"\n",
    "cur.execute(query) "
   ]
  },
  {
   "cell_type": "code",
   "execution_count": null,
   "metadata": {},
   "outputs": [],
   "source": [
    "query = \"\"\"\n",
    "    select *\n",
    "    from Fact\n",
    "    where loc_id = 3\n",
    "    limit 3\n",
    "\"\"\"\n",
    "pd.read_sql(query, conn)"
   ]
  },
  {
   "cell_type": "code",
   "execution_count": null,
   "metadata": {},
   "outputs": [],
   "source": [
    "query = \"\"\"\n",
    "    select count(*)\n",
    "    from Fact\n",
    "\"\"\"\n",
    "pd.read_sql(query, conn)"
   ]
  },
  {
   "cell_type": "markdown",
   "metadata": {},
   "source": [
    "## Sample queries"
   ]
  },
  {
   "cell_type": "markdown",
   "metadata": {},
   "source": [
    "i.  Find the locations with the highest and lowest average consumption and their municipality."
   ]
  },
  {
   "cell_type": "code",
   "execution_count": null,
   "metadata": {},
   "outputs": [],
   "source": [
    "query = \"\"\"\n",
    "    with a as (\n",
    "        select\n",
    "            f.loc_id as location_id,\n",
    "            m.municipality as municipality,\n",
    "            avg(b.consumption_kvah) as average_consumption\n",
    "        from Fact f\n",
    "        inner join Dim_Municipality m on f.loc_id=m.loc_id\n",
    "        inner join Dim_Belastning b on (f.time=b.time and f.loc_id=b.loc_id)\n",
    "        group by f.loc_id\n",
    "    ), b as (\n",
    "        select *\n",
    "        from a\n",
    "        order by average_consumption desc\n",
    "        limit 1\n",
    "    ), c as (\n",
    "        select *\n",
    "        from a\n",
    "        order by average_consumption asc\n",
    "        limit 1\n",
    "    )\n",
    "    select *\n",
    "    from b \n",
    "    union all\n",
    "    select *\n",
    "    from c\n",
    "\"\"\"\n",
    "pd.read_sql(query, conn)"
   ]
  },
  {
   "cell_type": "markdown",
   "metadata": {},
   "source": [
    "ii. For those two extremes, what was the mean temperature, oil price and el spot price at their day in 2019 of maximum consumption?"
   ]
  },
  {
   "cell_type": "code",
   "execution_count": null,
   "metadata": {},
   "outputs": [],
   "source": [
    "query = \"\"\"\n",
    "    with temp_a as (\n",
    "        select\n",
    "            f.day as date,\n",
    "            f.loc_id as location_id,\n",
    "            f.weather_station as weather_station,\n",
    "            avg(b.consumption_kvah) as average_consumption\n",
    "            \n",
    "        from Fact f\n",
    "        inner join Dim_Belastning b on (f.time=b.time and f.loc_id=b.loc_id)\n",
    "        where f.time like '%2019%'\n",
    "        and f.loc_id in (10, 13)\n",
    "        group by \n",
    "            location_id,\n",
    "            date\n",
    "            \n",
    "    ), temp_b as (\n",
    "        select\n",
    "            location_id,\n",
    "            max(average_consumption) as max_cons\n",
    "        from temp_a\n",
    "        group by location_id\n",
    "        \n",
    "    ), temp_c as (\n",
    "        select \n",
    "            temp_a.date,\n",
    "            temp_a.location_id,\n",
    "            temp_a.weather_station,\n",
    "            temp_a.average_consumption\n",
    "        from\n",
    "            temp_a,\n",
    "            temp_b\n",
    "            \n",
    "        where temp_a.average_consumption = temp_b.max_cons\n",
    "        \n",
    "    )\n",
    "        select \n",
    "            temp_c.date,\n",
    "            temp_c.location_id,\n",
    "            temp_c.average_consumption,\n",
    "            avg(w.temperature) as avg_temp,\n",
    "            o.price as oil_price,\n",
    "            avg(e.price) as avg_el_price\n",
    "        from\n",
    "            temp_c\n",
    "            inner join Dim_Elspot e on (date = date(e.time))\n",
    "            inner join Dim_Oilspot o on (date = o.day)\n",
    "            inner join Dim_Weather w on (date = date(w.time) and temp_c.weather_station = w.weather_station)\n",
    "            \n",
    "        group by date\n",
    "\"\"\"\n",
    "pd.read_sql(query, conn)"
   ]
  },
  {
   "cell_type": "markdown",
   "metadata": {},
   "source": [
    "...And whats the mean daily temperature, oil price and el price in 2019 for those stations anyway?"
   ]
  },
  {
   "cell_type": "code",
   "execution_count": null,
   "metadata": {},
   "outputs": [],
   "source": [
    "query = \"\"\"\n",
    "    select\n",
    "        f.loc_id,\n",
    "        avg(w.temperature) as avg_temp,\n",
    "        avg(o.price) as avg_oil_price,\n",
    "        avg(e.price) as avg_el_price\n",
    "    from \n",
    "        Fact f\n",
    "        inner join Dim_Weather w on (f.time=w.time and f.weather_id=w.weather_station)\n",
    "        inner join Dim_Oilspot o on (f.day=o.day)\n",
    "        inner join Dim_Elspot e on (f.time=e.time)\n",
    "    \n",
    "    where f.time like '%2019%'\n",
    "    and f.loc_id in (10, 13)\n",
    "    group by f.loc_id\n",
    "    order by f.loc_id desc\n",
    "\"\"\"\n",
    "pd.read_sql(query, conn)"
   ]
  },
  {
   "cell_type": "markdown",
   "metadata": {},
   "source": [
    "So the day of maximum el consumption were characterized by:\n",
    " * For 13: Temperature ~ten degrees C higher than the average. Oil price slightly lower than average. El price a bit higher than usual.\n",
    " * For 10: Temperature ~ten degrees C lower than the average. Oil price lower than average. El price quite higher than the usual."
   ]
  },
  {
   "cell_type": "markdown",
   "metadata": {},
   "source": [
    "### Join all interesting data to output table"
   ]
  },
  {
   "cell_type": "code",
   "execution_count": null,
   "metadata": {},
   "outputs": [],
   "source": [
    "query = \"\"\"\n",
    "    select\n",
    "        f.time as time,\n",
    "        f.loc_id as location_id,\n",
    "        b.consumption_kvah as el_consumption,\n",
    "        w.temperature as degC,\n",
    "        o.price as oil_price,\n",
    "        e.price as el_price\n",
    "        \n",
    "    from Fact f\n",
    "    left join Dim_Belastning b on (f.time=b.time and f.loc_id=b.loc_id)\n",
    "    left join Dim_Weather w on (f.time=w.time and f.weather_id=w.weather_station) \n",
    "    left join Dim_Oilspot o on (f.day=o.day)\n",
    "    left join Dim_Elspot e on (f.time=e.time)\n",
    "\"\"\"\n",
    "df = pd.read_sql(query, conn)"
   ]
  },
  {
   "cell_type": "code",
   "execution_count": null,
   "metadata": {},
   "outputs": [],
   "source": [
    "df.shape"
   ]
  },
  {
   "cell_type": "code",
   "execution_count": null,
   "metadata": {},
   "outputs": [],
   "source": [
    "df.to_csv(f'{cwd}//sql_output//consumption_metatada_all_locations.csv')"
   ]
  },
  {
   "cell_type": "code",
   "execution_count": null,
   "metadata": {},
   "outputs": [],
   "source": [
    "query = \"\"\"\n",
    "    select *\n",
    "    from Dim_Weather\n",
    "\"\"\"\n",
    "df = pd.read_sql(query, conn)"
   ]
  },
  {
   "cell_type": "code",
   "execution_count": null,
   "metadata": {},
   "outputs": [],
   "source": [
    "df.shape"
   ]
  },
  {
   "cell_type": "code",
   "execution_count": null,
   "metadata": {},
   "outputs": [],
   "source": [
    "df.to_csv(f'{cwd}//sql_output//Dim_Weather.csv')"
   ]
  },
  {
   "cell_type": "code",
   "execution_count": null,
   "metadata": {},
   "outputs": [],
   "source": [
    "query = \"\"\"\n",
    "    select \n",
    "        f.time,\n",
    "        f.loc_id,\n",
    "        f.weather_station,\n",
    "        b.consumption_kvah\n",
    "    from Fact f\n",
    "    inner join Dim_Belastning b on (f.time = b.time and f.loc_id = b.loc_id)\n",
    "\"\"\"\n",
    "df = pd.read_sql(query, conn)"
   ]
  },
  {
   "cell_type": "code",
   "execution_count": null,
   "metadata": {},
   "outputs": [],
   "source": [
    "df.head(10)"
   ]
  },
  {
   "cell_type": "code",
   "execution_count": null,
   "metadata": {},
   "outputs": [],
   "source": [
    "df.shape"
   ]
  },
  {
   "cell_type": "code",
   "execution_count": null,
   "metadata": {},
   "outputs": [],
   "source": [
    "df.to_csv(f'{cwd}//sql_output//Dim_Belastning_and_weather_station.csv')"
   ]
  },
  {
   "cell_type": "code",
   "execution_count": null,
   "metadata": {},
   "outputs": [],
   "source": [
    "query = \"\"\"\n",
    "    select *\n",
    "    from Dim_Oilspot\n",
    "\"\"\"\n",
    "df = pd.read_sql(query, conn)"
   ]
  },
  {
   "cell_type": "code",
   "execution_count": null,
   "metadata": {},
   "outputs": [],
   "source": [
    "df.shape"
   ]
  },
  {
   "cell_type": "code",
   "execution_count": null,
   "metadata": {},
   "outputs": [],
   "source": [
    "df.to_csv(f'{cwd}//sql_output//Dim_Oilspot.csv')"
   ]
  },
  {
   "cell_type": "code",
   "execution_count": null,
   "metadata": {},
   "outputs": [],
   "source": [
    "query = \"\"\"\n",
    "    select *\n",
    "    from Dim_Elspot\n",
    "\"\"\"\n",
    "df = pd.read_sql(query, conn)"
   ]
  },
  {
   "cell_type": "code",
   "execution_count": null,
   "metadata": {},
   "outputs": [],
   "source": [
    "df.shape"
   ]
  },
  {
   "cell_type": "code",
   "execution_count": null,
   "metadata": {},
   "outputs": [],
   "source": [
    "df.to_csv(f'{cwd}//sql_output//Dim_Elspot.csv')"
   ]
  },
  {
   "cell_type": "code",
   "execution_count": null,
   "metadata": {},
   "outputs": [],
   "source": [
    "query = \"\"\"\n",
    "    select\n",
    "        f.time as time,\n",
    "        f.weather_id as weather_station,\n",
    "        w.temperature as degC\n",
    "        \n",
    "    from Fact f\n",
    "    right join Dim_Weather w on (f.time=w.time and f.weather_id=w.weather_station)\n",
    "\"\"\"\n",
    "df = pd.read_sql(query, conn)"
   ]
  },
  {
   "cell_type": "code",
   "execution_count": null,
   "metadata": {},
   "outputs": [],
   "source": [
    "df.shape"
   ]
  },
  {
   "cell_type": "code",
   "execution_count": null,
   "metadata": {},
   "outputs": [],
   "source": []
  },
  {
   "cell_type": "code",
   "execution_count": null,
   "metadata": {},
   "outputs": [],
   "source": []
  },
  {
   "cell_type": "code",
   "execution_count": null,
   "metadata": {},
   "outputs": [],
   "source": []
  },
  {
   "cell_type": "code",
   "execution_count": null,
   "metadata": {},
   "outputs": [],
   "source": [
    "conn.close()\n",
    "cur.close()"
   ]
  },
  {
   "cell_type": "code",
   "execution_count": null,
   "metadata": {},
   "outputs": [],
   "source": []
  }
 ],
 "metadata": {
  "kernelspec": {
   "display_name": "Python 3",
   "language": "python",
   "name": "python3"
  },
  "language_info": {
   "codemirror_mode": {
    "name": "ipython",
    "version": 3
   },
   "file_extension": ".py",
   "mimetype": "text/x-python",
   "name": "python",
   "nbconvert_exporter": "python",
   "pygments_lexer": "ipython3",
   "version": "3.7.2"
  }
 },
 "nbformat": 4,
 "nbformat_minor": 4
}
