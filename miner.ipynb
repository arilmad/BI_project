{
 "cells": [
  {
   "cell_type": "code",
   "execution_count": 1,
   "metadata": {},
   "outputs": [],
   "source": [
    "from apyori import apriori"
   ]
  },
  {
   "cell_type": "code",
   "execution_count": 14,
   "metadata": {},
   "outputs": [],
   "source": [
    "transactions = [\n",
    "    ['beer', 'diapers'],\n",
    "    ['diapers', 'nuts'],\n",
    "    ['beer', 'nuts', 'diapers'],    \n",
    "    ['nuts', 'milk']\n",
    "]"
   ]
  },
  {
   "cell_type": "code",
   "execution_count": 19,
   "metadata": {},
   "outputs": [],
   "source": [
    "rec = apriori(transactions, min_confidence=0.6, min_support=0.5)\n",
    "l = list(rec)"
   ]
  },
  {
   "cell_type": "code",
   "execution_count": 20,
   "metadata": {},
   "outputs": [
    {
     "name": "stdout",
     "output_type": "stream",
     "text": [
      "[RelationRecord(items=frozenset({'diapers'}), support=0.75, ordered_statistics=[OrderedStatistic(items_base=frozenset(), items_add=frozenset({'diapers'}), confidence=0.75, lift=1.0)]), RelationRecord(items=frozenset({'nuts'}), support=0.75, ordered_statistics=[OrderedStatistic(items_base=frozenset(), items_add=frozenset({'nuts'}), confidence=0.75, lift=1.0)]), RelationRecord(items=frozenset({'beer', 'diapers'}), support=0.5, ordered_statistics=[OrderedStatistic(items_base=frozenset({'beer'}), items_add=frozenset({'diapers'}), confidence=1.0, lift=1.3333333333333333), OrderedStatistic(items_base=frozenset({'diapers'}), items_add=frozenset({'beer'}), confidence=0.6666666666666666, lift=1.3333333333333333)]), RelationRecord(items=frozenset({'nuts', 'diapers'}), support=0.5, ordered_statistics=[OrderedStatistic(items_base=frozenset({'diapers'}), items_add=frozenset({'nuts'}), confidence=0.6666666666666666, lift=0.8888888888888888), OrderedStatistic(items_base=frozenset({'nuts'}), items_add=frozenset({'diapers'}), confidence=0.6666666666666666, lift=0.8888888888888888)])]\n"
     ]
    }
   ],
   "source": [
    "print(l)"
   ]
  },
  {
   "cell_type": "code",
   "execution_count": 23,
   "metadata": {},
   "outputs": [],
   "source": [
    "def pprint_records(rec_list):\n",
    "    r = rec_list.copy()\n",
    "    for row in r:\n",
    "        print(f'Items:  {set(row.items)}')\n",
    "        print(f'Support: {row.support:.4f}')\n",
    "        print('BODY -> HEAD[Confidence, Lift]\\n')\n",
    "        for os in row.ordered_statistics:\n",
    "            print(f'\\t{set(os.items_base)}  ->  {set(os.items_add)}[{os.confidence:.2f}, {os.lift:.2f}]\\n\\n')"
   ]
  },
  {
   "cell_type": "code",
   "execution_count": 24,
   "metadata": {},
   "outputs": [
    {
     "name": "stdout",
     "output_type": "stream",
     "text": [
      "Items:  {'diapers'}\n",
      "Support: 0.7500\n",
      "BODY -> HEAD[Confidence, Lift]\n",
      "\n",
      "\tset()  ->  {'diapers'}[0.75, 1.00]\n",
      "\n",
      "\n",
      "Items:  {'nuts'}\n",
      "Support: 0.7500\n",
      "BODY -> HEAD[Confidence, Lift]\n",
      "\n",
      "\tset()  ->  {'nuts'}[0.75, 1.00]\n",
      "\n",
      "\n",
      "Items:  {'beer', 'diapers'}\n",
      "Support: 0.5000\n",
      "BODY -> HEAD[Confidence, Lift]\n",
      "\n",
      "\t{'beer'}  ->  {'diapers'}[1.00, 1.33]\n",
      "\n",
      "\n",
      "\t{'diapers'}  ->  {'beer'}[0.67, 1.33]\n",
      "\n",
      "\n",
      "Items:  {'nuts', 'diapers'}\n",
      "Support: 0.5000\n",
      "BODY -> HEAD[Confidence, Lift]\n",
      "\n",
      "\t{'diapers'}  ->  {'nuts'}[0.67, 0.89]\n",
      "\n",
      "\n",
      "\t{'nuts'}  ->  {'diapers'}[0.67, 0.89]\n",
      "\n",
      "\n"
     ]
    }
   ],
   "source": [
    "pprint_records(l)"
   ]
  },
  {
   "cell_type": "code",
   "execution_count": null,
   "metadata": {},
   "outputs": [],
   "source": []
  }
 ],
 "metadata": {
  "kernelspec": {
   "display_name": "Python 3",
   "language": "python",
   "name": "python3"
  },
  "language_info": {
   "codemirror_mode": {
    "name": "ipython",
    "version": 3
   },
   "file_extension": ".py",
   "mimetype": "text/x-python",
   "name": "python",
   "nbconvert_exporter": "python",
   "pygments_lexer": "ipython3",
   "version": "3.7.2"
  }
 },
 "nbformat": 4,
 "nbformat_minor": 4
}
