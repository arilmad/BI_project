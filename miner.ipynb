{
 "cells": [
  {
   "cell_type": "code",
   "execution_count": 1,
   "metadata": {},
   "outputs": [],
   "source": [
    "from apyori import apriori"
   ]
  },
  {
   "cell_type": "code",
   "execution_count": 21,
   "metadata": {},
   "outputs": [],
   "source": [
    "transactions = [\n",
    "    ['beer', 'diapers'],\n",
    "    ['diapers', 'milk'],\n",
    "    ['beer', 'nuts', 'diapers'],    \n",
    "    ['milk', 'nuts']\n",
    "]"
   ]
  },
  {
   "cell_type": "code",
   "execution_count": 30,
   "metadata": {},
   "outputs": [],
   "source": [
    "rec = apriori(transactions, min_confidence=0.8, min_support=0.5)\n",
    "l = list(rec)"
   ]
  },
  {
   "cell_type": "code",
   "execution_count": 31,
   "metadata": {},
   "outputs": [
    {
     "name": "stdout",
     "output_type": "stream",
     "text": [
      "[RelationRecord(items=frozenset({'diapers', 'beer'}), support=0.5, ordered_statistics=[OrderedStatistic(items_base=frozenset({'beer'}), items_add=frozenset({'diapers'}), confidence=1.0, lift=1.3333333333333333)])]\n"
     ]
    }
   ],
   "source": [
    "print(l)"
   ]
  },
  {
   "cell_type": "code",
   "execution_count": 32,
   "metadata": {},
   "outputs": [],
   "source": [
    "def pprint_records(rec_list):\n",
    "    r = rec_list.copy()\n",
    "    for row in r:\n",
    "        print(f'Items:  {set(row.items)}')\n",
    "        print(f'Support: {row.support:.4f}')\n",
    "        print('BODY -> HEAD[Confidence, Lift]\\n')\n",
    "        for os in row.ordered_statistics:\n",
    "            print(f'\\t{set(os.items_base)}  ->  {set(os.items_add)}[{os.confidence:.2f}, {os.lift:.2f}]\\n\\n')"
   ]
  },
  {
   "cell_type": "code",
   "execution_count": 33,
   "metadata": {},
   "outputs": [
    {
     "name": "stdout",
     "output_type": "stream",
     "text": [
      "Items:  {'diapers', 'beer'}\n",
      "Support: 0.5000\n",
      "BODY -> HEAD[Confidence, Lift]\n",
      "\n",
      "\t{'beer'}  ->  {'diapers'}[1.00, 1.33]\n",
      "\n",
      "\n"
     ]
    }
   ],
   "source": [
    "pprint_records(l)"
   ]
  },
  {
   "cell_type": "markdown",
   "metadata": {},
   "source": [
    "## Our own data"
   ]
  },
  {
   "cell_type": "code",
   "execution_count": 35,
   "metadata": {},
   "outputs": [],
   "source": [
    "import pandas as pd\n",
    "import numpy as np\n",
    "from matplotlib import pyplot as plt\n",
    "%matplotlib inline"
   ]
  },
  {
   "cell_type": "code",
   "execution_count": 39,
   "metadata": {},
   "outputs": [
    {
     "data": {
      "text/html": [
       "<div>\n",
       "<style scoped>\n",
       "    .dataframe tbody tr th:only-of-type {\n",
       "        vertical-align: middle;\n",
       "    }\n",
       "\n",
       "    .dataframe tbody tr th {\n",
       "        vertical-align: top;\n",
       "    }\n",
       "\n",
       "    .dataframe thead th {\n",
       "        text-align: right;\n",
       "    }\n",
       "</style>\n",
       "<table border=\"1\" class=\"dataframe\">\n",
       "  <thead>\n",
       "    <tr style=\"text-align: right;\">\n",
       "      <th></th>\n",
       "      <th>loc_id</th>\n",
       "      <th>consumption_kvah</th>\n",
       "      <th>temperature</th>\n",
       "      <th>el_price</th>\n",
       "      <th>oil_price</th>\n",
       "    </tr>\n",
       "    <tr>\n",
       "      <th>time</th>\n",
       "      <th></th>\n",
       "      <th></th>\n",
       "      <th></th>\n",
       "      <th></th>\n",
       "      <th></th>\n",
       "    </tr>\n",
       "  </thead>\n",
       "  <tbody>\n",
       "    <tr>\n",
       "      <th>2018-01-01 00:00:00</th>\n",
       "      <td>0</td>\n",
       "      <td>27.0</td>\n",
       "      <td>5.5</td>\n",
       "      <td>26.330000</td>\n",
       "      <td>66.730003</td>\n",
       "    </tr>\n",
       "    <tr>\n",
       "      <th>2018-01-01 01:00:00</th>\n",
       "      <td>0</td>\n",
       "      <td>27.5</td>\n",
       "      <td>5.0</td>\n",
       "      <td>26.430000</td>\n",
       "      <td>66.730003</td>\n",
       "    </tr>\n",
       "    <tr>\n",
       "      <th>2018-01-01 02:00:00</th>\n",
       "      <td>0</td>\n",
       "      <td>27.0</td>\n",
       "      <td>4.8</td>\n",
       "      <td>26.100000</td>\n",
       "      <td>66.730003</td>\n",
       "    </tr>\n",
       "    <tr>\n",
       "      <th>2018-01-01 03:00:00</th>\n",
       "      <td>0</td>\n",
       "      <td>23.0</td>\n",
       "      <td>4.9</td>\n",
       "      <td>24.700001</td>\n",
       "      <td>66.730003</td>\n",
       "    </tr>\n",
       "    <tr>\n",
       "      <th>2018-01-01 04:00:00</th>\n",
       "      <td>0</td>\n",
       "      <td>23.0</td>\n",
       "      <td>3.7</td>\n",
       "      <td>24.740000</td>\n",
       "      <td>66.730003</td>\n",
       "    </tr>\n",
       "  </tbody>\n",
       "</table>\n",
       "</div>"
      ],
      "text/plain": [
       "                    loc_id  consumption_kvah  temperature   el_price  \\\n",
       "time                                                                   \n",
       "2018-01-01 00:00:00      0              27.0          5.5  26.330000   \n",
       "2018-01-01 01:00:00      0              27.5          5.0  26.430000   \n",
       "2018-01-01 02:00:00      0              27.0          4.8  26.100000   \n",
       "2018-01-01 03:00:00      0              23.0          4.9  24.700001   \n",
       "2018-01-01 04:00:00      0              23.0          3.7  24.740000   \n",
       "\n",
       "                     oil_price  \n",
       "time                            \n",
       "2018-01-01 00:00:00  66.730003  \n",
       "2018-01-01 01:00:00  66.730003  \n",
       "2018-01-01 02:00:00  66.730003  \n",
       "2018-01-01 03:00:00  66.730003  \n",
       "2018-01-01 04:00:00  66.730003  "
      ]
     },
     "execution_count": 39,
     "metadata": {},
     "output_type": "execute_result"
    }
   ],
   "source": [
    "all_raw = pd.read_csv('cleansed_data//all_consumption_metadata.csv', parse_dates=True, index_col=0,\n",
    "                     dtype={'loc_id':'str', 'consumption_kvah':'float32', 'temperature':'float32',\n",
    "                           'el_price':'float32', 'oil_price':'float32'})\n",
    "all_raw.head()"
   ]
  },
  {
   "cell_type": "code",
   "execution_count": 40,
   "metadata": {},
   "outputs": [],
   "source": [
    "all_df = all_raw.copy()"
   ]
  },
  {
   "cell_type": "markdown",
   "metadata": {},
   "source": [
    "Separate all locations"
   ]
  },
  {
   "cell_type": "code",
   "execution_count": 42,
   "metadata": {},
   "outputs": [
    {
     "name": "stdout",
     "output_type": "stream",
     "text": [
      "Length of 0: 18385\n",
      "Length of 1: 18385\n",
      "Length of 3: 18385\n",
      "Length of 4: 18385\n",
      "Length of 6: 18385\n",
      "Length of 10: 18385\n",
      "Length of 11: 18385\n",
      "Length of 12: 18385\n",
      "Length of 16: 18385\n",
      "Length of 17: 18385\n",
      "Length of 18: 18385\n",
      "Length of 19: 18385\n",
      "Length of 7: 18344\n",
      "Length of 8: 16111\n",
      "Length of 14: 15299\n",
      "Length of 2: 15134\n",
      "Length of 5: 14001\n",
      "Length of 15: 12493\n",
      "Length of 13: 6090\n",
      "Length of 9: 11783\n"
     ]
    }
   ],
   "source": [
    "loc_ids = all_df['loc_id'].unique()\n",
    "\n",
    "d = {}\n",
    "\n",
    "for loc in loc_ids: \n",
    "    d[loc] = all_df[all_df['loc_id']==loc]\n",
    "    print(f'Length of {loc}: {len(d[loc])}')"
   ]
  },
  {
   "cell_type": "markdown",
   "metadata": {},
   "source": [
    "13 is probably a nice sample dataset"
   ]
  },
  {
   "cell_type": "code",
   "execution_count": 53,
   "metadata": {},
   "outputs": [],
   "source": [
    "sample = d['13']"
   ]
  },
  {
   "cell_type": "code",
   "execution_count": 54,
   "metadata": {},
   "outputs": [
    {
     "data": {
      "image/png": "[encoded data removed]",
      "text/plain": [
       "<Figure size 1440x360 with 1 Axes>"
      ]
     },
     "metadata": {
      "needs_background": "light"
     },
     "output_type": "display_data"
    }
   ],
   "source": [
    "fig, ax = plt.subplots(1,1,figsize=(20,5))\n",
    "ax.plot(sample['consumption_kvah'][:1000])\n",
    "plt.show()"
   ]
  },
  {
   "cell_type": "markdown",
   "metadata": {},
   "source": [
    "Might be, might not be. Considering the distinct even peaks this timeseries is probably not representative of private householdings, but rather some commercial customer.\n",
    "\n",
    "It should do for prototyping anyway."
   ]
  },
  {
   "cell_type": "markdown",
   "metadata": {},
   "source": [
    "### **Test 1**: Bucket all numerical values in percentiles"
   ]
  },
  {
   "cell_type": "code",
   "execution_count": 237,
   "metadata": {},
   "outputs": [],
   "source": [
    "loc = '13'\n",
    "sample = d[loc]\n",
    "sample = sample.drop(['loc_id'], axis=1)"
   ]
  },
  {
   "cell_type": "code",
   "execution_count": 326,
   "metadata": {},
   "outputs": [],
   "source": [
    "def create_percentile_mask_dict(df, means=None, stds=None):\n",
    "    \n",
    "    df_copy = df.copy()\n",
    "    cols = df_copy.columns\n",
    "    \n",
    "    if means==None: means = [np.mean(sample[c]) for c in cols]\n",
    "    if stds==None: stds = [np.std(sample[c]) for c in cols]\n",
    "        \n",
    "    masks = {}\n",
    "    masks['m3std'] = [df_copy[c]<(m-3*s) for c, m, s in zip(cols, means, stds)]\n",
    "    masks['m2std'] = [(df_copy[c]<(m-2*s)) & ~m3std for c, m, s, m3std in zip(cols, means, stds, masks['m3std'])]\n",
    "    masks['m1std'] = [(df_copy[c]<(m-s)) & ~(m3std|m2std) for c, m, s, m3std, m2std in zip(cols, means, stds, masks['m3std'], masks['m2std'])]\n",
    "\n",
    "    masks['m0std'] = [(df_copy[c]< =(m+s)) & ~(m3std|m2std|m1std) for c, m, s, m3std, m2std, m1std \n",
    "                 in zip(cols, means, stds, masks['m3std'], masks['m2std'], masks['m1std'])]\n",
    "\n",
    "    masks['p3std'] = [df_copy[c]>(m+3*s) for c, m, s in zip(cols, means, stds)]\n",
    "    masks['p2std'] = [(df_copy[c]>(m+2*s)) & ~p3std for c, m, s, p3std in zip(cols, means, stds, masks['p3std'])]\n",
    "    masks['p1std'] = [(df_copy[c]>(m+s)) & ~(p3std|p2std) for c, m, s, p3std, p2std in zip(cols, means, stds, masks['p3std'], masks['p2std'])]\n",
    "    \n",
    "    return masks.copy()"
   ]
  },
  {
   "cell_type": "code",
   "execution_count": 327,
   "metadata": {},
   "outputs": [],
   "source": [
    "def create_transactions_array(d, n):\n",
    "    transactions = []\n",
    "    \n",
    "    i = 0\n",
    "    while i < n:\n",
    "        row = []\n",
    "        for name, m in d.items():\n",
    "            for entry in m:\n",
    "                if entry[i]: row.append(name+'_'+entry.name)\n",
    "        transactions.append(row)\n",
    "        i += 1\n",
    "        \n",
    "    return transactions"
   ]
  },
  {
   "cell_type": "code",
   "execution_count": 328,
   "metadata": {},
   "outputs": [],
   "source": [
    "masks = create_percentile_dict(sample)\n",
    "\n",
    "for _, v in masks.items():\n",
    "    n = len(v[0])\n",
    "    break\n",
    "    \n",
    "transactions = create_transactions_array(masks, n)"
   ]
  },
  {
   "cell_type": "code",
   "execution_count": 329,
   "metadata": {},
   "outputs": [
    {
     "data": {
      "text/plain": [
       "6090"
      ]
     },
     "execution_count": 329,
     "metadata": {},
     "output_type": "execute_result"
    }
   ],
   "source": [
    "n"
   ]
  },
  {
   "cell_type": "markdown",
   "metadata": {},
   "source": [
    "sample is only 6000 rows, so looking for rules with 1% support means at least 60 rows confirm this. Going much lower than this might very well destroy the validity of the rule."
   ]
  },
  {
   "cell_type": "code",
   "execution_count": 330,
   "metadata": {},
   "outputs": [
    {
     "name": "stdout",
     "output_type": "stream",
     "text": [
      "Items:  {'m2std_el_price', 'm2std_oil_price'}\n",
      "Support: 0.0112\n",
      "BODY -> HEAD[Confidence, Lift]\n",
      "\n",
      "\t{'m2std_oil_price'}  ->  {'m2std_el_price'}[0.70, 18.24]\n",
      "\n",
      "\n"
     ]
    }
   ],
   "source": [
    "rec = apriori(transactions, min_support=0.01, min_confidence=0.6, min_lift=10)\n",
    "pprint_records(list(rec))"
   ]
  },
  {
   "cell_type": "markdown",
   "metadata": {},
   "source": [
    "This is our most solid rule with support threshold at 1%. When oil price $\\in (0.2,2.1)$  percentile, so is probably the el price."
   ]
  },
  {
   "cell_type": "code",
   "execution_count": 331,
   "metadata": {},
   "outputs": [
    {
     "name": "stdout",
     "output_type": "stream",
     "text": [
      "Items:  {'m2std_el_price', 'm2std_oil_price'}\n",
      "Support: 0.0112\n",
      "BODY -> HEAD[Confidence, Lift]\n",
      "\n",
      "\t{'m2std_oil_price'}  ->  {'m2std_el_price'}[0.70, 18.24]\n",
      "\n",
      "\n",
      "Items:  {'p2std_temperature', 'p1std_consumption_kvah'}\n",
      "Support: 0.0110\n",
      "BODY -> HEAD[Confidence, Lift]\n",
      "\n",
      "\t{'p2std_temperature'}  ->  {'p1std_consumption_kvah'}[0.66, 4.03]\n",
      "\n",
      "\n",
      "Items:  {'m1std_oil_price', 'm0std_el_price', 'p1std_consumption_kvah', 'p1std_temperature'}\n",
      "Support: 0.0169\n",
      "BODY -> HEAD[Confidence, Lift]\n",
      "\n",
      "\t{'m1std_oil_price', 'm0std_el_price', 'p1std_consumption_kvah'}  ->  {'p1std_temperature'}[0.69, 4.06]\n",
      "\n",
      "\n"
     ]
    }
   ],
   "source": [
    "rec = apriori(transactions, min_support=0.01, min_confidence=0.6, min_lift=1.75)\n",
    "pprint_records(list(rec))"
   ]
  },
  {
   "cell_type": "markdown",
   "metadata": {},
   "source": [
    "**Surprising remark**: When temperature $\\in (97.7, 99.8)$ percentile, the consumption is typically moderately high.\n",
    "\n",
    "This could say something about this particular customer, and it's likely that this rule won't hold water for the other locations in general."
   ]
  },
  {
   "cell_type": "markdown",
   "metadata": {},
   "source": [
    "### Run percentile mining on `Oilspot_prices` and `Elspot_prices`"
   ]
  },
  {
   "cell_type": "markdown",
   "metadata": {},
   "source": [
    "Since we only have daily values on oilspot prices, and hourly on elspot, it's probably fair to resample the elspot prices."
   ]
  },
  {
   "cell_type": "code",
   "execution_count": 705,
   "metadata": {},
   "outputs": [
    {
     "data": {
      "text/html": [
       "<div>\n",
       "<style scoped>\n",
       "    .dataframe tbody tr th:only-of-type {\n",
       "        vertical-align: middle;\n",
       "    }\n",
       "\n",
       "    .dataframe tbody tr th {\n",
       "        vertical-align: top;\n",
       "    }\n",
       "\n",
       "    .dataframe thead th {\n",
       "        text-align: right;\n",
       "    }\n",
       "</style>\n",
       "<table border=\"1\" class=\"dataframe\">\n",
       "  <thead>\n",
       "    <tr style=\"text-align: right;\">\n",
       "      <th></th>\n",
       "      <th>price</th>\n",
       "      <th>day</th>\n",
       "    </tr>\n",
       "  </thead>\n",
       "  <tbody>\n",
       "    <tr>\n",
       "      <th>2017-04-06</th>\n",
       "      <td>53.619999</td>\n",
       "      <td>2017-04-06</td>\n",
       "    </tr>\n",
       "    <tr>\n",
       "      <th>2017-04-07</th>\n",
       "      <td>54.240002</td>\n",
       "      <td>2017-04-07</td>\n",
       "    </tr>\n",
       "    <tr>\n",
       "      <th>2017-04-08</th>\n",
       "      <td>54.240002</td>\n",
       "      <td>2017-04-08</td>\n",
       "    </tr>\n",
       "  </tbody>\n",
       "</table>\n",
       "</div>"
      ],
      "text/plain": [
       "                price         day\n",
       "2017-04-06  53.619999  2017-04-06\n",
       "2017-04-07  54.240002  2017-04-07\n",
       "2017-04-08  54.240002  2017-04-08"
      ]
     },
     "execution_count": 705,
     "metadata": {},
     "output_type": "execute_result"
    }
   ],
   "source": [
    "oilspot = pd.read_csv('cleansed_data//Oilspot_prices.csv', index_col=0, parse_dates=True, dtype='float32')\n",
    "oilspot['day'] = oilspot.index.date\n",
    "oilspot.head(3)"
   ]
  },
  {
   "cell_type": "code",
   "execution_count": 706,
   "metadata": {},
   "outputs": [
    {
     "data": {
      "text/html": [
       "<div>\n",
       "<style scoped>\n",
       "    .dataframe tbody tr th:only-of-type {\n",
       "        vertical-align: middle;\n",
       "    }\n",
       "\n",
       "    .dataframe tbody tr th {\n",
       "        vertical-align: top;\n",
       "    }\n",
       "\n",
       "    .dataframe thead th {\n",
       "        text-align: right;\n",
       "    }\n",
       "</style>\n",
       "<table border=\"1\" class=\"dataframe\">\n",
       "  <thead>\n",
       "    <tr style=\"text-align: right;\">\n",
       "      <th></th>\n",
       "      <th>price</th>\n",
       "      <th>day</th>\n",
       "    </tr>\n",
       "  </thead>\n",
       "  <tbody>\n",
       "    <tr>\n",
       "      <th>2018-01-01</th>\n",
       "      <td>26.039583</td>\n",
       "      <td>2018-01-01</td>\n",
       "    </tr>\n",
       "    <tr>\n",
       "      <th>2018-01-02</th>\n",
       "      <td>31.792084</td>\n",
       "      <td>2018-01-02</td>\n",
       "    </tr>\n",
       "    <tr>\n",
       "      <th>2018-01-03</th>\n",
       "      <td>28.320417</td>\n",
       "      <td>2018-01-03</td>\n",
       "    </tr>\n",
       "  </tbody>\n",
       "</table>\n",
       "</div>"
      ],
      "text/plain": [
       "                price         day\n",
       "2018-01-01  26.039583  2018-01-01\n",
       "2018-01-02  31.792084  2018-01-02\n",
       "2018-01-03  28.320417  2018-01-03"
      ]
     },
     "execution_count": 706,
     "metadata": {},
     "output_type": "execute_result"
    }
   ],
   "source": [
    "elspot = pd.read_csv('cleansed_data//Elspot_prices.csv', index_col=0, parse_dates=True, dtype='float32')\n",
    "elspot = elspot.resample(rule='D').mean()\n",
    "elspot['day'] = elspot.index.date\n",
    "elspot.head(3)"
   ]
  },
  {
   "cell_type": "code",
   "execution_count": 707,
   "metadata": {},
   "outputs": [],
   "source": [
    "oil_el = oilspot.merge(elspot, how='inner', left_on='day', right_on='day', suffixes=('_oil', '_el'))"
   ]
  },
  {
   "cell_type": "code",
   "execution_count": 708,
   "metadata": {},
   "outputs": [
    {
     "data": {
      "text/html": [
       "<div>\n",
       "<style scoped>\n",
       "    .dataframe tbody tr th:only-of-type {\n",
       "        vertical-align: middle;\n",
       "    }\n",
       "\n",
       "    .dataframe tbody tr th {\n",
       "        vertical-align: top;\n",
       "    }\n",
       "\n",
       "    .dataframe thead th {\n",
       "        text-align: right;\n",
       "    }\n",
       "</style>\n",
       "<table border=\"1\" class=\"dataframe\">\n",
       "  <thead>\n",
       "    <tr style=\"text-align: right;\">\n",
       "      <th></th>\n",
       "      <th>price_oil</th>\n",
       "      <th>price_el</th>\n",
       "    </tr>\n",
       "  </thead>\n",
       "  <tbody>\n",
       "    <tr>\n",
       "      <th>0</th>\n",
       "      <td>66.730003</td>\n",
       "      <td>26.039583</td>\n",
       "    </tr>\n",
       "    <tr>\n",
       "      <th>1</th>\n",
       "      <td>66.650002</td>\n",
       "      <td>31.792084</td>\n",
       "    </tr>\n",
       "    <tr>\n",
       "      <th>2</th>\n",
       "      <td>67.849998</td>\n",
       "      <td>28.320417</td>\n",
       "    </tr>\n",
       "  </tbody>\n",
       "</table>\n",
       "</div>"
      ],
      "text/plain": [
       "   price_oil   price_el\n",
       "0  66.730003  26.039583\n",
       "1  66.650002  31.792084\n",
       "2  67.849998  28.320417"
      ]
     },
     "execution_count": 708,
     "metadata": {},
     "output_type": "execute_result"
    }
   ],
   "source": [
    "oil_el_days = oil_el['day']\n",
    "oil_el = oil_el.drop('day', axis=1)\n",
    "oil_el.head(3)"
   ]
  },
  {
   "cell_type": "code",
   "execution_count": 709,
   "metadata": {},
   "outputs": [],
   "source": [
    "means = [np.mean(df['price']) for df in [oilspot, elspot]]\n",
    "stds = [np.std(df['price']) for df in [oilspot, elspot]]"
   ]
  },
  {
   "cell_type": "code",
   "execution_count": 710,
   "metadata": {},
   "outputs": [],
   "source": [
    "perc_masks = create_percentile_mask_dict(oil_el, means=means, stds=stds)"
   ]
  },
  {
   "cell_type": "code",
   "execution_count": 711,
   "metadata": {},
   "outputs": [],
   "source": [
    "def create_date_mask_dict(date_ts, weekday=False, month=False):\n",
    "    \n",
    "    df = date_ts.copy().to_frame()\n",
    "    \n",
    "    date_col = df.columns[0]\n",
    "    \n",
    "    masks = {}\n",
    "    \n",
    "    if weekday:\n",
    "        df['weekday'] = [d.weekday() for d in df[date_col]]\n",
    "        \n",
    "        weekdays = ['Monday', 'Tuesday', 'Wednesday', 'Thursday', 'Friday', 'Saturday', 'Sunday']\n",
    "\n",
    "        for i, day in enumerate(weekdays):\n",
    "            masks[day] = [df['weekday']==i]\n",
    "            \n",
    "    if month:\n",
    "        df['month'] = [d.month for d in df[date_col]]\n",
    "        \n",
    "        months = ['January', 'February', 'March', 'April', 'May', 'June', 'July', \n",
    "                  'August', 'September', 'October', 'November', 'December']\n",
    "        \n",
    "        for i, m in enumerate(months):\n",
    "            masks[m] = [df['month']==i]\n",
    "        \n",
    "    return masks.copy()"
   ]
  },
  {
   "cell_type": "code",
   "execution_count": 719,
   "metadata": {},
   "outputs": [],
   "source": [
    "date_masks = create_date_mask_dict(oil_el_days, weekday=True, month=False)"
   ]
  },
  {
   "cell_type": "code",
   "execution_count": 721,
   "metadata": {},
   "outputs": [],
   "source": [
    "all_masks = date_masks.copy()\n",
    "all_masks.update(perc_masks)"
   ]
  },
  {
   "cell_type": "code",
   "execution_count": 722,
   "metadata": {},
   "outputs": [
    {
     "data": {
      "text/plain": [
       "827"
      ]
     },
     "execution_count": 722,
     "metadata": {},
     "output_type": "execute_result"
    }
   ],
   "source": [
    "n = len(date_masks['Monday'][0])\n",
    "n"
   ]
  },
  {
   "cell_type": "code",
   "execution_count": 723,
   "metadata": {},
   "outputs": [],
   "source": [
    "transactions = create_transactions_array(all_masks, n)"
   ]
  },
  {
   "cell_type": "code",
   "execution_count": null,
   "metadata": {},
   "outputs": [],
   "source": []
  },
  {
   "cell_type": "code",
   "execution_count": 733,
   "metadata": {},
   "outputs": [
    {
     "name": "stdout",
     "output_type": "stream",
     "text": [
      "Items:  {'m2std_price_el', 'm3std_price_oil'}\n",
      "Support: 0.0266\n",
      "BODY -> HEAD[Confidence, Lift]\n",
      "\n",
      "\t{'m3std_price_oil'}  ->  {'m2std_price_el'}[1.00, 14.51]\n",
      "\n",
      "\n"
     ]
    }
   ],
   "source": [
    "min_support = 10/n\n",
    "rec = apriori(transactions, min_support=min_support, min_confidence=0.6, min_lift=1.2)\n",
    "pprint_records(list(rec))"
   ]
  },
  {
   "cell_type": "markdown",
   "metadata": {},
   "source": [
    "Cool! Extremely low oil prices has a definite impact on el prices! \n",
    "\n",
    "This is the strongest rule by far for this support. No other rule is even above lift 1.2.\n",
    "\n",
    "Lift 1.2 is really not impressive, so we're upping the support."
   ]
  },
  {
   "cell_type": "code",
   "execution_count": 756,
   "metadata": {},
   "outputs": [],
   "source": [
    "min_support = 25/n\n",
    "rec = apriori(transactions, min_support=min_support, min_confidence=0.6, min_lift=1.2)\n",
    "pprint_records(list(rec))"
   ]
  },
  {
   "cell_type": "markdown",
   "metadata": {},
   "source": [
    "Actually, we're not able to find anything of interest here! At any n, we find no rule with more than 1.2 lift"
   ]
  },
  {
   "cell_type": "markdown",
   "metadata": {},
   "source": [
    "The rule high temperatures imply slightly higher oil prices seem to hold water.\n",
    "\n",
    "Also, some indication that slightly lower el prices are accompanied by normal temperature and oil prices."
   ]
  },
  {
   "cell_type": "markdown",
   "metadata": {},
   "source": [
    "Extremely low oil prices definitely made the el prices drop!"
   ]
  },
  {
   "cell_type": "markdown",
   "metadata": {},
   "source": [
    "On the general side, normal oil prices are slightly more prevalent during times of a bit colder temperatures.\n",
    "\n",
    "The strength of the rule is slightly increased if there also are normal el prices."
   ]
  },
  {
   "cell_type": "markdown",
   "metadata": {},
   "source": [
    "### How 'bout weather, oil and el prices?"
   ]
  },
  {
   "cell_type": "code",
   "execution_count": 757,
   "metadata": {},
   "outputs": [
    {
     "data": {
      "text/html": [
       "<div>\n",
       "<style scoped>\n",
       "    .dataframe tbody tr th:only-of-type {\n",
       "        vertical-align: middle;\n",
       "    }\n",
       "\n",
       "    .dataframe tbody tr th {\n",
       "        vertical-align: top;\n",
       "    }\n",
       "\n",
       "    .dataframe thead th {\n",
       "        text-align: right;\n",
       "    }\n",
       "</style>\n",
       "<table border=\"1\" class=\"dataframe\">\n",
       "  <thead>\n",
       "    <tr style=\"text-align: right;\">\n",
       "      <th></th>\n",
       "      <th></th>\n",
       "      <th>temperature</th>\n",
       "    </tr>\n",
       "    <tr>\n",
       "      <th></th>\n",
       "      <th>weather_station</th>\n",
       "      <th></th>\n",
       "    </tr>\n",
       "  </thead>\n",
       "  <tbody>\n",
       "    <tr>\n",
       "      <th>2018-01-01 00:00:00</th>\n",
       "      <th>SN35210</th>\n",
       "      <td>-0.3</td>\n",
       "    </tr>\n",
       "    <tr>\n",
       "      <th>2018-01-01 01:00:00</th>\n",
       "      <th>SN35210</th>\n",
       "      <td>-0.5</td>\n",
       "    </tr>\n",
       "    <tr>\n",
       "      <th>2018-01-01 02:00:00</th>\n",
       "      <th>SN35210</th>\n",
       "      <td>-1.4</td>\n",
       "    </tr>\n",
       "  </tbody>\n",
       "</table>\n",
       "</div>"
      ],
      "text/plain": [
       "                                     temperature\n",
       "                    weather_station             \n",
       "2018-01-01 00:00:00 SN35210                 -0.3\n",
       "2018-01-01 01:00:00 SN35210                 -0.5\n",
       "2018-01-01 02:00:00 SN35210                 -1.4"
      ]
     },
     "execution_count": 757,
     "metadata": {},
     "output_type": "execute_result"
    }
   ],
   "source": [
    "w = pd.read_csv('cleansed_data//Weather.csv', index_col=[0,1], \n",
    "                dtype={'temperature':'float32', 'weather_station':'str'}, parse_dates=True)\n",
    "w.head(3)"
   ]
  },
  {
   "cell_type": "markdown",
   "metadata": {},
   "source": [
    "Let's make one complete temperature series using the median measurement in Agder."
   ]
  },
  {
   "cell_type": "code",
   "execution_count": 694,
   "metadata": {},
   "outputs": [],
   "source": [
    "first_date = min(w.index.get_level_values(0))\n",
    "last_date = max(w.index.get_level_values(0))\n",
    "median_temps = pd.DataFrame(index=pd.date_range(start=first_date, end=last_date, freq='H'), columns=['temperature'])"
   ]
  },
  {
   "cell_type": "code",
   "execution_count": 695,
   "metadata": {},
   "outputs": [],
   "source": [
    "median_temps['temperature'] = [np.nanmedian(w.loc[idx]) for idx in median_temps.index]\n",
    "median_temps = median_temps.resample(rule='D').mean()"
   ]
  },
  {
   "cell_type": "code",
   "execution_count": 758,
   "metadata": {},
   "outputs": [
    {
     "data": {
      "text/html": [
       "<div>\n",
       "<style scoped>\n",
       "    .dataframe tbody tr th:only-of-type {\n",
       "        vertical-align: middle;\n",
       "    }\n",
       "\n",
       "    .dataframe tbody tr th {\n",
       "        vertical-align: top;\n",
       "    }\n",
       "\n",
       "    .dataframe thead th {\n",
       "        text-align: right;\n",
       "    }\n",
       "</style>\n",
       "<table border=\"1\" class=\"dataframe\">\n",
       "  <thead>\n",
       "    <tr style=\"text-align: right;\">\n",
       "      <th></th>\n",
       "      <th>temperature</th>\n",
       "      <th>day</th>\n",
       "    </tr>\n",
       "  </thead>\n",
       "  <tbody>\n",
       "    <tr>\n",
       "      <th>2018-01-01</th>\n",
       "      <td>4.054167</td>\n",
       "      <td>2018-01-01</td>\n",
       "    </tr>\n",
       "    <tr>\n",
       "      <th>2018-01-02</th>\n",
       "      <td>1.866667</td>\n",
       "      <td>2018-01-02</td>\n",
       "    </tr>\n",
       "    <tr>\n",
       "      <th>2018-01-03</th>\n",
       "      <td>2.341667</td>\n",
       "      <td>2018-01-03</td>\n",
       "    </tr>\n",
       "    <tr>\n",
       "      <th>2018-01-04</th>\n",
       "      <td>1.425000</td>\n",
       "      <td>2018-01-04</td>\n",
       "    </tr>\n",
       "    <tr>\n",
       "      <th>2018-01-05</th>\n",
       "      <td>0.541667</td>\n",
       "      <td>2018-01-05</td>\n",
       "    </tr>\n",
       "  </tbody>\n",
       "</table>\n",
       "</div>"
      ],
      "text/plain": [
       "            temperature         day\n",
       "2018-01-01     4.054167  2018-01-01\n",
       "2018-01-02     1.866667  2018-01-02\n",
       "2018-01-03     2.341667  2018-01-03\n",
       "2018-01-04     1.425000  2018-01-04\n",
       "2018-01-05     0.541667  2018-01-05"
      ]
     },
     "execution_count": 758,
     "metadata": {},
     "output_type": "execute_result"
    }
   ],
   "source": [
    "median_temps.head()"
   ]
  },
  {
   "cell_type": "code",
   "execution_count": 697,
   "metadata": {},
   "outputs": [],
   "source": [
    "median_temps['day'] = median_temps.index.date"
   ]
  },
  {
   "cell_type": "code",
   "execution_count": 698,
   "metadata": {},
   "outputs": [],
   "source": [
    "temp_el = median_temps.merge(elspot.drop('day', axis=1), how='inner', left_index=True, right_index=True)"
   ]
  },
  {
   "cell_type": "code",
   "execution_count": 699,
   "metadata": {},
   "outputs": [],
   "source": [
    "temp_el_oil = temp_el.merge(oilspot, how='inner', left_on='day', right_on='day', suffixes=('_el', '_oil'))\n",
    "\n",
    "temp_el_oil_days = temp_el_oil['day']\n",
    "temp_el_oil = temp_el_oil.drop('day', axis=1)"
   ]
  },
  {
   "cell_type": "code",
   "execution_count": 759,
   "metadata": {},
   "outputs": [
    {
     "data": {
      "text/html": [
       "<div>\n",
       "<style scoped>\n",
       "    .dataframe tbody tr th:only-of-type {\n",
       "        vertical-align: middle;\n",
       "    }\n",
       "\n",
       "    .dataframe tbody tr th {\n",
       "        vertical-align: top;\n",
       "    }\n",
       "\n",
       "    .dataframe thead th {\n",
       "        text-align: right;\n",
       "    }\n",
       "</style>\n",
       "<table border=\"1\" class=\"dataframe\">\n",
       "  <thead>\n",
       "    <tr style=\"text-align: right;\">\n",
       "      <th></th>\n",
       "      <th>temperature</th>\n",
       "      <th>price_el</th>\n",
       "      <th>price_oil</th>\n",
       "    </tr>\n",
       "  </thead>\n",
       "  <tbody>\n",
       "    <tr>\n",
       "      <th>0</th>\n",
       "      <td>4.054167</td>\n",
       "      <td>26.039583</td>\n",
       "      <td>66.730003</td>\n",
       "    </tr>\n",
       "    <tr>\n",
       "      <th>1</th>\n",
       "      <td>1.866667</td>\n",
       "      <td>31.792084</td>\n",
       "      <td>66.650002</td>\n",
       "    </tr>\n",
       "    <tr>\n",
       "      <th>2</th>\n",
       "      <td>2.341667</td>\n",
       "      <td>28.320417</td>\n",
       "      <td>67.849998</td>\n",
       "    </tr>\n",
       "    <tr>\n",
       "      <th>3</th>\n",
       "      <td>1.425000</td>\n",
       "      <td>31.970833</td>\n",
       "      <td>68.730003</td>\n",
       "    </tr>\n",
       "    <tr>\n",
       "      <th>4</th>\n",
       "      <td>0.541667</td>\n",
       "      <td>31.174999</td>\n",
       "      <td>68.010002</td>\n",
       "    </tr>\n",
       "  </tbody>\n",
       "</table>\n",
       "</div>"
      ],
      "text/plain": [
       "   temperature   price_el  price_oil\n",
       "0     4.054167  26.039583  66.730003\n",
       "1     1.866667  31.792084  66.650002\n",
       "2     2.341667  28.320417  67.849998\n",
       "3     1.425000  31.970833  68.730003\n",
       "4     0.541667  31.174999  68.010002"
      ]
     },
     "execution_count": 759,
     "metadata": {},
     "output_type": "execute_result"
    }
   ],
   "source": [
    "temp_el_oil.head()"
   ]
  },
  {
   "cell_type": "code",
   "execution_count": 760,
   "metadata": {},
   "outputs": [
    {
     "data": {
      "text/html": [
       "<div>\n",
       "<style scoped>\n",
       "    .dataframe tbody tr th:only-of-type {\n",
       "        vertical-align: middle;\n",
       "    }\n",
       "\n",
       "    .dataframe tbody tr th {\n",
       "        vertical-align: top;\n",
       "    }\n",
       "\n",
       "    .dataframe thead th {\n",
       "        text-align: right;\n",
       "    }\n",
       "</style>\n",
       "<table border=\"1\" class=\"dataframe\">\n",
       "  <thead>\n",
       "    <tr style=\"text-align: right;\">\n",
       "      <th></th>\n",
       "      <th>temperature</th>\n",
       "      <th>price_el</th>\n",
       "      <th>price_oil</th>\n",
       "    </tr>\n",
       "  </thead>\n",
       "  <tbody>\n",
       "    <tr>\n",
       "      <th>0</th>\n",
       "      <td>4.054167</td>\n",
       "      <td>26.039583</td>\n",
       "      <td>66.730003</td>\n",
       "    </tr>\n",
       "    <tr>\n",
       "      <th>1</th>\n",
       "      <td>1.866667</td>\n",
       "      <td>31.792084</td>\n",
       "      <td>66.650002</td>\n",
       "    </tr>\n",
       "    <tr>\n",
       "      <th>2</th>\n",
       "      <td>2.341667</td>\n",
       "      <td>28.320417</td>\n",
       "      <td>67.849998</td>\n",
       "    </tr>\n",
       "    <tr>\n",
       "      <th>3</th>\n",
       "      <td>1.425000</td>\n",
       "      <td>31.970833</td>\n",
       "      <td>68.730003</td>\n",
       "    </tr>\n",
       "    <tr>\n",
       "      <th>4</th>\n",
       "      <td>0.541667</td>\n",
       "      <td>31.174999</td>\n",
       "      <td>68.010002</td>\n",
       "    </tr>\n",
       "  </tbody>\n",
       "</table>\n",
       "</div>"
      ],
      "text/plain": [
       "   temperature   price_el  price_oil\n",
       "0     4.054167  26.039583  66.730003\n",
       "1     1.866667  31.792084  66.650002\n",
       "2     2.341667  28.320417  67.849998\n",
       "3     1.425000  31.970833  68.730003\n",
       "4     0.541667  31.174999  68.010002"
      ]
     },
     "execution_count": 760,
     "metadata": {},
     "output_type": "execute_result"
    }
   ],
   "source": [
    "means = [np.mean(median_temps['temperature']), np.mean(elspot['price']), np.mean(oilspot['price'])]\n",
    "stds = [np.std(median_temps['temperature']), np.std(elspot['price']), np.std(oilspot['price'])]\n",
    "\n",
    "temp_el_oil.head()"
   ]
  },
  {
   "cell_type": "code",
   "execution_count": 761,
   "metadata": {},
   "outputs": [],
   "source": [
    "perc_masks = create_percentile_mask_dict(temp_el_oil, means=means, stds=stds)\n",
    "date_masks = create_date_mask_dict(temp_el_oil_days, weekday=True, month=False)\n",
    "\n",
    "all_masks = date_masks.copy()\n",
    "all_masks.update(perc_masks)\n",
    "\n",
    "n = len(perc_masks['m0std'][0])\n",
    "transactions = create_transactions_array(all_masks, n)"
   ]
  },
  {
   "cell_type": "code",
   "execution_count": 762,
   "metadata": {},
   "outputs": [
    {
     "data": {
      "text/plain": [
       "790"
      ]
     },
     "execution_count": 762,
     "metadata": {},
     "output_type": "execute_result"
    }
   ],
   "source": [
    "n"
   ]
  },
  {
   "cell_type": "markdown",
   "metadata": {},
   "source": [
    "Any specific rules for low support?"
   ]
  },
  {
   "cell_type": "code",
   "execution_count": 779,
   "metadata": {},
   "outputs": [
    {
     "name": "stdout",
     "output_type": "stream",
     "text": [
      "Items:  {'p1std_price_el', 'm1std_price_oil'}\n",
      "Support: 0.0127\n",
      "BODY -> HEAD[Confidence, Lift]\n",
      "\n",
      "\t{'m1std_price_oil'}  ->  {'p1std_price_el'}[0.71, 5.22]\n",
      "\n",
      "\n",
      "Items:  {'m1std_temperature', 'p2std_price_el'}\n",
      "Support: 0.0089\n",
      "BODY -> HEAD[Confidence, Lift]\n",
      "\n",
      "\t{'p2std_price_el'}  ->  {'m1std_temperature'}[1.00, 5.85]\n",
      "\n",
      "\n",
      "Items:  {'m1std_temperature', 'm0std_price_oil', 'p2std_price_el'}\n",
      "Support: 0.0089\n",
      "BODY -> HEAD[Confidence, Lift]\n",
      "\n",
      "\t{'p2std_price_el'}  ->  {'m1std_temperature', 'm0std_price_oil'}[1.00, 6.12]\n",
      "\n",
      "\n",
      "\t{'m0std_price_oil', 'p2std_price_el'}  ->  {'m1std_temperature'}[1.00, 5.85]\n",
      "\n",
      "\n",
      "Items:  {'p1std_price_el', 'm0std_temperature', 'm1std_price_oil'}\n",
      "Support: 0.0089\n",
      "BODY -> HEAD[Confidence, Lift]\n",
      "\n",
      "\t{'m0std_temperature', 'm1std_price_oil'}  ->  {'p1std_price_el'}[0.70, 5.12]\n",
      "\n",
      "\n"
     ]
    }
   ],
   "source": [
    "min_support = 5/n\n",
    "rec = apriori(transactions, min_support=min_support, min_confidence=0.6, min_lift=5)\n",
    "pprint_records(list(rec))"
   ]
  },
  {
   "cell_type": "markdown",
   "metadata": {},
   "source": [
    "Seems that in times of very high el prices, you may expect there to be moderately cold weather.\n",
    "\n",
    "Arguably moderately low oil prices may lead to moderately high el prices.\n",
    "\n",
    "Any general rules?"
   ]
  },
  {
   "cell_type": "code",
   "execution_count": 785,
   "metadata": {},
   "outputs": [
    {
     "name": "stdout",
     "output_type": "stream",
     "text": [
      "Items:  {'m0std_temperature', 'm1std_price_el'}\n",
      "Support: 0.0405\n",
      "BODY -> HEAD[Confidence, Lift]\n",
      "\n",
      "\t{'m1std_price_el'}  ->  {'m0std_temperature'}[0.84, 1.37]\n",
      "\n",
      "\n",
      "Items:  {'m1std_price_el', 'm0std_temperature', 'm0std_price_oil'}\n",
      "Support: 0.0354\n",
      "BODY -> HEAD[Confidence, Lift]\n",
      "\n",
      "\t{'m1std_price_el'}  ->  {'m0std_temperature', 'm0std_price_oil'}[0.74, 1.53]\n",
      "\n",
      "\n",
      "\t{'m1std_price_el', 'm0std_price_oil'}  ->  {'m0std_temperature'}[0.88, 1.43]\n",
      "\n",
      "\n"
     ]
    }
   ],
   "source": [
    "min_support = 25/n\n",
    "rec = apriori(transactions, min_support=min_support, min_confidence=0.6, min_lift=1.3)\n",
    "pprint_records(list(rec))"
   ]
  },
  {
   "cell_type": "markdown",
   "metadata": {},
   "source": [
    "In times of moderately low el prices the probability of normal temperature and oil prices is higher than usual."
   ]
  },
  {
   "cell_type": "markdown",
   "metadata": {},
   "source": [
    "Summary thus far:\n",
    " * Strong indication that extremely low oil prices drive down el prices substantially.\n",
    " * In times of very high el prices, the weather is much more likely to be cold than elsewhen.\n",
    " * Good indications that slightly low oil prices drive el prices slightly up."
   ]
  },
  {
   "cell_type": "markdown",
   "metadata": {},
   "source": [
    "## Mix in consumption"
   ]
  },
  {
   "cell_type": "code",
   "execution_count": 840,
   "metadata": {},
   "outputs": [
    {
     "data": {
      "text/html": [
       "<div>\n",
       "<style scoped>\n",
       "    .dataframe tbody tr th:only-of-type {\n",
       "        vertical-align: middle;\n",
       "    }\n",
       "\n",
       "    .dataframe tbody tr th {\n",
       "        vertical-align: top;\n",
       "    }\n",
       "\n",
       "    .dataframe thead th {\n",
       "        text-align: right;\n",
       "    }\n",
       "</style>\n",
       "<table border=\"1\" class=\"dataframe\">\n",
       "  <thead>\n",
       "    <tr style=\"text-align: right;\">\n",
       "      <th></th>\n",
       "      <th>consumption_kvah</th>\n",
       "      <th>temperature</th>\n",
       "      <th>el_price</th>\n",
       "      <th>oil_price</th>\n",
       "    </tr>\n",
       "    <tr>\n",
       "      <th>idx</th>\n",
       "      <th></th>\n",
       "      <th></th>\n",
       "      <th></th>\n",
       "      <th></th>\n",
       "    </tr>\n",
       "  </thead>\n",
       "  <tbody>\n",
       "    <tr>\n",
       "      <th>0</th>\n",
       "      <td>111.317436</td>\n",
       "      <td>10.386364</td>\n",
       "      <td>45.435455</td>\n",
       "      <td>85.449997</td>\n",
       "    </tr>\n",
       "    <tr>\n",
       "      <th>1</th>\n",
       "      <td>107.572670</td>\n",
       "      <td>10.400000</td>\n",
       "      <td>47.715416</td>\n",
       "      <td>86.070000</td>\n",
       "    </tr>\n",
       "    <tr>\n",
       "      <th>2</th>\n",
       "      <td>104.631226</td>\n",
       "      <td>12.108334</td>\n",
       "      <td>46.195835</td>\n",
       "      <td>85.120003</td>\n",
       "    </tr>\n",
       "    <tr>\n",
       "      <th>3</th>\n",
       "      <td>92.616318</td>\n",
       "      <td>9.412500</td>\n",
       "      <td>46.522499</td>\n",
       "      <td>85.120003</td>\n",
       "    </tr>\n",
       "    <tr>\n",
       "      <th>4</th>\n",
       "      <td>94.981438</td>\n",
       "      <td>9.025000</td>\n",
       "      <td>46.345833</td>\n",
       "      <td>85.120003</td>\n",
       "    </tr>\n",
       "  </tbody>\n",
       "</table>\n",
       "</div>"
      ],
      "text/plain": [
       "     consumption_kvah  temperature   el_price  oil_price\n",
       "idx                                                     \n",
       "0          111.317436    10.386364  45.435455  85.449997\n",
       "1          107.572670    10.400000  47.715416  86.070000\n",
       "2          104.631226    12.108334  46.195835  85.120003\n",
       "3           92.616318     9.412500  46.522499  85.120003\n",
       "4           94.981438     9.025000  46.345833  85.120003"
      ]
     },
     "execution_count": 840,
     "metadata": {},
     "output_type": "execute_result"
    }
   ],
   "source": [
    "df_copy.head()"
   ]
  },
  {
   "cell_type": "code",
   "execution_count": 841,
   "metadata": {},
   "outputs": [],
   "source": [
    "transactions = []\n",
    "\n",
    "for loc, df in d.items():\n",
    "    df_copy = df.copy()\n",
    "        \n",
    "    df_copy = df_copy.drop('loc_id', axis=1)\n",
    "    \n",
    "    df_copy = df_copy.resample(rule='D').mean()\n",
    "    \n",
    "    df_copy['day'] = df_copy.index.date\n",
    "\n",
    "    df_copy['idx'] = [i for i in range(len(df_copy))]\n",
    "    df_copy = df_copy.set_index('idx')\n",
    "    \n",
    "    df_copy_days = df_copy['day']\n",
    "    df_copy = df_copy.drop('day', axis=1)\n",
    "        \n",
    "    means = [np.mean(df_copy['consumption_kvah']), np.mean(median_temps['temperature']), \n",
    "             np.mean(elspot['price']), np.mean(oilspot['price'])]\n",
    "    \n",
    "    stds = [np.std(df_copy['consumption_kvah']), np.std(median_temps['temperature']), \n",
    "             np.std(elspot['price']), np.std(oilspot['price'])]\n",
    "    \n",
    "    perc_masks = create_percentile_mask_dict(df_copy, means=means, stds=stds)\n",
    "    date_masks = create_date_mask_dict(df_copy_days, weekday=True, month=False)\n",
    "    \n",
    "    all_masks = date_masks.copy()\n",
    "    all_masks.update(perc_masks)\n",
    "\n",
    "    n = len(perc_masks['m0std'][0])\n",
    "    trans = [t+[f'loc_{loc}'] for t in create_transactions_array(all_masks, n)]\n",
    "    \n",
    "    transactions += trans"
   ]
  },
  {
   "cell_type": "code",
   "execution_count": 856,
   "metadata": {},
   "outputs": [
    {
     "name": "stdout",
     "output_type": "stream",
     "text": [
      "Items:  {'m1std_oil_price', 'p1std_el_price'}\n",
      "Support: 0.0138\n",
      "BODY -> HEAD[Confidence, Lift]\n",
      "\n",
      "\t{'m1std_oil_price'}  ->  {'p1std_el_price'}[0.83, 5.89]\n",
      "\n",
      "\n"
     ]
    }
   ],
   "source": [
    "min_support = 5/n\n",
    "rec = apriori(transactions, min_support=min_support, min_confidence=0.8, min_lift=5)\n",
    "pprint_records(list(rec))"
   ]
  },
  {
   "cell_type": "markdown",
   "metadata": {},
   "source": [
    "This is old news, eyh?"
   ]
  },
  {
   "cell_type": "code",
   "execution_count": 855,
   "metadata": {},
   "outputs": [
    {
     "name": "stdout",
     "output_type": "stream",
     "text": [
      "Items:  {'p2std_temperature', 'm1std_consumption_kvah'}\n",
      "Support: 0.0155\n",
      "BODY -> HEAD[Confidence, Lift]\n",
      "\n",
      "\t{'p2std_temperature'}  ->  {'m1std_consumption_kvah'}[0.83, 4.37]\n",
      "\n",
      "\n",
      "Items:  {'m1std_oil_price', 'p1std_el_price'}\n",
      "Support: 0.0138\n",
      "BODY -> HEAD[Confidence, Lift]\n",
      "\n",
      "\t{'m1std_oil_price'}  ->  {'p1std_el_price'}[0.83, 5.89]\n",
      "\n",
      "\n",
      "Items:  {'p1std_temperature', 'loc_8', 'm1std_consumption_kvah'}\n",
      "Support: 0.0102\n",
      "BODY -> HEAD[Confidence, Lift]\n",
      "\n",
      "\t{'p1std_temperature', 'loc_8'}  ->  {'m1std_consumption_kvah'}[0.83, 4.41]\n",
      "\n",
      "\n",
      "Items:  {'p1std_temperature', 'p1std_el_price', 'm0std_oil_price', 'm1std_consumption_kvah'}\n",
      "Support: 0.0142\n",
      "BODY -> HEAD[Confidence, Lift]\n",
      "\n",
      "\t{'p1std_el_price', 'm0std_oil_price', 'm1std_consumption_kvah'}  ->  {'p1std_temperature'}[0.84, 4.43]\n",
      "\n",
      "\n"
     ]
    }
   ],
   "source": [
    "min_support = 5/n\n",
    "rec = apriori(transactions, min_support=min_support, min_confidence=0.8, min_lift=4.3)\n",
    "pprint_records(list(rec))"
   ]
  },
  {
   "cell_type": "markdown",
   "metadata": {},
   "source": [
    "**Take-home**: \n",
    " * Very high temperatures imply moderately low consumption.\n",
    " * Again: Slightly lower oil prices imply slightly higher el prices.\n",
    " * At location 8, slightly high temperatures imply slightly higher consumption.\n",
    " * You're more likely than elsewhen to observe moderately high temperature when el prices are moderately high, oil prices are normal and consumption is moderately low."
   ]
  },
  {
   "cell_type": "markdown",
   "metadata": {},
   "source": [
    "Upping support to fetch more general data"
   ]
  },
  {
   "cell_type": "code",
   "execution_count": 872,
   "metadata": {},
   "outputs": [
    {
     "name": "stdout",
     "output_type": "stream",
     "text": [
      "Items:  {'p1std_temperature', 'p1std_el_price', 'm1std_consumption_kvah'}\n",
      "Support: 0.0305\n",
      "BODY -> HEAD[Confidence, Lift]\n",
      "\n",
      "\t{'p1std_temperature', 'p1std_el_price'}  ->  {'m1std_consumption_kvah'}[0.74, 3.94]\n",
      "\n",
      "\n",
      "Items:  {'m1std_temperature', 'p1std_consumption_kvah', 'm0std_oil_price', 'p1std_el_price'}\n",
      "Support: 0.0225\n",
      "BODY -> HEAD[Confidence, Lift]\n",
      "\n",
      "\t{'m1std_temperature', 'p1std_el_price', 'm0std_oil_price'}  ->  {'p1std_consumption_kvah'}[0.71, 4.00]\n",
      "\n",
      "\n"
     ]
    }
   ],
   "source": [
    "min_support = 10/n\n",
    "rec = apriori(transactions, min_support=min_support, min_confidence=0.7, min_lift=3)\n",
    "pprint_records(list(rec))"
   ]
  },
  {
   "cell_type": "markdown",
   "metadata": {},
   "source": [
    "High temperatures and high el prices imply low consumption,\n",
    "\n",
    "low temperatures and high el prices imply high consumption"
   ]
  },
  {
   "cell_type": "markdown",
   "metadata": {},
   "source": [
    "Upping support"
   ]
  },
  {
   "cell_type": "code",
   "execution_count": 887,
   "metadata": {},
   "outputs": [
    {
     "name": "stdout",
     "output_type": "stream",
     "text": [
      "Items:  {'p1std_temperature', 'm0std_oil_price', 'm1std_consumption_kvah'}\n",
      "Support: 0.0734\n",
      "BODY -> HEAD[Confidence, Lift]\n",
      "\n",
      "\t{'m0std_oil_price', 'm1std_consumption_kvah'}  ->  {'p1std_temperature'}[0.65, 3.45]\n",
      "\n",
      "\n",
      "Items:  {'p1std_temperature', 'p1std_oil_price', 'm1std_consumption_kvah'}\n",
      "Support: 0.0457\n",
      "BODY -> HEAD[Confidence, Lift]\n",
      "\n",
      "\t{'p1std_temperature', 'p1std_oil_price'}  ->  {'m1std_consumption_kvah'}[0.67, 3.57]\n",
      "\n",
      "\n"
     ]
    }
   ],
   "source": [
    "min_support = 20/n\n",
    "rec = apriori(transactions, min_support=min_support, min_confidence=0.60, min_lift=3.4)\n",
    "pprint_records(list(rec))"
   ]
  },
  {
   "cell_type": "markdown",
   "metadata": {},
   "source": [
    "High temperatures and high oil prices might imply low consumption"
   ]
  },
  {
   "cell_type": "code",
   "execution_count": 888,
   "metadata": {},
   "outputs": [
    {
     "name": "stdout",
     "output_type": "stream",
     "text": [
      "Items:  {'p1std_temperature', 'm1std_consumption_kvah'}\n",
      "Support: 0.1190\n",
      "BODY -> HEAD[Confidence, Lift]\n",
      "\n",
      "\t{'m1std_consumption_kvah'}  ->  {'p1std_temperature'}[0.63, 3.32]\n",
      "\n",
      "\n",
      "\t{'p1std_temperature'}  ->  {'m1std_consumption_kvah'}[0.63, 3.32]\n",
      "\n",
      "\n",
      "Items:  {'p1std_temperature', 'm0std_el_price', 'm1std_consumption_kvah'}\n",
      "Support: 0.0868\n",
      "BODY -> HEAD[Confidence, Lift]\n",
      "\n",
      "\t{'m0std_el_price', 'm1std_consumption_kvah'}  ->  {'p1std_temperature'}[0.63, 3.34]\n",
      "\n",
      "\n",
      "Items:  {'p1std_temperature', 'm0std_oil_price', 'm1std_consumption_kvah'}\n",
      "Support: 0.0734\n",
      "BODY -> HEAD[Confidence, Lift]\n",
      "\n",
      "\t{'m0std_oil_price', 'm1std_consumption_kvah'}  ->  {'p1std_temperature'}[0.65, 3.45]\n",
      "\n",
      "\n",
      "Items:  {'p1std_temperature', 'p1std_oil_price', 'm1std_consumption_kvah'}\n",
      "Support: 0.0457\n",
      "BODY -> HEAD[Confidence, Lift]\n",
      "\n",
      "\t{'p1std_temperature', 'p1std_oil_price'}  ->  {'m1std_consumption_kvah'}[0.67, 3.57]\n",
      "\n",
      "\n"
     ]
    }
   ],
   "source": [
    "min_support = 20/n\n",
    "rec = apriori(transactions, min_support=min_support, min_confidence=0.60, min_lift=3.3)\n",
    "pprint_records(list(rec))"
   ]
  },
  {
   "cell_type": "markdown",
   "metadata": {},
   "source": [
    "{'p1std_temperature', 'p1std_oil_price'}  ->  {'m1std_consumption_kvah'}[0.67, 3.57]\n",
    "\n",
    "slightly improved\n",
    "\n",
    "{'m1std_consumption_kvah'}  ->  {'p1std_temperature'}[0.63, 3.32]"
   ]
  },
  {
   "cell_type": "code",
   "execution_count": 889,
   "metadata": {},
   "outputs": [
    {
     "name": "stdout",
     "output_type": "stream",
     "text": [
      "Items:  {'p1std_temperature', 'm1std_consumption_kvah'}\n",
      "Support: 0.1190\n",
      "BODY -> HEAD[Confidence, Lift]\n",
      "\n",
      "\t{'m1std_consumption_kvah'}  ->  {'p1std_temperature'}[0.63, 3.32]\n",
      "\n",
      "\n",
      "\t{'p1std_temperature'}  ->  {'m1std_consumption_kvah'}[0.63, 3.32]\n",
      "\n",
      "\n",
      "Items:  {'p1std_temperature', 'm0std_el_price', 'm1std_consumption_kvah'}\n",
      "Support: 0.0868\n",
      "BODY -> HEAD[Confidence, Lift]\n",
      "\n",
      "\t{'m0std_el_price', 'm1std_consumption_kvah'}  ->  {'p1std_temperature'}[0.63, 3.34]\n",
      "\n",
      "\n",
      "Items:  {'p1std_temperature', 'm0std_oil_price', 'm1std_consumption_kvah'}\n",
      "Support: 0.0734\n",
      "BODY -> HEAD[Confidence, Lift]\n",
      "\n",
      "\t{'m0std_oil_price', 'm1std_consumption_kvah'}  ->  {'p1std_temperature'}[0.65, 3.45]\n",
      "\n",
      "\n",
      "\t{'p1std_temperature', 'm0std_oil_price'}  ->  {'m1std_consumption_kvah'}[0.60, 3.18]\n",
      "\n",
      "\n",
      "Items:  {'p1std_temperature', 'p1std_oil_price', 'm1std_consumption_kvah'}\n",
      "Support: 0.0457\n",
      "BODY -> HEAD[Confidence, Lift]\n",
      "\n",
      "\t{'p1std_oil_price', 'm1std_consumption_kvah'}  ->  {'p1std_temperature'}[0.60, 3.16]\n",
      "\n",
      "\n",
      "\t{'p1std_temperature', 'p1std_oil_price'}  ->  {'m1std_consumption_kvah'}[0.67, 3.57]\n",
      "\n",
      "\n",
      "Items:  {'p1std_temperature', 'm0std_el_price', 'm0std_oil_price', 'm1std_consumption_kvah'}\n",
      "Support: 0.0581\n",
      "BODY -> HEAD[Confidence, Lift]\n",
      "\n",
      "\t{'m0std_el_price', 'm0std_oil_price', 'm1std_consumption_kvah'}  ->  {'p1std_temperature'}[0.62, 3.28]\n",
      "\n",
      "\n"
     ]
    }
   ],
   "source": [
    "min_support = 20/n\n",
    "rec = apriori(transactions, min_support=min_support, min_confidence=0.60, min_lift=3)\n",
    "pprint_records(list(rec))"
   ]
  },
  {
   "cell_type": "markdown",
   "metadata": {},
   "source": [
    "{'p1std_temperature', 'm0std_oil_price'}  ->  {'m1std_consumption_kvah'}[0.60, 3.18]\n",
    "\n",
    "\n",
    "{'p1std_temperature', 'p1std_oil_price'}  ->  {'m1std_consumption_kvah'}[0.67, 3.57]"
   ]
  },
  {
   "cell_type": "code",
   "execution_count": 895,
   "metadata": {},
   "outputs": [
    {
     "name": "stdout",
     "output_type": "stream",
     "text": [
      "Items:  {'p1std_temperature', 'm1std_consumption_kvah'}\n",
      "Support: 0.1190\n",
      "BODY -> HEAD[Confidence, Lift]\n",
      "\n",
      "\t{'m1std_consumption_kvah'}  ->  {'p1std_temperature'}[0.63, 3.32]\n",
      "\n",
      "\n",
      "\t{'p1std_temperature'}  ->  {'m1std_consumption_kvah'}[0.63, 3.32]\n",
      "\n",
      "\n"
     ]
    }
   ],
   "source": [
    "min_support = 50/n\n",
    "rec = apriori(transactions, min_support=min_support, min_confidence=0.6, min_lift=1.5)\n",
    "pprint_records(list(rec))"
   ]
  },
  {
   "cell_type": "markdown",
   "metadata": {},
   "source": [
    "By far the most general rules here."
   ]
  },
  {
   "cell_type": "code",
   "execution_count": 900,
   "metadata": {},
   "outputs": [
    {
     "name": "stdout",
     "output_type": "stream",
     "text": [
      "Items:  {'p1std_temperature', 'p1std_el_price', 'm1std_consumption_kvah'}\n",
      "Support: 0.0305\n",
      "BODY -> HEAD[Confidence, Lift]\n",
      "\n",
      "\t{'p1std_temperature', 'p1std_el_price'}  ->  {'m1std_consumption_kvah'}[0.74, 3.94]\n",
      "\n",
      "\n",
      "Items:  {'m1std_temperature', 'p1std_consumption_kvah', 'm0std_oil_price', 'p1std_el_price'}\n",
      "Support: 0.0225\n",
      "BODY -> HEAD[Confidence, Lift]\n",
      "\n",
      "\t{'m1std_temperature', 'p1std_el_price', 'm0std_oil_price'}  ->  {'p1std_consumption_kvah'}[0.71, 4.00]\n",
      "\n",
      "\n"
     ]
    }
   ],
   "source": [
    "min_support = 10/n\n",
    "rec = apriori(transactions, min_support=min_support, min_confidence=0.7, min_lift=3)\n",
    "pprint_records(list(rec))"
   ]
  }
 ],
 "metadata": {
  "kernelspec": {
   "display_name": "Python 3",
   "language": "python",
   "name": "python3"
  },
  "language_info": {
   "codemirror_mode": {
    "name": "ipython",
    "version": 3
   },
   "file_extension": ".py",
   "mimetype": "text/x-python",
   "name": "python",
   "nbconvert_exporter": "python",
   "pygments_lexer": "ipython3",
   "version": "3.7.2"
  }
 },
 "nbformat": 4,
 "nbformat_minor": 4
}
