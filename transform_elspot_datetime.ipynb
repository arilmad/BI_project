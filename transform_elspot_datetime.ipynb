{
 "cells": [
  {
   "cell_type": "markdown",
   "metadata": {},
   "source": [
    "**Purpose of script**:\n",
    "\n",
    "Transform the csv tables containing elspotprices.\n",
    "\n",
    "Originally like\n",
    "\n",
    "|         | Hours   | Location1  |  Location2 | .... | .... |\n",
    "|-------- |-------- | --------   | ---------- | ---- | ---- |\n",
    "|01-01-18 | 00-01   | 28,081     | 27,01      | .... | .... |\n",
    "|01-01-18 | 01-02   | 28,090     | 27,12      | .... | .... |\n",
    "| ....    | ....    | ....       | ....       | .... | .... |\n",
    "|%d-%m-%y | %H-%H   | eur,eurcent| eur,eurcent| .... | .... |\n",
    "\n",
    "New look\n",
    "\n",
    "|Timestamp            |Location1   |  Location2 | .... |\n",
    "|-----------------    | -------    | ---------- | ---- |\n",
    "|2018-01-01 00:00:00  | 28,081     | 27,01      | .... |\n",
    "|2018-01-01 01:00:00  | 28,090     | 27,12      | .... |\n",
    "| ....                | ....       | ....       | .... |\n",
    "|%Y-%m-%d  %H:%M:%S   | eur,eurcent| eur,eurcent| .... |\n"
   ]
  },
  {
   "cell_type": "code",
   "execution_count": 1,
   "metadata": {},
   "outputs": [],
   "source": [
    "import pandas as pd\n",
    "import os"
   ]
  },
  {
   "cell_type": "code",
   "execution_count": 2,
   "metadata": {},
   "outputs": [],
   "source": [
    "origin_folder = 'raw//elspot_prices'\n",
    "destination_folder = 'src//elspot_prices'"
   ]
  },
  {
   "cell_type": "code",
   "execution_count": 3,
   "metadata": {},
   "outputs": [
    {
     "name": "stdout",
     "output_type": "stream",
     "text": [
      "Transformed elspot-prices_2018_hourly_eur.csv\n",
      "Transformed elspot-prices_2019_hourly_eur.csv\n",
      "Transformed elspot-prices_2020_hourly_eur.csv\n"
     ]
    }
   ],
   "source": [
    "files = os.listdir(origin_folder)\n",
    "for file in files:\n",
    "    if file.split('.')[-1] != 'csv': continue\n",
    "    df = pd.read_csv(os.path.join(origin_folder, file))\n",
    "    df['timestamp'] = [pd.to_datetime(df.iloc[i]['Unnamed: 0'] \n",
    "                                      + ' ' \n",
    "                                      + df.iloc[i]['Hours'][:2] \n",
    "                                      + ':00', format='%d-%m-%y %H:%M') \n",
    "                       for i in range(len(df.index))]\n",
    "    df.set_index('timestamp', inplace=True)\n",
    "    df = df.drop(labels=['Unnamed: 0', 'Hours'], axis=1)\n",
    "    df.to_csv(os.path.join(destination_folder, file))\n",
    "    print('Transformed', file)"
   ]
  },
  {
   "cell_type": "code",
   "execution_count": null,
   "metadata": {},
   "outputs": [],
   "source": []
  }
 ],
 "metadata": {
  "kernelspec": {
   "display_name": "Python 3",
   "language": "python",
   "name": "python3"
  },
  "language_info": {
   "codemirror_mode": {
    "name": "ipython",
    "version": 3
   },
   "file_extension": ".py",
   "mimetype": "text/x-python",
   "name": "python",
   "nbconvert_exporter": "python",
   "pygments_lexer": "ipython3",
   "version": "3.7.2"
  }
 },
 "nbformat": 4,
 "nbformat_minor": 4
}
