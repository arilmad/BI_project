{
 "cells": [
  {
   "cell_type": "markdown",
   "metadata": {},
   "source": [
    "This script fetches weather data from a weather station managed by the [Norwegian Meteorological Institute](https://www.met.no/en) and outputs it as a `.json`-file.\n",
    "\n",
    "The scripts connects to [The Frost API](https://frost.met.no/index.html) and is based on their [Python example script](https://frost.met.no/python_example.html) with a few modifications.\n",
    "\n",
    "**Please note**\n",
    " * The base stations in question for the UNIL Business Intelligence project are those listed in  `location_nearest_station.txt`.\n",
    " * [Weather and Climate Elements](https://frost.met.no/elementtable) shows all hypotethically available weather estimates. However, most turn out not to be available across the weather stations of variable sizes.\n",
    " * Because of previous point, stations with lower time resolution than one hour have been avoided in favor of stations a little farther away from the municipality for which the power consumption is registered.\n",
    " * Because of privacy issues, the consumption timeseries are only tagged with municipality, so speculating on where the closest weather station is will be a game of mere luck anyways. The distances are in any way so small that the temperature will be approximately the same.\n",
    " * The MAX air temperature over the past hour has been used, due to the fact that the MEAN function seems to malfunction."
   ]
  },
  {
   "cell_type": "code",
   "execution_count": 13,
   "metadata": {},
   "outputs": [],
   "source": [
    "import requests\n",
    "from json import dump, load\n",
    "import pandas as pd\n",
    "import os"
   ]
  },
  {
   "cell_type": "code",
   "execution_count": null,
   "metadata": {},
   "outputs": [],
   "source": [
    "# Retrieve client id from local creds.txt file\n",
    "d = {}\n",
    "with open('../frost_api/creds.txt', 'r') as f:\n",
    "    for l in f.readlines(): d[l.split()[0]] = l.split()[1]\n",
    "client_id = d['client_id']"
   ]
  },
  {
   "cell_type": "code",
   "execution_count": null,
   "metadata": {},
   "outputs": [],
   "source": [
    "# Retrieve station IDs from municipality_nearest_station.csv\n",
    "df = pd.read_csv('src//connecting_tables//municipality_nearest_station.csv')\n",
    "loc_ids = df['nearest_station'].values"
   ]
  },
  {
   "cell_type": "code",
   "execution_count": null,
   "metadata": {},
   "outputs": [],
   "source": [
    "loc_id = loc_ids[0] # Or iterate through.."
   ]
  },
  {
   "cell_type": "code",
   "execution_count": null,
   "metadata": {},
   "outputs": [],
   "source": [
    "endpoint = 'https://frost.met.no/observations/v0.jsonld'\n",
    "parameters = {\n",
    "    'sources': f'{loc_id}',\n",
    "    'elements': 'max(air_temperature PT1H)',\n",
    "    'referencetime': '2018-01-01/2020-03-01',\n",
    "}\n",
    "\n",
    "# Issue an HTTP GET request\n",
    "r = requests.get(endpoint, parameters, auth=(client_id,''))\n",
    "# Extract JSON data\n",
    "json = r.json()\n",
    "toc = time()"
   ]
  },
  {
   "cell_type": "code",
   "execution_count": null,
   "metadata": {},
   "outputs": [],
   "source": [
    "# Check if the request worked, print out any errors\n",
    "if r.status_code == 200:\n",
    "    print('Data retrieved from frost.met.no!')\n",
    "else:\n",
    "    print('Error! Returned status code %s' % r.status_code)\n",
    "    print('Message: %s' % json['error']['message'])\n",
    "    print('Reason: %s' % json['error']['reason'])"
   ]
  },
  {
   "cell_type": "code",
   "execution_count": null,
   "metadata": {},
   "outputs": [],
   "source": [
    "len(json['data'])"
   ]
  },
  {
   "cell_type": "code",
   "execution_count": null,
   "metadata": {},
   "outputs": [],
   "source": [
    "json['data'][:2]"
   ]
  },
  {
   "cell_type": "code",
   "execution_count": null,
   "metadata": {},
   "outputs": [],
   "source": [
    "with open(f'src//weather_jsons/{loc_id}.json', 'w') as f:\n",
    "    dump(json, f)"
   ]
  },
  {
   "cell_type": "code",
   "execution_count": null,
   "metadata": {},
   "outputs": [],
   "source": []
  },
  {
   "cell_type": "code",
   "execution_count": null,
   "metadata": {},
   "outputs": [],
   "source": []
  },
  {
   "cell_type": "code",
   "execution_count": null,
   "metadata": {},
   "outputs": [],
   "source": []
  },
  {
   "cell_type": "markdown",
   "metadata": {},
   "source": [
    "Run this cell to transform all `weather.json`files to `weather.csv`. \n",
    "\n",
    "The `.json`files can be directly read into sql tables later, but at my ability and computational resources the cost of reading `.json`into sql tables was approximately 60 times larger than the cost of converting them to `.csv` at this stage and then read the `.csv`files into sql tables. "
   ]
  },
  {
   "cell_type": "code",
   "execution_count": 34,
   "metadata": {},
   "outputs": [
    {
     "name": "stdout",
     "output_type": "stream",
     "text": [
      "Processed SN35210.json\n",
      "Processed SN36200.json\n",
      "Processed SN36330.json\n",
      "Processed SN38140.json\n",
      "Processed SN39040.json\n",
      "Processed SN39750.json\n",
      "Processed SN40880.json\n",
      "Processed SN41090.json\n",
      "Processed SN41770.json\n",
      "Processed SN41825.json\n",
      "Processed SN42940.json\n"
     ]
    }
   ],
   "source": [
    "origin_folder = 'src//weather_jsons//'\n",
    "destination_folder = 'src//weather_csvs//'\n",
    "\n",
    "for file in os.listdir(origin_folder):\n",
    "    if file.split('.')[-1] != 'json': continue\n",
    "        \n",
    "    with open(os.path.join(origin_folder, file),'r') as f:\n",
    "        json = load(f)\n",
    "        \n",
    "    data = json['data']\n",
    "    \n",
    "    df = pd.DataFrame()\n",
    "    for i in range(len(data)):\n",
    "        row = pd.DataFrame(data[i]['observations'])\n",
    "        row['referenceTime'] = pd.to_datetime(' '.join(data[i]['referenceTime'][:-5].split('T')))\n",
    "        row['sourceId'] = data[i]['sourceId']\n",
    "        df = df.append(row)\n",
    "    df = df.reset_index()    \n",
    "    \n",
    "    df.to_csv(os.path.join(destination_folder, file.strip('.json')+'.csv'))\n",
    "    \n",
    "    print('Processed', file)"
   ]
  },
  {
   "cell_type": "code",
   "execution_count": null,
   "metadata": {},
   "outputs": [],
   "source": []
  }
 ],
 "metadata": {
  "kernelspec": {
   "display_name": "Python 3",
   "language": "python",
   "name": "python3"
  },
  "language_info": {
   "codemirror_mode": {
    "name": "ipython",
    "version": 3
   },
   "file_extension": ".py",
   "mimetype": "text/x-python",
   "name": "python",
   "nbconvert_exporter": "python",
   "pygments_lexer": "ipython3",
   "version": "3.7.2"
  }
 },
 "nbformat": 4,
 "nbformat_minor": 4
}
