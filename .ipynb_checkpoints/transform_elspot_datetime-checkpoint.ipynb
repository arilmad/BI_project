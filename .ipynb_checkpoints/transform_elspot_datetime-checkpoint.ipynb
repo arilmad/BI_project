{
 "cells": [
  {
   "cell_type": "markdown",
   "metadata": {},
   "source": [
    "**Purpose of script**:\n",
    "\n",
    "Transform the xls tables containing elspotprices. Also, remove first rows containing metadata.\n",
    "\n",
    "Originally like\n",
    "\n",
    "|         | Hours   | Location1  |  Location2 | .... | .... |\n",
    "|-------- |-------- | --------   | ---------- | ---- | ---- |\n",
    "|01-01-18 | 00-01   | 28,081     | 27,01      | .... | .... |\n",
    "|01-01-18 | 01-02   | 28,090     | 27,12      | .... | .... |\n",
    "| ....    | ....    | ....       | ....       | .... | .... |\n",
    "|%d-%m-%y | %H-%H   | nok,øre(cent) | nok,øre(cent)| .... | .... |\n",
    "\n",
    "New look\n",
    "\n",
    "|Timestamp            |Location1   |  Location2 | .... |\n",
    "|-----------------    | -------    | ---------- | ---- |\n",
    "|2018-01-01 00:00:00  | 28,081     | 27,01      | .... |\n",
    "|2018-01-01 01:00:00  | 28,090     | 27,12      | .... |\n",
    "| ....                | ....       | ....       | .... |\n",
    "|%Y-%m-%d  %H:%M:%S   | nok,øre(cent)| nok,øre(cent)| .... |\n"
   ]
  },
  {
   "cell_type": "code",
   "execution_count": 1,
   "metadata": {},
   "outputs": [],
   "source": [
    "import pandas as pd\n",
    "from glob import glob"
   ]
  },
  {
   "cell_type": "code",
   "execution_count": 2,
   "metadata": {},
   "outputs": [],
   "source": [
    "origin_folder = 'raw//elspot_prices'\n",
    "destination_folder = 'src//elspot_prices'"
   ]
  },
  {
   "cell_type": "code",
   "execution_count": 3,
   "metadata": {},
   "outputs": [
    {
     "name": "stdout",
     "output_type": "stream",
     "text": [
      "Transformed raw//elspot_prices\\elspot-prices_2018_hourly_nok.xls\n",
      "Transformed raw//elspot_prices\\elspot-prices_2019_hourly_nok.xls\n",
      "Transformed raw//elspot_prices\\elspot-prices_2020_hourly_nok.xls\n"
     ]
    }
   ],
   "source": [
    "for file_path in glob(origin_folder + '\\\\*.xls'):\n",
    "\n",
    "    df = pd.read_html(file_path, skiprows=2, header=0)[0]\n",
    "\n",
    "    df['timestamp'] = [pd.to_datetime(df.iloc[i]['Unnamed: 0'] \n",
    "                                      + ' ' \n",
    "                                      + df.iloc[i]['Hours'][:2] \n",
    "                                      + ':00', dayfirst=True) \n",
    "                       for i in range(len(df.index))]\n",
    "    \n",
    "    df.set_index('timestamp', inplace=True)\n",
    "    df = df.drop(labels=['Unnamed: 0', 'Hours'], axis=1)\n",
    "    \n",
    "    file_name = file_path.split('\\\\')[-1]\n",
    "    df.to_csv(destination_folder + f'\\\\{file_name}')\n",
    "    print('Transformed', file_path)"
   ]
  }
 ],
 "metadata": {
  "kernelspec": {
   "display_name": "Python 3",
   "language": "python",
   "name": "python3"
  },
  "language_info": {
   "codemirror_mode": {
    "name": "ipython",
    "version": 3
   },
   "file_extension": ".py",
   "mimetype": "text/x-python",
   "name": "python",
   "nbconvert_exporter": "python",
   "pygments_lexer": "ipython3",
   "version": "3.7.2"
  }
 },
 "nbformat": 4,
 "nbformat_minor": 4
}
