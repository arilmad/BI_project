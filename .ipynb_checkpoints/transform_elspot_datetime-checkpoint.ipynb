{
 "cells": [
  {
   "cell_type": "markdown",
   "metadata": {},
   "source": [
    "**Purpose of script**:\n",
    "\n",
    "Transform the xls tables containing elspotprices. Also, remove first rows containing metadata and keep only the column for Kr.sand, which is the price relevant for this project.\n",
    "\n",
    "Originally like\n",
    "\n",
    "|         | Hours   | Location1  |  Location2 | .... | .... |\n",
    "|-------- |-------- | --------   | ---------- | ---- | ---- |\n",
    "|01-01-18 | 00-01   | 310,02     | 321,09    | .... | .... |\n",
    "|01-01-18 | 01-02   | 310,20     | 322,01     | .... | .... |\n",
    "| ....    | ....    | ....       | ....       | .... | .... |\n",
    "|%d-%m-%y | %H-%H   | nok,øre(cent) | nok,øre(cent)| .... | .... |\n",
    "\n",
    "New look\n",
    "\n",
    "|Timestamp            |Kr.sand   | \n",
    "|-----------------    | -------    |\n",
    "|2018-01-01 00:00:00  | 313,86    | \n",
    "|2018-01-01 01:00:00  | 313,83    |\n",
    "| ....                | ....       | \n",
    "|%Y-%m-%d  %H:%M:%S   | nok,øre(cent)|\n"
   ]
  },
  {
   "cell_type": "code",
   "execution_count": 1,
   "metadata": {},
   "outputs": [],
   "source": [
    "import pandas as pd\n",
    "from glob import glob"
   ]
  },
  {
   "cell_type": "code",
   "execution_count": 2,
   "metadata": {},
   "outputs": [],
   "source": [
    "origin_folder = 'raw//elspot_prices'\n",
    "destination_folder = 'sql_src//elspot_prices'"
   ]
  },
  {
   "cell_type": "code",
   "execution_count": 3,
   "metadata": {},
   "outputs": [
    {
     "name": "stdout",
     "output_type": "stream",
     "text": [
      "Transformed raw//elspot_prices\\elspot-prices_2018_hourly_nok.xls\n",
      "Transformed raw//elspot_prices\\elspot-prices_2019_hourly_nok.xls\n",
      "Transformed raw//elspot_prices\\elspot-prices_2020_hourly_nok.xls\n"
     ]
    }
   ],
   "source": [
    "for file_path in glob(origin_folder + '\\\\*.xls'):\n",
    "\n",
    "    df = pd.read_html(file_path, skiprows=2, thousands='.', header=0)[0][['Unnamed: 0', 'Hours', 'Kr.sand']]\n",
    "    df['timestamp'] = [pd.to_datetime(df.iloc[i]['Unnamed: 0'] \n",
    "                                      + ' ' \n",
    "                                      + df.iloc[i]['Hours'][:2] \n",
    "                                      + ':00', dayfirst=True) \n",
    "                       for i in range(len(df.index))]\n",
    "    \n",
    "    df = df.drop_duplicates('timestamp')\n",
    "    df.set_index('timestamp', inplace=True)\n",
    "    df = df.drop(labels=['Unnamed: 0', 'Hours'], axis=1)\n",
    "    \n",
    "    file_name = file_path.split('\\\\')[-1].strip('.xls')\n",
    "    df.to_csv(destination_folder + f'\\\\{file_name}.csv')\n",
    "    print('Transformed', file_path)"
   ]
  },
  {
   "cell_type": "code",
   "execution_count": 4,
   "metadata": {},
   "outputs": [
    {
     "data": {
      "text/html": [
       "<div>\n",
       "<style scoped>\n",
       "    .dataframe tbody tr th:only-of-type {\n",
       "        vertical-align: middle;\n",
       "    }\n",
       "\n",
       "    .dataframe tbody tr th {\n",
       "        vertical-align: top;\n",
       "    }\n",
       "\n",
       "    .dataframe thead th {\n",
       "        text-align: right;\n",
       "    }\n",
       "</style>\n",
       "<table border=\"1\" class=\"dataframe\">\n",
       "  <thead>\n",
       "    <tr style=\"text-align: right;\">\n",
       "      <th></th>\n",
       "      <th>Kr.sand</th>\n",
       "    </tr>\n",
       "    <tr>\n",
       "      <th>timestamp</th>\n",
       "      <th></th>\n",
       "    </tr>\n",
       "  </thead>\n",
       "  <tbody>\n",
       "    <tr>\n",
       "      <th>2020-01-01 00:00:00</th>\n",
       "      <td>313,86</td>\n",
       "    </tr>\n",
       "    <tr>\n",
       "      <th>2020-01-01 01:00:00</th>\n",
       "      <td>313,36</td>\n",
       "    </tr>\n",
       "    <tr>\n",
       "      <th>2020-01-01 02:00:00</th>\n",
       "      <td>311,39</td>\n",
       "    </tr>\n",
       "    <tr>\n",
       "      <th>2020-01-01 03:00:00</th>\n",
       "      <td>308,53</td>\n",
       "    </tr>\n",
       "    <tr>\n",
       "      <th>2020-01-01 04:00:00</th>\n",
       "      <td>303,01</td>\n",
       "    </tr>\n",
       "  </tbody>\n",
       "</table>\n",
       "</div>"
      ],
      "text/plain": [
       "                    Kr.sand\n",
       "timestamp                  \n",
       "2020-01-01 00:00:00  313,86\n",
       "2020-01-01 01:00:00  313,36\n",
       "2020-01-01 02:00:00  311,39\n",
       "2020-01-01 03:00:00  308,53\n",
       "2020-01-01 04:00:00  303,01"
      ]
     },
     "execution_count": 4,
     "metadata": {},
     "output_type": "execute_result"
    }
   ],
   "source": [
    "df.head()"
   ]
  },
  {
   "cell_type": "code",
   "execution_count": null,
   "metadata": {},
   "outputs": [],
   "source": []
  }
 ],
 "metadata": {
  "kernelspec": {
   "display_name": "Python 3",
   "language": "python",
   "name": "python3"
  },
  "language_info": {
   "codemirror_mode": {
    "name": "ipython",
    "version": 3
   },
   "file_extension": ".py",
   "mimetype": "text/x-python",
   "name": "python",
   "nbconvert_exporter": "python",
   "pygments_lexer": "ipython3",
   "version": "3.7.2"
  }
 },
 "nbformat": 4,
 "nbformat_minor": 4
}
