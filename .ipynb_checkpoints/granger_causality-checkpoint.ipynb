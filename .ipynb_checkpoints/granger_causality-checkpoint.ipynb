{
 "cells": [
  {
   "cell_type": "markdown",
   "metadata": {},
   "source": [
    "Test inspired by the workflow of these articles:\n",
    "\n",
    "* https://www.machinelearningplus.com/time-series/vector-autoregression-examples-python/\n",
    "* https://towardsdatascience.com/granger-causality-and-vector-auto-regressive-model-for-time-series-forecasting-3226a64889a6"
   ]
  },
  {
   "cell_type": "markdown",
   "metadata": {},
   "source": [
    "Granger’s causality tests the null hypothesis that the coefficients of past values in the regression equation is zero."
   ]
  },
  {
   "cell_type": "code",
   "execution_count": 5,
   "metadata": {},
   "outputs": [],
   "source": [
    "import pandas as pd\n",
    "import numpy as np\n",
    "from matplotlib import pyplot as plt\n",
    "%matplotlib inline"
   ]
  },
  {
   "cell_type": "code",
   "execution_count": 6,
   "metadata": {},
   "outputs": [],
   "source": [
    "df_raw = pd.read_csv('cleansed_data//all_consumption_metadata.csv', index_col=0, parse_dates=True,\n",
    "                    dtype={'loc_id': 'str', 'consumption_kvah':'float32', 'temperature':'float32', \n",
    "                           'el_price':'float32', 'oil_price':'float32'})"
   ]
  },
  {
   "cell_type": "code",
   "execution_count": 7,
   "metadata": {},
   "outputs": [
    {
     "data": {
      "text/html": [
       "<div>\n",
       "<style scoped>\n",
       "    .dataframe tbody tr th:only-of-type {\n",
       "        vertical-align: middle;\n",
       "    }\n",
       "\n",
       "    .dataframe tbody tr th {\n",
       "        vertical-align: top;\n",
       "    }\n",
       "\n",
       "    .dataframe thead th {\n",
       "        text-align: right;\n",
       "    }\n",
       "</style>\n",
       "<table border=\"1\" class=\"dataframe\">\n",
       "  <thead>\n",
       "    <tr style=\"text-align: right;\">\n",
       "      <th></th>\n",
       "      <th>loc_id</th>\n",
       "      <th>consumption_kvah</th>\n",
       "      <th>temperature</th>\n",
       "      <th>el_price</th>\n",
       "      <th>oil_price</th>\n",
       "    </tr>\n",
       "    <tr>\n",
       "      <th>time</th>\n",
       "      <th></th>\n",
       "      <th></th>\n",
       "      <th></th>\n",
       "      <th></th>\n",
       "      <th></th>\n",
       "    </tr>\n",
       "  </thead>\n",
       "  <tbody>\n",
       "    <tr>\n",
       "      <th>2018-01-01 00:00:00</th>\n",
       "      <td>0</td>\n",
       "      <td>27.0</td>\n",
       "      <td>5.5</td>\n",
       "      <td>26.33</td>\n",
       "      <td>66.730003</td>\n",
       "    </tr>\n",
       "    <tr>\n",
       "      <th>2018-01-01 01:00:00</th>\n",
       "      <td>0</td>\n",
       "      <td>27.5</td>\n",
       "      <td>5.0</td>\n",
       "      <td>26.43</td>\n",
       "      <td>66.730003</td>\n",
       "    </tr>\n",
       "    <tr>\n",
       "      <th>2018-01-01 02:00:00</th>\n",
       "      <td>0</td>\n",
       "      <td>27.0</td>\n",
       "      <td>4.8</td>\n",
       "      <td>26.10</td>\n",
       "      <td>66.730003</td>\n",
       "    </tr>\n",
       "  </tbody>\n",
       "</table>\n",
       "</div>"
      ],
      "text/plain": [
       "                    loc_id  consumption_kvah  temperature  el_price  oil_price\n",
       "time                                                                          \n",
       "2018-01-01 00:00:00      0              27.0          5.5     26.33  66.730003\n",
       "2018-01-01 01:00:00      0              27.5          5.0     26.43  66.730003\n",
       "2018-01-01 02:00:00      0              27.0          4.8     26.10  66.730003"
      ]
     },
     "execution_count": 7,
     "metadata": {},
     "output_type": "execute_result"
    }
   ],
   "source": [
    "df_raw.head(3)"
   ]
  },
  {
   "cell_type": "code",
   "execution_count": 8,
   "metadata": {},
   "outputs": [],
   "source": [
    "d = {}\n",
    "loc_ids = df_raw.loc_id.unique()\n",
    "\n",
    "for loc in loc_ids: d[loc] = df_raw[df_raw['loc_id']==loc]"
   ]
  },
  {
   "cell_type": "markdown",
   "metadata": {},
   "source": [
    "## 1 make series stationary"
   ]
  },
  {
   "cell_type": "code",
   "execution_count": 372,
   "metadata": {},
   "outputs": [
    {
     "data": {
      "text/html": [
       "<div>\n",
       "<style scoped>\n",
       "    .dataframe tbody tr th:only-of-type {\n",
       "        vertical-align: middle;\n",
       "    }\n",
       "\n",
       "    .dataframe tbody tr th {\n",
       "        vertical-align: top;\n",
       "    }\n",
       "\n",
       "    .dataframe thead th {\n",
       "        text-align: right;\n",
       "    }\n",
       "</style>\n",
       "<table border=\"1\" class=\"dataframe\">\n",
       "  <thead>\n",
       "    <tr style=\"text-align: right;\">\n",
       "      <th></th>\n",
       "      <th>consumption_kvah</th>\n",
       "      <th>temperature</th>\n",
       "      <th>el_price</th>\n",
       "    </tr>\n",
       "    <tr>\n",
       "      <th>time</th>\n",
       "      <th></th>\n",
       "      <th></th>\n",
       "      <th></th>\n",
       "    </tr>\n",
       "  </thead>\n",
       "  <tbody>\n",
       "    <tr>\n",
       "      <th>2018-01-01 00:00:00</th>\n",
       "      <td>27.0</td>\n",
       "      <td>5.5</td>\n",
       "      <td>26.33</td>\n",
       "    </tr>\n",
       "    <tr>\n",
       "      <th>2018-01-01 01:00:00</th>\n",
       "      <td>27.5</td>\n",
       "      <td>5.0</td>\n",
       "      <td>26.43</td>\n",
       "    </tr>\n",
       "    <tr>\n",
       "      <th>2018-01-01 02:00:00</th>\n",
       "      <td>27.0</td>\n",
       "      <td>4.8</td>\n",
       "      <td>26.10</td>\n",
       "    </tr>\n",
       "  </tbody>\n",
       "</table>\n",
       "</div>"
      ],
      "text/plain": [
       "                     consumption_kvah  temperature  el_price\n",
       "time                                                        \n",
       "2018-01-01 00:00:00              27.0          5.5     26.33\n",
       "2018-01-01 01:00:00              27.5          5.0     26.43\n",
       "2018-01-01 02:00:00              27.0          4.8     26.10"
      ]
     },
     "execution_count": 372,
     "metadata": {},
     "output_type": "execute_result"
    }
   ],
   "source": [
    "subset = d['0'].drop(['loc_id', 'oil_price'], axis=1)\n",
    "subset.head(3)"
   ]
  },
  {
   "cell_type": "code",
   "execution_count": 373,
   "metadata": {},
   "outputs": [],
   "source": [
    "from statsmodels.tsa.stattools import adfuller"
   ]
  },
  {
   "cell_type": "code",
   "execution_count": 374,
   "metadata": {},
   "outputs": [],
   "source": [
    "def pprint_adfuller(results):\n",
    "    \"\"\"\n",
    "    The null hypothesis of the Augmented Dickey-Fuller is that \n",
    "    there _is_ a unit root, with the alternative that there is no\n",
    "    unit root. If the pvalue is above a critical size, then we \n",
    "    cannot reject that there is a unit root. \n",
    "    \n",
    "    I.e. Test statistics < Critical value implies stationary\n",
    "    times series.\n",
    "    \"\"\"\n",
    "    print('Dickey-Fuller test results:')\n",
    "    print(f'Test statistics:\\t{results[0]:.4f}')\n",
    "    print(f\"\"\"Critical value 5%:\\t{results[4]['5%']:.4f}\"\"\")"
   ]
  },
  {
   "cell_type": "code",
   "execution_count": 375,
   "metadata": {},
   "outputs": [],
   "source": [
    "diff_subset = subset - subset.shift(-24)\n",
    "diff_subset = diff_subset.resample('M').mean().dropna()"
   ]
  },
  {
   "cell_type": "code",
   "execution_count": 376,
   "metadata": {},
   "outputs": [
    {
     "name": "stdout",
     "output_type": "stream",
     "text": [
      "Dickey-Fuller test results:\n",
      "Test statistics:\t-3.2978\n",
      "Critical value 5%:\t-3.0685\n"
     ]
    }
   ],
   "source": [
    "diff_t = adfuller(diff_subset['temperature'])\n",
    "pprint_adfuller(diff_t)"
   ]
  },
  {
   "cell_type": "code",
   "execution_count": 377,
   "metadata": {},
   "outputs": [
    {
     "name": "stdout",
     "output_type": "stream",
     "text": [
      "Dickey-Fuller test results:\n",
      "Test statistics:\t-5.3164\n",
      "Critical value 5%:\t-2.9865\n"
     ]
    }
   ],
   "source": [
    "diff_e = adfuller(diff_subset['el_price'])\n",
    "pprint_adfuller(diff_e)"
   ]
  },
  {
   "cell_type": "code",
   "execution_count": 378,
   "metadata": {},
   "outputs": [
    {
     "name": "stdout",
     "output_type": "stream",
     "text": [
      "Dickey-Fuller test results:\n",
      "Test statistics:\t-3.4865\n",
      "Critical value 5%:\t-2.9865\n"
     ]
    }
   ],
   "source": [
    "diff_c = adfuller(diff_subset['consumption_kvah'])\n",
    "pprint_adfuller(diff_c)"
   ]
  },
  {
   "cell_type": "code",
   "execution_count": 379,
   "metadata": {},
   "outputs": [],
   "source": [
    "from statsmodels.tsa.stattools import grangercausalitytests"
   ]
  },
  {
   "cell_type": "markdown",
   "metadata": {},
   "source": [
    "Wang, Professor Wei. (2013). Vertical Specialization and Trade Surplus in China: Chandos Asian Studies Series 48 (Chandos Asian Studies Series 1). Chandos Publishing."
   ]
  },
  {
   "cell_type": "code",
   "execution_count": 380,
   "metadata": {},
   "outputs": [],
   "source": [
    "def granger_matrix(dataframe, maxlag=6):\n",
    "    \"\"\"\n",
    "    \n",
    "    \"\"\"\n",
    "    \n",
    "    df = pd.DataFrame(columns=dataframe.columns, index=dataframe.columns)\n",
    "    for s in dataframe:\n",
    "        for t in dataframe:\n",
    "            r = grangercausalitytests(dataframe[[s, t]], maxlag=maxlag, verbose=False)\n",
    "            df.loc[s, t] = min([f\"\"\"{v[0]['ssr_ftest'][1]:.4f}\"\"\" for _, v in r.items()])\n",
    "            \n",
    "    return df"
   ]
  },
  {
   "cell_type": "code",
   "execution_count": 391,
   "metadata": {},
   "outputs": [
    {
     "data": {
      "text/html": [
       "<div>\n",
       "<style scoped>\n",
       "    .dataframe tbody tr th:only-of-type {\n",
       "        vertical-align: middle;\n",
       "    }\n",
       "\n",
       "    .dataframe tbody tr th {\n",
       "        vertical-align: top;\n",
       "    }\n",
       "\n",
       "    .dataframe thead th {\n",
       "        text-align: right;\n",
       "    }\n",
       "</style>\n",
       "<table border=\"1\" class=\"dataframe\">\n",
       "  <thead>\n",
       "    <tr style=\"text-align: right;\">\n",
       "      <th></th>\n",
       "      <th>consumption_kvah</th>\n",
       "      <th>temperature</th>\n",
       "      <th>el_price</th>\n",
       "    </tr>\n",
       "  </thead>\n",
       "  <tbody>\n",
       "    <tr>\n",
       "      <th>consumption_kvah</th>\n",
       "      <td>1.0000</td>\n",
       "      <td>0.4705</td>\n",
       "      <td>0.1228</td>\n",
       "    </tr>\n",
       "    <tr>\n",
       "      <th>temperature</th>\n",
       "      <td>0.6728</td>\n",
       "      <td>1.0000</td>\n",
       "      <td>0.4303</td>\n",
       "    </tr>\n",
       "    <tr>\n",
       "      <th>el_price</th>\n",
       "      <td>0.1737</td>\n",
       "      <td>0.0230</td>\n",
       "      <td>1.0000</td>\n",
       "    </tr>\n",
       "  </tbody>\n",
       "</table>\n",
       "</div>"
      ],
      "text/plain": [
       "                 consumption_kvah temperature el_price\n",
       "consumption_kvah           1.0000      0.4705   0.1228\n",
       "temperature                0.6728      1.0000   0.4303\n",
       "el_price                   0.1737      0.0230   1.0000"
      ]
     },
     "execution_count": 391,
     "metadata": {},
     "output_type": "execute_result"
    }
   ],
   "source": [
    "granger_matrix(diff_subset, maxlag=7)"
   ]
  },
  {
   "cell_type": "markdown",
   "metadata": {},
   "source": [
    "Cool!"
   ]
  },
  {
   "cell_type": "code",
   "execution_count": 370,
   "metadata": {},
   "outputs": [],
   "source": [
    "granger_matrices = {}\n",
    "\n",
    "for loc, df in d.items():\n",
    "    subset = df.copy().drop(['loc_id', 'oil_price'], axis=1)\n",
    "    \n",
    "    diff_subset = subset - subset.shift(-24)\n",
    "    diff_subset = diff_subset.resample('M').mean().dropna()\n",
    "    \n",
    "    maxlag = int((diff_subset.shape[0] - 1) / 3) - 1\n",
    "    \n",
    "    granger_matrices[loc] = granger_matrix(diff_subset, maxlag=maxlag)"
   ]
  },
  {
   "cell_type": "code",
   "execution_count": 371,
   "metadata": {},
   "outputs": [
    {
     "name": "stdout",
     "output_type": "stream",
     "text": [
      "P-values for customer 0\n",
      "                 consumption_kvah temperature el_price\n",
      "consumption_kvah           1.0000      0.4705   0.1228\n",
      "temperature                0.6728      1.0000   0.4303\n",
      "el_price                   0.1737      0.0230   1.0000\n",
      "\n",
      "P-values for customer 1\n",
      "                 consumption_kvah temperature el_price\n",
      "consumption_kvah           1.0000      0.5828   0.0762\n",
      "temperature                0.2452      1.0000   0.6140\n",
      "el_price                   0.1847      0.0150   1.0000\n",
      "\n",
      "P-values for customer 3\n",
      "                 consumption_kvah temperature el_price\n",
      "consumption_kvah           1.0000      0.0067   0.2181\n",
      "temperature                0.1797      1.0000   0.5946\n",
      "el_price                   0.1002      0.0233   1.0000\n",
      "\n",
      "P-values for customer 4\n",
      "                 consumption_kvah temperature el_price\n",
      "consumption_kvah           1.0000      0.0063   0.3431\n",
      "temperature                0.0000      1.0000   0.2299\n",
      "el_price                   0.2288      0.0010   1.0000\n",
      "\n",
      "P-values for customer 6\n",
      "                 consumption_kvah temperature el_price\n",
      "consumption_kvah           1.0000      0.2603   0.2038\n",
      "temperature                0.2276      1.0000   0.2453\n",
      "el_price                   0.1772      0.0286   1.0000\n",
      "\n",
      "P-values for customer 10\n",
      "                 consumption_kvah temperature el_price\n",
      "consumption_kvah           1.0000      0.0019   0.1000\n",
      "temperature                0.0950      1.0000   0.6246\n",
      "el_price                   0.0452      0.0328   1.0000\n",
      "\n",
      "P-values for customer 11\n",
      "                 consumption_kvah temperature el_price\n",
      "consumption_kvah           1.0000      0.0450   0.0903\n",
      "temperature                0.1187      1.0000   0.6246\n",
      "el_price                   0.4986      0.0328   1.0000\n",
      "\n",
      "P-values for customer 12\n",
      "                 consumption_kvah temperature el_price\n",
      "consumption_kvah           1.0000      0.1256   0.0110\n",
      "temperature                0.2424      1.0000   0.6140\n",
      "el_price                   0.2625      0.0150   1.0000\n",
      "\n",
      "P-values for customer 16\n",
      "                 consumption_kvah temperature el_price\n",
      "consumption_kvah           1.0000      0.3092   0.3443\n",
      "temperature                0.0753      1.0000   0.6425\n",
      "el_price                   0.2352      0.0690   1.0000\n",
      "\n",
      "P-values for customer 17\n",
      "                 consumption_kvah temperature el_price\n",
      "consumption_kvah           1.0000      0.3684   0.3205\n",
      "temperature                0.3017      1.0000   0.2991\n",
      "el_price                   0.1747      0.0021   1.0000\n",
      "\n",
      "P-values for customer 18\n",
      "                 consumption_kvah temperature el_price\n",
      "consumption_kvah           1.0000      0.0388   0.3122\n",
      "temperature                0.0871      1.0000   0.6623\n",
      "el_price                   0.1242      0.0086   1.0000\n",
      "\n",
      "P-values for customer 19\n",
      "                 consumption_kvah temperature el_price\n",
      "consumption_kvah           1.0000      0.1903   0.1820\n",
      "temperature                0.1095      1.0000   0.4122\n",
      "el_price                   0.1481      0.1244   1.0000\n",
      "\n",
      "P-values for customer 7\n",
      "                 consumption_kvah temperature el_price\n",
      "consumption_kvah           1.0000      0.3829   0.0403\n",
      "temperature                0.0080      1.0000   0.4022\n",
      "el_price                   0.0696      0.1204   1.0000\n",
      "\n",
      "P-values for customer 8\n",
      "                 consumption_kvah temperature el_price\n",
      "consumption_kvah           1.0000      0.5355   0.0809\n",
      "temperature                0.2818      1.0000   0.4260\n",
      "el_price                   0.3619      0.0075   1.0000\n",
      "\n",
      "P-values for customer 14\n",
      "                 consumption_kvah temperature el_price\n",
      "consumption_kvah           1.0000      0.4766   0.0071\n",
      "temperature                0.6396      1.0000   0.6148\n",
      "el_price                   0.4941      0.0258   1.0000\n",
      "\n",
      "P-values for customer 2\n",
      "                 consumption_kvah temperature el_price\n",
      "consumption_kvah           1.0000      0.4306   0.1024\n",
      "temperature                0.0972      1.0000   0.5901\n",
      "el_price                   0.0406      0.0249   1.0000\n",
      "\n",
      "P-values for customer 5\n",
      "                 consumption_kvah temperature el_price\n",
      "consumption_kvah           1.0000      0.1143   0.2008\n",
      "temperature                0.6956      1.0000   0.3324\n",
      "el_price                   0.2077      0.0145   1.0000\n",
      "\n",
      "P-values for customer 15\n",
      "                 consumption_kvah temperature el_price\n",
      "consumption_kvah           1.0000      0.4581   0.0617\n",
      "temperature                0.6702      1.0000   0.2743\n",
      "el_price                   0.1363      0.0160   1.0000\n",
      "\n",
      "P-values for customer 13\n",
      "                 consumption_kvah temperature el_price\n",
      "consumption_kvah           1.0000      0.6822   0.1567\n",
      "temperature                0.2424      1.0000   0.1833\n",
      "el_price                   0.5138      0.0870   1.0000\n",
      "\n",
      "P-values for customer 9\n",
      "                 consumption_kvah temperature el_price\n",
      "consumption_kvah           1.0000      0.6713   0.1487\n",
      "temperature                0.5773      1.0000   0.1749\n",
      "el_price                   0.4809      0.0240   1.0000\n",
      "\n"
     ]
    }
   ],
   "source": [
    "for k, v in granger_matrices.items():\n",
    "    print('P-values for customer', k)\n",
    "    print(v)\n",
    "    print()"
   ]
  },
  {
   "cell_type": "code",
   "execution_count": 625,
   "metadata": {},
   "outputs": [
    {
     "data": {
      "text/html": [
       "<div>\n",
       "<style scoped>\n",
       "    .dataframe tbody tr th:only-of-type {\n",
       "        vertical-align: middle;\n",
       "    }\n",
       "\n",
       "    .dataframe tbody tr th {\n",
       "        vertical-align: top;\n",
       "    }\n",
       "\n",
       "    .dataframe thead th {\n",
       "        text-align: right;\n",
       "    }\n",
       "</style>\n",
       "<table border=\"1\" class=\"dataframe\">\n",
       "  <thead>\n",
       "    <tr style=\"text-align: right;\">\n",
       "      <th></th>\n",
       "      <th>price</th>\n",
       "    </tr>\n",
       "  </thead>\n",
       "  <tbody>\n",
       "    <tr>\n",
       "      <th>2018-01-01 00:00:00</th>\n",
       "      <td>26.330000</td>\n",
       "    </tr>\n",
       "    <tr>\n",
       "      <th>2018-01-01 01:00:00</th>\n",
       "      <td>26.430000</td>\n",
       "    </tr>\n",
       "    <tr>\n",
       "      <th>2018-01-01 02:00:00</th>\n",
       "      <td>26.100000</td>\n",
       "    </tr>\n",
       "    <tr>\n",
       "      <th>2018-01-01 03:00:00</th>\n",
       "      <td>24.700001</td>\n",
       "    </tr>\n",
       "    <tr>\n",
       "      <th>2018-01-01 04:00:00</th>\n",
       "      <td>24.740000</td>\n",
       "    </tr>\n",
       "  </tbody>\n",
       "</table>\n",
       "</div>"
      ],
      "text/plain": [
       "                         price\n",
       "2018-01-01 00:00:00  26.330000\n",
       "2018-01-01 01:00:00  26.430000\n",
       "2018-01-01 02:00:00  26.100000\n",
       "2018-01-01 03:00:00  24.700001\n",
       "2018-01-01 04:00:00  24.740000"
      ]
     },
     "execution_count": 625,
     "metadata": {},
     "output_type": "execute_result"
    }
   ],
   "source": [
    "el = pd.read_csv('cleansed_data//Elspot_prices.csv', index_col=0, parse_dates=True, dtype='float32')\n",
    "el.head()"
   ]
  },
  {
   "cell_type": "code",
   "execution_count": 624,
   "metadata": {},
   "outputs": [
    {
     "data": {
      "text/html": [
       "<div>\n",
       "<style scoped>\n",
       "    .dataframe tbody tr th:only-of-type {\n",
       "        vertical-align: middle;\n",
       "    }\n",
       "\n",
       "    .dataframe tbody tr th {\n",
       "        vertical-align: top;\n",
       "    }\n",
       "\n",
       "    .dataframe thead th {\n",
       "        text-align: right;\n",
       "    }\n",
       "</style>\n",
       "<table border=\"1\" class=\"dataframe\">\n",
       "  <thead>\n",
       "    <tr style=\"text-align: right;\">\n",
       "      <th></th>\n",
       "      <th>price</th>\n",
       "      <th>date</th>\n",
       "    </tr>\n",
       "  </thead>\n",
       "  <tbody>\n",
       "    <tr>\n",
       "      <th>2017-04-06</th>\n",
       "      <td>53.619999</td>\n",
       "      <td>2017-04-06</td>\n",
       "    </tr>\n",
       "    <tr>\n",
       "      <th>2017-04-07</th>\n",
       "      <td>54.240002</td>\n",
       "      <td>2017-04-07</td>\n",
       "    </tr>\n",
       "    <tr>\n",
       "      <th>2017-04-08</th>\n",
       "      <td>54.240002</td>\n",
       "      <td>2017-04-08</td>\n",
       "    </tr>\n",
       "    <tr>\n",
       "      <th>2017-04-09</th>\n",
       "      <td>54.240002</td>\n",
       "      <td>2017-04-09</td>\n",
       "    </tr>\n",
       "    <tr>\n",
       "      <th>2017-04-10</th>\n",
       "      <td>54.790001</td>\n",
       "      <td>2017-04-10</td>\n",
       "    </tr>\n",
       "  </tbody>\n",
       "</table>\n",
       "</div>"
      ],
      "text/plain": [
       "                price        date\n",
       "2017-04-06  53.619999  2017-04-06\n",
       "2017-04-07  54.240002  2017-04-07\n",
       "2017-04-08  54.240002  2017-04-08\n",
       "2017-04-09  54.240002  2017-04-09\n",
       "2017-04-10  54.790001  2017-04-10"
      ]
     },
     "execution_count": 624,
     "metadata": {},
     "output_type": "execute_result"
    }
   ],
   "source": [
    "oil = pd.read_csv('cleansed_data//Oilspot_prices.csv', index_col=0, parse_dates=True, dtype='float32')\n",
    "oil['date'] = oil.index.date\n",
    "oil.head()"
   ]
  },
  {
   "cell_type": "code",
   "execution_count": 587,
   "metadata": {},
   "outputs": [
    {
     "data": {
      "text/html": [
       "<div>\n",
       "<style scoped>\n",
       "    .dataframe tbody tr th:only-of-type {\n",
       "        vertical-align: middle;\n",
       "    }\n",
       "\n",
       "    .dataframe tbody tr th {\n",
       "        vertical-align: top;\n",
       "    }\n",
       "\n",
       "    .dataframe thead th {\n",
       "        text-align: right;\n",
       "    }\n",
       "</style>\n",
       "<table border=\"1\" class=\"dataframe\">\n",
       "  <thead>\n",
       "    <tr style=\"text-align: right;\">\n",
       "      <th></th>\n",
       "      <th>weather_station</th>\n",
       "      <th>temperature</th>\n",
       "    </tr>\n",
       "  </thead>\n",
       "  <tbody>\n",
       "    <tr>\n",
       "      <th>2018-01-01 00:00:00</th>\n",
       "      <td>SN35210</td>\n",
       "      <td>-0.3</td>\n",
       "    </tr>\n",
       "    <tr>\n",
       "      <th>2018-01-01 01:00:00</th>\n",
       "      <td>SN35210</td>\n",
       "      <td>-0.5</td>\n",
       "    </tr>\n",
       "    <tr>\n",
       "      <th>2018-01-01 02:00:00</th>\n",
       "      <td>SN35210</td>\n",
       "      <td>-1.4</td>\n",
       "    </tr>\n",
       "  </tbody>\n",
       "</table>\n",
       "</div>"
      ],
      "text/plain": [
       "                    weather_station  temperature\n",
       "2018-01-01 00:00:00         SN35210         -0.3\n",
       "2018-01-01 01:00:00         SN35210         -0.5\n",
       "2018-01-01 02:00:00         SN35210         -1.4"
      ]
     },
     "execution_count": 587,
     "metadata": {},
     "output_type": "execute_result"
    }
   ],
   "source": [
    "w = pd.read_csv('cleansed_data//Weather.csv', index_col=0, parse_dates=True, dtype={'weather_station':'str', 'temperature':'float32'})\n",
    "w.head(3)"
   ]
  },
  {
   "cell_type": "code",
   "execution_count": 588,
   "metadata": {},
   "outputs": [],
   "source": [
    "date_range = pd.date_range(start=min(w.index), end=max(w.index), freq='H')"
   ]
  },
  {
   "cell_type": "code",
   "execution_count": 556,
   "metadata": {},
   "outputs": [],
   "source": [
    "mean_weather = pd.DataFrame(index=date_range, columns=['temperature'])"
   ]
  },
  {
   "cell_type": "code",
   "execution_count": 557,
   "metadata": {},
   "outputs": [],
   "source": [
    "mean_weather['temperature'] = [np.nanmean(w.loc[ind]['temperature']) for ind in date_range]"
   ]
  },
  {
   "cell_type": "code",
   "execution_count": 558,
   "metadata": {},
   "outputs": [
    {
     "data": {
      "text/html": [
       "<div>\n",
       "<style scoped>\n",
       "    .dataframe tbody tr th:only-of-type {\n",
       "        vertical-align: middle;\n",
       "    }\n",
       "\n",
       "    .dataframe tbody tr th {\n",
       "        vertical-align: top;\n",
       "    }\n",
       "\n",
       "    .dataframe thead th {\n",
       "        text-align: right;\n",
       "    }\n",
       "</style>\n",
       "<table border=\"1\" class=\"dataframe\">\n",
       "  <thead>\n",
       "    <tr style=\"text-align: right;\">\n",
       "      <th></th>\n",
       "      <th>temperature</th>\n",
       "    </tr>\n",
       "  </thead>\n",
       "  <tbody>\n",
       "    <tr>\n",
       "      <th>2018-01-01 00:00:00</th>\n",
       "      <td>4.654545</td>\n",
       "    </tr>\n",
       "    <tr>\n",
       "      <th>2018-01-01 01:00:00</th>\n",
       "      <td>4.418182</td>\n",
       "    </tr>\n",
       "    <tr>\n",
       "      <th>2018-01-01 02:00:00</th>\n",
       "      <td>4.309091</td>\n",
       "    </tr>\n",
       "  </tbody>\n",
       "</table>\n",
       "</div>"
      ],
      "text/plain": [
       "                     temperature\n",
       "2018-01-01 00:00:00     4.654545\n",
       "2018-01-01 01:00:00     4.418182\n",
       "2018-01-01 02:00:00     4.309091"
      ]
     },
     "execution_count": 558,
     "metadata": {},
     "output_type": "execute_result"
    }
   ],
   "source": [
    "mean_weather.head(3)"
   ]
  },
  {
   "cell_type": "code",
   "execution_count": 611,
   "metadata": {},
   "outputs": [],
   "source": [
    "w_el = mean_weather.merge(el, how='inner', left_index=True, right_index=True)\n",
    "w_el['date'] = w_el.index.date\n",
    "w_el_oil = w_el.merge(oil, how='inner', left_on='date', right_on='date', suffixes=('_el', '_oil'))\n",
    "w_el_oil = w_el_oil.set_index('date')\n",
    "w_el_oil.index = pd.to_datetime(w_el_oil.index)"
   ]
  },
  {
   "cell_type": "code",
   "execution_count": 612,
   "metadata": {},
   "outputs": [
    {
     "data": {
      "text/html": [
       "<div>\n",
       "<style scoped>\n",
       "    .dataframe tbody tr th:only-of-type {\n",
       "        vertical-align: middle;\n",
       "    }\n",
       "\n",
       "    .dataframe tbody tr th {\n",
       "        vertical-align: top;\n",
       "    }\n",
       "\n",
       "    .dataframe thead th {\n",
       "        text-align: right;\n",
       "    }\n",
       "</style>\n",
       "<table border=\"1\" class=\"dataframe\">\n",
       "  <thead>\n",
       "    <tr style=\"text-align: right;\">\n",
       "      <th></th>\n",
       "      <th>temperature</th>\n",
       "      <th>price_el</th>\n",
       "      <th>price_oil</th>\n",
       "    </tr>\n",
       "    <tr>\n",
       "      <th>date</th>\n",
       "      <th></th>\n",
       "      <th></th>\n",
       "      <th></th>\n",
       "    </tr>\n",
       "  </thead>\n",
       "  <tbody>\n",
       "    <tr>\n",
       "      <th>2018-01-01</th>\n",
       "      <td>4.654545</td>\n",
       "      <td>26.33</td>\n",
       "      <td>66.730003</td>\n",
       "    </tr>\n",
       "    <tr>\n",
       "      <th>2018-01-01</th>\n",
       "      <td>4.418182</td>\n",
       "      <td>26.43</td>\n",
       "      <td>66.730003</td>\n",
       "    </tr>\n",
       "    <tr>\n",
       "      <th>2018-01-01</th>\n",
       "      <td>4.309091</td>\n",
       "      <td>26.10</td>\n",
       "      <td>66.730003</td>\n",
       "    </tr>\n",
       "  </tbody>\n",
       "</table>\n",
       "</div>"
      ],
      "text/plain": [
       "            temperature  price_el  price_oil\n",
       "date                                        \n",
       "2018-01-01     4.654545     26.33  66.730003\n",
       "2018-01-01     4.418182     26.43  66.730003\n",
       "2018-01-01     4.309091     26.10  66.730003"
      ]
     },
     "execution_count": 612,
     "metadata": {},
     "output_type": "execute_result"
    }
   ],
   "source": [
    "w_el_oil.head(3)"
   ]
  },
  {
   "cell_type": "code",
   "execution_count": 613,
   "metadata": {},
   "outputs": [],
   "source": [
    "diff_w_el_oil = (w_el_oil - w_el_oil.shift(-24)).resample('M').mean().dropna()"
   ]
  },
  {
   "cell_type": "code",
   "execution_count": 614,
   "metadata": {},
   "outputs": [
    {
     "name": "stdout",
     "output_type": "stream",
     "text": [
      "Dickey-Fuller test results:\n",
      "Test statistics:\t-5.7503\n",
      "Critical value 5%:\t-3.0685\n"
     ]
    }
   ],
   "source": [
    "_ = adfuller(diff_w_el_oil['temperature'])\n",
    "pprint_adfuller(_)"
   ]
  },
  {
   "cell_type": "code",
   "execution_count": 617,
   "metadata": {},
   "outputs": [
    {
     "name": "stdout",
     "output_type": "stream",
     "text": [
      "Dickey-Fuller test results:\n",
      "Test statistics:\t-4.6505\n",
      "Critical value 5%:\t-2.9865\n"
     ]
    }
   ],
   "source": [
    "_ = adfuller(diff_w_el_oil['price_el'])\n",
    "pprint_adfuller(_)"
   ]
  },
  {
   "cell_type": "code",
   "execution_count": 618,
   "metadata": {},
   "outputs": [
    {
     "name": "stdout",
     "output_type": "stream",
     "text": [
      "Dickey-Fuller test results:\n",
      "Test statistics:\t-3.5099\n",
      "Critical value 5%:\t-2.9985\n"
     ]
    }
   ],
   "source": [
    "_ = adfuller(diff_w_el_oil['price_oil'])\n",
    "pprint_adfuller(_)"
   ]
  },
  {
   "cell_type": "code",
   "execution_count": 623,
   "metadata": {},
   "outputs": [
    {
     "data": {
      "text/html": [
       "<div>\n",
       "<style scoped>\n",
       "    .dataframe tbody tr th:only-of-type {\n",
       "        vertical-align: middle;\n",
       "    }\n",
       "\n",
       "    .dataframe tbody tr th {\n",
       "        vertical-align: top;\n",
       "    }\n",
       "\n",
       "    .dataframe thead th {\n",
       "        text-align: right;\n",
       "    }\n",
       "</style>\n",
       "<table border=\"1\" class=\"dataframe\">\n",
       "  <thead>\n",
       "    <tr style=\"text-align: right;\">\n",
       "      <th></th>\n",
       "      <th>temperature</th>\n",
       "      <th>price_el</th>\n",
       "      <th>price_oil</th>\n",
       "    </tr>\n",
       "  </thead>\n",
       "  <tbody>\n",
       "    <tr>\n",
       "      <th>temperature</th>\n",
       "      <td>1.0000</td>\n",
       "      <td>0.5077</td>\n",
       "      <td>0.0977</td>\n",
       "    </tr>\n",
       "    <tr>\n",
       "      <th>price_el</th>\n",
       "      <td>0.0033</td>\n",
       "      <td>1.0000</td>\n",
       "      <td>0.2961</td>\n",
       "    </tr>\n",
       "    <tr>\n",
       "      <th>price_oil</th>\n",
       "      <td>0.4707</td>\n",
       "      <td>0.0272</td>\n",
       "      <td>1.0000</td>\n",
       "    </tr>\n",
       "  </tbody>\n",
       "</table>\n",
       "</div>"
      ],
      "text/plain": [
       "            temperature price_el price_oil\n",
       "temperature      1.0000   0.5077    0.0977\n",
       "price_el         0.0033   1.0000    0.2961\n",
       "price_oil        0.4707   0.0272    1.0000"
      ]
     },
     "execution_count": 623,
     "metadata": {},
     "output_type": "execute_result"
    }
   ],
   "source": [
    "granger_matrix(diff_w_el_oil, maxlag=6)"
   ]
  },
  {
   "cell_type": "code",
   "execution_count": 626,
   "metadata": {},
   "outputs": [],
   "source": [
    "diff_w_el_oil = (w_el_oil - w_el_oil.shift(-1)).resample('M').mean().dropna()"
   ]
  },
  {
   "cell_type": "code",
   "execution_count": 627,
   "metadata": {},
   "outputs": [
    {
     "name": "stdout",
     "output_type": "stream",
     "text": [
      "Dickey-Fuller test results:\n",
      "Test statistics:\t-5.6211\n",
      "Critical value 5%:\t-3.0685\n"
     ]
    }
   ],
   "source": [
    "_ = adfuller(diff_w_el_oil['temperature'])\n",
    "pprint_adfuller(_)"
   ]
  },
  {
   "cell_type": "code",
   "execution_count": 628,
   "metadata": {},
   "outputs": [
    {
     "name": "stdout",
     "output_type": "stream",
     "text": [
      "Dickey-Fuller test results:\n",
      "Test statistics:\t-4.9813\n",
      "Critical value 5%:\t-2.9865\n"
     ]
    }
   ],
   "source": [
    "_ = adfuller(diff_w_el_oil['price_el'])\n",
    "pprint_adfuller(_)"
   ]
  },
  {
   "cell_type": "code",
   "execution_count": 629,
   "metadata": {},
   "outputs": [
    {
     "name": "stdout",
     "output_type": "stream",
     "text": [
      "Dickey-Fuller test results:\n",
      "Test statistics:\t-3.5150\n",
      "Critical value 5%:\t-2.9985\n"
     ]
    }
   ],
   "source": [
    "_ = adfuller(diff_w_el_oil['price_oil'])\n",
    "pprint_adfuller(_)"
   ]
  },
  {
   "cell_type": "code",
   "execution_count": 630,
   "metadata": {},
   "outputs": [
    {
     "data": {
      "text/html": [
       "<div>\n",
       "<style scoped>\n",
       "    .dataframe tbody tr th:only-of-type {\n",
       "        vertical-align: middle;\n",
       "    }\n",
       "\n",
       "    .dataframe tbody tr th {\n",
       "        vertical-align: top;\n",
       "    }\n",
       "\n",
       "    .dataframe thead th {\n",
       "        text-align: right;\n",
       "    }\n",
       "</style>\n",
       "<table border=\"1\" class=\"dataframe\">\n",
       "  <thead>\n",
       "    <tr style=\"text-align: right;\">\n",
       "      <th></th>\n",
       "      <th>temperature</th>\n",
       "      <th>price_el</th>\n",
       "      <th>price_oil</th>\n",
       "    </tr>\n",
       "  </thead>\n",
       "  <tbody>\n",
       "    <tr>\n",
       "      <th>temperature</th>\n",
       "      <td>1.0000</td>\n",
       "      <td>0.8537</td>\n",
       "      <td>0.0797</td>\n",
       "    </tr>\n",
       "    <tr>\n",
       "      <th>price_el</th>\n",
       "      <td>0.0039</td>\n",
       "      <td>1.0000</td>\n",
       "      <td>0.2346</td>\n",
       "    </tr>\n",
       "    <tr>\n",
       "      <th>price_oil</th>\n",
       "      <td>0.5647</td>\n",
       "      <td>0.0208</td>\n",
       "      <td>1.0000</td>\n",
       "    </tr>\n",
       "  </tbody>\n",
       "</table>\n",
       "</div>"
      ],
      "text/plain": [
       "            temperature price_el price_oil\n",
       "temperature      1.0000   0.8537    0.0797\n",
       "price_el         0.0039   1.0000    0.2346\n",
       "price_oil        0.5647   0.0208    1.0000"
      ]
     },
     "execution_count": 630,
     "metadata": {},
     "output_type": "execute_result"
    }
   ],
   "source": [
    "granger_matrix(diff_w_el_oil, maxlag=6)"
   ]
  },
  {
   "cell_type": "code",
   "execution_count": null,
   "metadata": {},
   "outputs": [],
   "source": []
  }
 ],
 "metadata": {
  "kernelspec": {
   "display_name": "Python 3",
   "language": "python",
   "name": "python3"
  },
  "language_info": {
   "codemirror_mode": {
    "name": "ipython",
    "version": 3
   },
   "file_extension": ".py",
   "mimetype": "text/x-python",
   "name": "python",
   "nbconvert_exporter": "python",
   "pygments_lexer": "ipython3",
   "version": "3.7.2"
  }
 },
 "nbformat": 4,
 "nbformat_minor": 4
}
