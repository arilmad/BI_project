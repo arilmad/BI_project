{
 "cells": [
  {
   "cell_type": "markdown",
   "metadata": {},
   "source": [
    "This script fetches weather data from a weather station managed by the [Norwegian Meteorological Institute](https://www.met.no/en) and outputs it as a `.json`-file.\n",
    "\n",
    "The scripts connects to [The Frost API](https://frost.met.no/index.html) and is based on their [Python example script](https://frost.met.no/python_example.html) with a few modifications.\n",
    "\n",
    "**Please note**\n",
    " * The base stations in question for the UNIL Business Intelligence project are those listed in  `location_nearest_station.txt`.\n",
    " * [Weather and Climate Elements](https://frost.met.no/elementtable) shows all hypotethically available weather estimates. However, most turn out not to be available across the weather stations of variable sizes.\n",
    " * Because of previous point, stations with lower time resolution than one hour have been avoided in favor of stations a little farther away from the municipality for which the power consumption is registered.\n",
    " * Because of privacy issues, the consumption timeseries are only tagged with municipality, so speculating on where the closest weather station is will be a game of mere luck anyways. The distances are in any way so small that the temperature will be approximately the same.\n",
    " * The MAX air temperature over the past hour has been used, due to the fact that the MEAN function seems to malfunction."
   ]
  },
  {
   "cell_type": "code",
   "execution_count": null,
   "metadata": {},
   "outputs": [],
   "source": [
    "import requests\n",
    "from json import dump\n",
    "import os"
   ]
  },
  {
   "cell_type": "code",
   "execution_count": null,
   "metadata": {},
   "outputs": [],
   "source": [
    "# Retrieve client id from local creds.txt file\n",
    "d = {}\n",
    "with open('../frost_api/creds.txt', 'r') as f:\n",
    "    for l in f.readlines(): d[l.split()[0]] = l.split()[1]\n",
    "client_id = d['client_id']"
   ]
  },
  {
   "cell_type": "code",
   "execution_count": null,
   "metadata": {},
   "outputs": [],
   "source": [
    "# Retrieve station IDs from location_nearest_station.txt\n",
    "with open('location_nearest_station.txt', 'r') as f:\n",
    "    data = f.read()\n",
    "loc_ids = np.unique([l.split()[1] for l in data.split('\\n')[7:]])"
   ]
  },
  {
   "cell_type": "code",
   "execution_count": null,
   "metadata": {},
   "outputs": [],
   "source": [
    "loc_id = loc_ids[0] # Or iterate through.."
   ]
  },
  {
   "cell_type": "code",
   "execution_count": null,
   "metadata": {},
   "outputs": [],
   "source": [
    "endpoint = 'https://frost.met.no/observations/v0.jsonld'\n",
    "parameters = {\n",
    "    'sources': f'{loc_id}',\n",
    "    'elements': 'max(air_temperature PT1H)',\n",
    "    'referencetime': '2018-01-01/2020-03-01',\n",
    "}\n",
    "\n",
    "# Issue an HTTP GET request\n",
    "r = requests.get(endpoint, parameters, auth=(client_id,''))\n",
    "# Extract JSON data\n",
    "json = r.json()\n",
    "toc = time()"
   ]
  },
  {
   "cell_type": "code",
   "execution_count": null,
   "metadata": {},
   "outputs": [],
   "source": [
    "# Check if the request worked, print out any errors\n",
    "if r.status_code == 200:\n",
    "    print('Data retrieved from frost.met.no!')\n",
    "else:\n",
    "    print('Error! Returned status code %s' % r.status_code)\n",
    "    print('Message: %s' % json['error']['message'])\n",
    "    print('Reason: %s' % json['error']['reason'])"
   ]
  },
  {
   "cell_type": "code",
   "execution_count": null,
   "metadata": {},
   "outputs": [],
   "source": [
    "len(json['data'])"
   ]
  },
  {
   "cell_type": "code",
   "execution_count": null,
   "metadata": {},
   "outputs": [],
   "source": [
    "json['data'][:2]"
   ]
  },
  {
   "cell_type": "code",
   "execution_count": null,
   "metadata": {},
   "outputs": [],
   "source": [
    "with open(f'weater_jsons/{loc_id}.json', 'w') as f:\n",
    "    dump(json, f)"
   ]
  }
 ],
 "metadata": {
  "kernelspec": {
   "display_name": "Python 3",
   "language": "python",
   "name": "python3"
  },
  "language_info": {
   "codemirror_mode": {
    "name": "ipython",
    "version": 3
   },
   "file_extension": ".py",
   "mimetype": "text/x-python",
   "name": "python",
   "nbconvert_exporter": "python",
   "pygments_lexer": "ipython3",
   "version": "3.7.2"
  }
 },
 "nbformat": 4,
 "nbformat_minor": 4
}
