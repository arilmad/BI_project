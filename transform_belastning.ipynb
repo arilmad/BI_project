{
 "cells": [
  {
   "cell_type": "code",
   "execution_count": 1,
   "metadata": {},
   "outputs": [],
   "source": [
    "from glob import glob\n",
    "import pandas as pd"
   ]
  },
  {
   "cell_type": "code",
   "execution_count": 2,
   "metadata": {},
   "outputs": [],
   "source": [
    "origin_folder = 'raw\\\\belastning_nettstasjon'\n",
    "destination_folder = 'src\\\\belastning_nettstasjon'"
   ]
  },
  {
   "cell_type": "code",
   "execution_count": 3,
   "metadata": {},
   "outputs": [
    {
     "name": "stdout",
     "output_type": "stream",
     "text": [
      "Transformed raw\\belastning_nettstasjon\\Belastning (0).xlsx\n",
      "Transformed raw\\belastning_nettstasjon\\Belastning (1).xlsx\n",
      "Transformed raw\\belastning_nettstasjon\\Belastning (10).xlsx\n",
      "Transformed raw\\belastning_nettstasjon\\Belastning (11).xlsx\n",
      "Transformed raw\\belastning_nettstasjon\\Belastning (12).xlsx\n",
      "Transformed raw\\belastning_nettstasjon\\Belastning (13).xlsx\n",
      "Transformed raw\\belastning_nettstasjon\\Belastning (14).xlsx\n",
      "Transformed raw\\belastning_nettstasjon\\Belastning (15).xlsx\n",
      "Transformed raw\\belastning_nettstasjon\\Belastning (16).xlsx\n",
      "Transformed raw\\belastning_nettstasjon\\Belastning (17).xlsx\n",
      "Transformed raw\\belastning_nettstasjon\\Belastning (18).xlsx\n",
      "Transformed raw\\belastning_nettstasjon\\Belastning (19).xlsx\n",
      "Transformed raw\\belastning_nettstasjon\\Belastning (2).xlsx\n",
      "Transformed raw\\belastning_nettstasjon\\Belastning (3).xlsx\n",
      "Transformed raw\\belastning_nettstasjon\\Belastning (4).xlsx\n",
      "Transformed raw\\belastning_nettstasjon\\Belastning (5).xlsx\n",
      "Transformed raw\\belastning_nettstasjon\\Belastning (6).xlsx\n",
      "Transformed raw\\belastning_nettstasjon\\Belastning (7).xlsx\n",
      "Transformed raw\\belastning_nettstasjon\\Belastning (8).xlsx\n",
      "Transformed raw\\belastning_nettstasjon\\Belastning (9).xlsx\n"
     ]
    }
   ],
   "source": [
    "for file_path in glob(origin_folder + '\\\\*.xlsx'):\n",
    "        \n",
    "    df = pd.read_excel(file_path).dropna()\n",
    "    df.columns = df.iloc[0].values\n",
    "    df = df.drop(1, axis=0)\n",
    "\n",
    "    try: df['Tid (Cet)'] = pd.to_datetime(df['Tid (Cet)'], format='%d-%m-%y %H:%M')\n",
    "    except: df['Tid (Cet)'] = pd.to_datetime(df['Tid (Cet)'], format='%Y-%m-%d %H:%M:%S')\n",
    "\n",
    "    file_name = file_path.split('\\\\')[-1]\n",
    "    \n",
    "    prefix = file_name.split()[0]\n",
    "    suffix = file_name.split()[-1].strip('().xlsx')\n",
    "    \n",
    "    df['loc_id'] = suffix\n",
    "\n",
    "    df.to_csv(destination_folder + f'\\\\{prefix}_{suffix}.csv')\n",
    "    \n",
    "    print('Transformed', file_path)"
   ]
  },
  {
   "cell_type": "code",
   "execution_count": null,
   "metadata": {},
   "outputs": [],
   "source": []
  }
 ],
 "metadata": {
  "kernelspec": {
   "display_name": "Python 3",
   "language": "python",
   "name": "python3"
  },
  "language_info": {
   "codemirror_mode": {
    "name": "ipython",
    "version": 3
   },
   "file_extension": ".py",
   "mimetype": "text/x-python",
   "name": "python",
   "nbconvert_exporter": "python",
   "pygments_lexer": "ipython3",
   "version": "3.7.2"
  }
 },
 "nbformat": 4,
 "nbformat_minor": 4
}
